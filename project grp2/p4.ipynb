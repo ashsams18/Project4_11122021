{
 "cells": [
  {
   "cell_type": "markdown",
   "id": "a21b66d9",
   "metadata": {},
   "source": [
    "# Raw Data Loading "
   ]
  },
  {
   "cell_type": "code",
   "execution_count": 1,
   "id": "bf428cc0",
   "metadata": {
    "id": "bf428cc0"
   },
   "outputs": [],
   "source": [
    "import pandas as pd\n",
    "import numpy as np\n",
    "import pandas as pd\n",
    "\n",
    "from sklearn.linear_model import LogisticRegression\n",
    "import numpy as np\n",
    "from matplotlib import pyplot as plt\n",
    "import seaborn as sns\n",
    "import matplotlib.pyplot as plt\n",
    "from sklearn.preprocessing import StandardScaler, MinMaxScaler, LabelEncoder\n",
    "from sklearn.model_selection import train_test_split\n",
    "from sklearn.tree import DecisionTreeClassifier, plot_tree\n",
    "from sklearn import metrics\n",
    "from sklearn import preprocessing\n",
    "from sklearn.ensemble import RandomForestClassifier\n",
    "from sklearn.datasets import make_classification"
   ]
  },
  {
   "cell_type": "code",
   "execution_count": 3,
   "id": "46a63c78",
   "metadata": {
    "colab": {
     "base_uri": "https://localhost:8080/"
    },
    "id": "46a63c78",
    "outputId": "3b6bb655-3a1a-44aa-fea2-0a6916ba6d6a"
   },
   "outputs": [
    {
     "name": "stderr",
     "output_type": "stream",
     "text": [
      "C:\\Anaconda38\\lib\\site-packages\\IPython\\core\\interactiveshell.py:3165: DtypeWarning: Columns (1,22) have mixed types.Specify dtype option on import or set low_memory=False.\n",
      "  has_raised = await self.run_ast_nodes(code_ast.body, cell_name,\n"
     ]
    }
   ],
   "source": [
    "f = './Resources/all_races05_19.csv'\n",
    "X = pd.read_csv(f)"
   ]
  },
  {
   "cell_type": "code",
   "execution_count": 4,
   "id": "49c83547",
   "metadata": {
    "colab": {
     "base_uri": "https://localhost:8080/",
     "height": 165
    },
    "id": "49c83547",
    "outputId": "93651c4c-c64f-45f8-fba3-ab86186998b5",
    "scrolled": false
   },
   "outputs": [
    {
     "data": {
      "text/html": [
       "<div>\n",
       "<style scoped>\n",
       "    .dataframe tbody tr th:only-of-type {\n",
       "        vertical-align: middle;\n",
       "    }\n",
       "\n",
       "    .dataframe tbody tr th {\n",
       "        vertical-align: top;\n",
       "    }\n",
       "\n",
       "    .dataframe thead th {\n",
       "        text-align: right;\n",
       "    }\n",
       "</style>\n",
       "<table border=\"1\" class=\"dataframe\">\n",
       "  <thead>\n",
       "    <tr style=\"text-align: right;\">\n",
       "      <th></th>\n",
       "      <th>race_ID</th>\n",
       "      <th>date</th>\n",
       "      <th>course</th>\n",
       "      <th>time</th>\n",
       "      <th>race_name</th>\n",
       "      <th>class</th>\n",
       "      <th>band</th>\n",
       "      <th>dist.f.</th>\n",
       "      <th>dist.m.</th>\n",
       "      <th>going</th>\n",
       "      <th>...</th>\n",
       "      <th>rpr</th>\n",
       "      <th>sire</th>\n",
       "      <th>dam</th>\n",
       "      <th>damsire</th>\n",
       "      <th>comment</th>\n",
       "      <th>dec_clean</th>\n",
       "      <th>prob</th>\n",
       "      <th>exp_chance</th>\n",
       "      <th>act_score</th>\n",
       "      <th>prize_money</th>\n",
       "    </tr>\n",
       "  </thead>\n",
       "  <tbody>\n",
       "    <tr>\n",
       "      <th>0</th>\n",
       "      <td>RID1002-IE-05</td>\n",
       "      <td>2005-04-24</td>\n",
       "      <td>Cork</td>\n",
       "      <td>5:25</td>\n",
       "      <td>Coolmore Brian Boru (Pro-Am) INH Flat Race (Di...</td>\n",
       "      <td>NaN</td>\n",
       "      <td>4yo+</td>\n",
       "      <td>18.0</td>\n",
       "      <td>3600</td>\n",
       "      <td>Heavy</td>\n",
       "      <td>...</td>\n",
       "      <td>103.0</td>\n",
       "      <td>Un Desperado (FR)</td>\n",
       "      <td>Connaught Lace (GB)</td>\n",
       "      <td>Connaught</td>\n",
       "      <td>Tracked leaders - keen hold early - 2nd approa...</td>\n",
       "      <td>7.0</td>\n",
       "      <td>0.125</td>\n",
       "      <td>0.05585</td>\n",
       "      <td>1</td>\n",
       "      <td>8292.0</td>\n",
       "    </tr>\n",
       "    <tr>\n",
       "      <th>1</th>\n",
       "      <td>RID1002-IE-05</td>\n",
       "      <td>2005-04-24</td>\n",
       "      <td>Cork</td>\n",
       "      <td>5:25</td>\n",
       "      <td>Coolmore Brian Boru (Pro-Am) INH Flat Race (Di...</td>\n",
       "      <td>NaN</td>\n",
       "      <td>4yo+</td>\n",
       "      <td>18.0</td>\n",
       "      <td>3600</td>\n",
       "      <td>Heavy</td>\n",
       "      <td>...</td>\n",
       "      <td>106.0</td>\n",
       "      <td>Zaffaran (USA)</td>\n",
       "      <td>Persian Argument (IRE)</td>\n",
       "      <td>Persian Mews</td>\n",
       "      <td>Mid-division - progress into 3rd approaching s...</td>\n",
       "      <td>4.0</td>\n",
       "      <td>0.200</td>\n",
       "      <td>0.08936</td>\n",
       "      <td>0</td>\n",
       "      <td>1932.0</td>\n",
       "    </tr>\n",
       "  </tbody>\n",
       "</table>\n",
       "<p>2 rows × 42 columns</p>\n",
       "</div>"
      ],
      "text/plain": [
       "         race_ID        date course  time  \\\n",
       "0  RID1002-IE-05  2005-04-24   Cork  5:25   \n",
       "1  RID1002-IE-05  2005-04-24   Cork  5:25   \n",
       "\n",
       "                                           race_name class  band  dist.f.  \\\n",
       "0  Coolmore Brian Boru (Pro-Am) INH Flat Race (Di...   NaN  4yo+     18.0   \n",
       "1  Coolmore Brian Boru (Pro-Am) INH Flat Race (Di...   NaN  4yo+     18.0   \n",
       "\n",
       "   dist.m.  going  ...    rpr               sire                     dam  \\\n",
       "0     3600  Heavy  ...  103.0  Un Desperado (FR)     Connaught Lace (GB)   \n",
       "1     3600  Heavy  ...  106.0     Zaffaran (USA)  Persian Argument (IRE)   \n",
       "\n",
       "        damsire                                            comment dec_clean  \\\n",
       "0     Connaught  Tracked leaders - keen hold early - 2nd approa...       7.0   \n",
       "1  Persian Mews  Mid-division - progress into 3rd approaching s...       4.0   \n",
       "\n",
       "    prob  exp_chance act_score prize_money  \n",
       "0  0.125     0.05585         1      8292.0  \n",
       "1  0.200     0.08936         0      1932.0  \n",
       "\n",
       "[2 rows x 42 columns]"
      ]
     },
     "execution_count": 4,
     "metadata": {},
     "output_type": "execute_result"
    }
   ],
   "source": [
    "X.head(2)"
   ]
  },
  {
   "cell_type": "code",
   "execution_count": 5,
   "id": "d0425ac5",
   "metadata": {
    "colab": {
     "base_uri": "https://localhost:8080/",
     "height": 165
    },
    "id": "d0425ac5",
    "outputId": "51a6f5b2-21f1-43fc-b4da-41ee2fcddeef"
   },
   "outputs": [
    {
     "data": {
      "text/plain": [
       "(744347, 42)"
      ]
     },
     "execution_count": 5,
     "metadata": {},
     "output_type": "execute_result"
    }
   ],
   "source": [
    "X.shape"
   ]
  },
  {
   "cell_type": "code",
   "execution_count": 6,
   "id": "9c96aafa",
   "metadata": {
    "id": "9c96aafa",
    "scrolled": true
   },
   "outputs": [],
   "source": [
    "# X.dtypes"
   ]
  },
  {
   "cell_type": "code",
   "execution_count": 7,
   "id": "362dbe98",
   "metadata": {
    "colab": {
     "base_uri": "https://localhost:8080/"
    },
    "id": "362dbe98",
    "outputId": "b57437f9-1cf9-4eaf-9a4b-e1d98e747020",
    "scrolled": true
   },
   "outputs": [
    {
     "data": {
      "text/plain": [
       "Index(['race_ID', 'date', 'course', 'time', 'race_name', 'class', 'band',\n",
       "       'dist.f.', 'dist.m.', 'going', 'season', 'race_group', 'race_type',\n",
       "       'Month', 'Year', 'Period', 'Runners', 'Race_Money', 'horse_name',\n",
       "       'trainer', 'jockey', 'pos', 'btn', 'sp', 'dec', 'age', 'weight', 'lbs',\n",
       "       'gear', 'fin_time', 'or', 'ts', 'rpr', 'sire', 'dam', 'damsire',\n",
       "       'comment', 'dec_clean', 'prob', 'exp_chance', 'act_score',\n",
       "       'prize_money'],\n",
       "      dtype='object')"
      ]
     },
     "execution_count": 7,
     "metadata": {},
     "output_type": "execute_result"
    }
   ],
   "source": [
    "X.columns"
   ]
  },
  {
   "cell_type": "code",
   "execution_count": 8,
   "id": "f3d11c16",
   "metadata": {
    "id": "f3d11c16"
   },
   "outputs": [],
   "source": [
    "# Take a look at the column variable: prop\n",
    "#print(df['prob'].sort_values(ascending=True))"
   ]
  },
  {
   "cell_type": "code",
   "execution_count": 9,
   "id": "_pabBJPiwrpH",
   "metadata": {
    "id": "_pabBJPiwrpH"
   },
   "outputs": [],
   "source": [
    "# Assign outcomes as 0 if prob <=0.09 and as 1 if prob >0.09\n",
    "#df['prob'] = [0 if x <=0.09 else 1 for x in df['prob']]"
   ]
  },
  {
   "cell_type": "code",
   "execution_count": 10,
   "id": "0dTpjzj0xoRo",
   "metadata": {
    "id": "0dTpjzj0xoRo"
   },
   "outputs": [],
   "source": [
    "# Assign X as dataframe of the features and y as a series of the outcome variable\n",
    "#X = df.drop(\"prob\", 1) \n",
    "#y = df.prob"
   ]
  },
  {
   "cell_type": "code",
   "execution_count": 11,
   "id": "SIdUcNvuyGp9",
   "metadata": {
    "id": "SIdUcNvuyGp9"
   },
   "outputs": [],
   "source": [
    "#y.shape"
   ]
  },
  {
   "cell_type": "code",
   "execution_count": null,
   "id": "KitH-dQhzHTx",
   "metadata": {
    "id": "KitH-dQhzHTx"
   },
   "outputs": [],
   "source": []
  },
  {
   "cell_type": "code",
   "execution_count": 12,
   "id": "XL4U21A-yLie",
   "metadata": {
    "colab": {
     "base_uri": "https://localhost:8080/"
    },
    "id": "XL4U21A-yLie",
    "outputId": "fcfa4d4f-032e-4568-c0ad-1ca03f40da0c"
   },
   "outputs": [
    {
     "data": {
      "text/plain": [
       "(744347, 42)"
      ]
     },
     "execution_count": 12,
     "metadata": {},
     "output_type": "execute_result"
    }
   ],
   "source": [
    "X.shape"
   ]
  },
  {
   "cell_type": "code",
   "execution_count": 13,
   "id": "139e1297",
   "metadata": {
    "colab": {
     "base_uri": "https://localhost:8080/"
    },
    "id": "139e1297",
    "outputId": "0899e3f7-e84f-4008-c760-4132332c0caa",
    "scrolled": true
   },
   "outputs": [
    {
     "name": "stdout",
     "output_type": "stream",
     "text": [
      "Feature 'race_ID' has 72896 unique categories\n",
      "Feature 'date' has 4727 unique categories\n",
      "Feature 'course' has 75 unique categories\n",
      "Feature 'time' has 220 unique categories\n",
      "Feature 'race_name' has 47228 unique categories\n",
      "Feature 'class' has 70 unique categories\n",
      "Feature 'band' has 57 unique categories\n",
      "Feature 'going' has 13 unique categories\n",
      "Feature 'race_group' has 4 unique categories\n",
      "Feature 'race_type' has 2 unique categories\n",
      "Feature 'Period' has 178 unique categories\n",
      "Feature 'horse_name' has 79591 unique categories\n",
      "Feature 'trainer' has 3766 unique categories\n",
      "Feature 'jockey' has 3108 unique categories\n",
      "Feature 'pos' has 41 unique categories\n",
      "Feature 'btn' has 1758 unique categories\n",
      "Feature 'sp' has 220 unique categories\n",
      "Feature 'weight' has 99 unique categories\n",
      "Feature 'gear' has 26 unique categories\n",
      "Feature 'fin_time' has 30968 unique categories\n",
      "Feature 'sire' has 2900 unique categories\n",
      "Feature 'dam' has 43027 unique categories\n",
      "Feature 'damsire' has 3793 unique categories\n",
      "Feature 'comment' has 703853 unique categories\n"
     ]
    }
   ],
   "source": [
    "for col_name in X.columns:\n",
    "    if X[col_name].dtypes == 'object':\n",
    "        unique_cat = len(X[col_name].unique())\n",
    "        print(\"Feature '{col_name}' has {unique_cat} unique categories\".format(col_name=col_name, unique_cat=unique_cat))"
   ]
  },
  {
   "cell_type": "code",
   "execution_count": 14,
   "id": "481a0793",
   "metadata": {
    "colab": {
     "base_uri": "https://localhost:8080/"
    },
    "id": "481a0793",
    "outputId": "a8ec3095-d1af-49c0-aff9-f72bebf91267",
    "scrolled": true
   },
   "outputs": [
    {
     "name": "stdout",
     "output_type": "stream",
     "text": [
      "Feature 'dist.f.' has 48 unique categories\n",
      "Feature 'Month' has 13 unique categories\n",
      "Feature 'Year' has 16 unique categories\n",
      "Feature 'Race_Money' has 4721 unique categories\n",
      "Feature 'dec' has 95 unique categories\n",
      "Feature 'or' has 155 unique categories\n",
      "Feature 'ts' has 181 unique categories\n",
      "Feature 'rpr' has 192 unique categories\n",
      "Feature 'dec_clean' has 95 unique categories\n",
      "Feature 'prob' has 95 unique categories\n",
      "Feature 'exp_chance' has 555032 unique categories\n",
      "Feature 'prize_money' has 14962 unique categories\n"
     ]
    }
   ],
   "source": [
    "for col_name in X.columns:\n",
    "    if X[col_name].dtypes == 'float64':\n",
    "        unique_cat = len(X[col_name].unique())\n",
    "        print(\"Feature '{col_name}' has {unique_cat} unique categories\".format(col_name=col_name, unique_cat=unique_cat))"
   ]
  },
  {
   "cell_type": "code",
   "execution_count": 15,
   "id": "V7OjKWyQ2mtq",
   "metadata": {
    "colab": {
     "base_uri": "https://localhost:8080/",
     "height": 271
    },
    "id": "V7OjKWyQ2mtq",
    "outputId": "2b701ee7-f02b-4463-f9bc-568a7364ffdf",
    "scrolled": true
   },
   "outputs": [
    {
     "data": {
      "text/html": [
       "<div>\n",
       "<style scoped>\n",
       "    .dataframe tbody tr th:only-of-type {\n",
       "        vertical-align: middle;\n",
       "    }\n",
       "\n",
       "    .dataframe tbody tr th {\n",
       "        vertical-align: top;\n",
       "    }\n",
       "\n",
       "    .dataframe thead th {\n",
       "        text-align: right;\n",
       "    }\n",
       "</style>\n",
       "<table border=\"1\" class=\"dataframe\">\n",
       "  <thead>\n",
       "    <tr style=\"text-align: right;\">\n",
       "      <th></th>\n",
       "      <th>race_ID</th>\n",
       "      <th>date</th>\n",
       "      <th>course</th>\n",
       "      <th>time</th>\n",
       "      <th>race_name</th>\n",
       "      <th>class</th>\n",
       "      <th>band</th>\n",
       "      <th>dist.f.</th>\n",
       "      <th>dist.m.</th>\n",
       "      <th>going</th>\n",
       "      <th>...</th>\n",
       "      <th>rpr</th>\n",
       "      <th>sire</th>\n",
       "      <th>dam</th>\n",
       "      <th>damsire</th>\n",
       "      <th>comment</th>\n",
       "      <th>dec_clean</th>\n",
       "      <th>prob</th>\n",
       "      <th>exp_chance</th>\n",
       "      <th>act_score</th>\n",
       "      <th>prize_money</th>\n",
       "    </tr>\n",
       "  </thead>\n",
       "  <tbody>\n",
       "    <tr>\n",
       "      <th>0</th>\n",
       "      <td>RID1002-IE-05</td>\n",
       "      <td>2005-04-24</td>\n",
       "      <td>Cork</td>\n",
       "      <td>5:25</td>\n",
       "      <td>Coolmore Brian Boru (Pro-Am) INH Flat Race (Di...</td>\n",
       "      <td>NaN</td>\n",
       "      <td>4yo+</td>\n",
       "      <td>18.0</td>\n",
       "      <td>3600</td>\n",
       "      <td>Heavy</td>\n",
       "      <td>...</td>\n",
       "      <td>103.0</td>\n",
       "      <td>Un Desperado (FR)</td>\n",
       "      <td>Connaught Lace (GB)</td>\n",
       "      <td>Connaught</td>\n",
       "      <td>Tracked leaders - keen hold early - 2nd approa...</td>\n",
       "      <td>7.0</td>\n",
       "      <td>0.125</td>\n",
       "      <td>0.05585</td>\n",
       "      <td>1</td>\n",
       "      <td>8292.0</td>\n",
       "    </tr>\n",
       "    <tr>\n",
       "      <th>1</th>\n",
       "      <td>RID1002-IE-05</td>\n",
       "      <td>2005-04-24</td>\n",
       "      <td>Cork</td>\n",
       "      <td>5:25</td>\n",
       "      <td>Coolmore Brian Boru (Pro-Am) INH Flat Race (Di...</td>\n",
       "      <td>NaN</td>\n",
       "      <td>4yo+</td>\n",
       "      <td>18.0</td>\n",
       "      <td>3600</td>\n",
       "      <td>Heavy</td>\n",
       "      <td>...</td>\n",
       "      <td>106.0</td>\n",
       "      <td>Zaffaran (USA)</td>\n",
       "      <td>Persian Argument (IRE)</td>\n",
       "      <td>Persian Mews</td>\n",
       "      <td>Mid-division - progress into 3rd approaching s...</td>\n",
       "      <td>4.0</td>\n",
       "      <td>0.200</td>\n",
       "      <td>0.08936</td>\n",
       "      <td>0</td>\n",
       "      <td>1932.0</td>\n",
       "    </tr>\n",
       "  </tbody>\n",
       "</table>\n",
       "<p>2 rows × 42 columns</p>\n",
       "</div>"
      ],
      "text/plain": [
       "         race_ID        date course  time  \\\n",
       "0  RID1002-IE-05  2005-04-24   Cork  5:25   \n",
       "1  RID1002-IE-05  2005-04-24   Cork  5:25   \n",
       "\n",
       "                                           race_name class  band  dist.f.  \\\n",
       "0  Coolmore Brian Boru (Pro-Am) INH Flat Race (Di...   NaN  4yo+     18.0   \n",
       "1  Coolmore Brian Boru (Pro-Am) INH Flat Race (Di...   NaN  4yo+     18.0   \n",
       "\n",
       "   dist.m.  going  ...    rpr               sire                     dam  \\\n",
       "0     3600  Heavy  ...  103.0  Un Desperado (FR)     Connaught Lace (GB)   \n",
       "1     3600  Heavy  ...  106.0     Zaffaran (USA)  Persian Argument (IRE)   \n",
       "\n",
       "        damsire                                            comment dec_clean  \\\n",
       "0     Connaught  Tracked leaders - keen hold early - 2nd approa...       7.0   \n",
       "1  Persian Mews  Mid-division - progress into 3rd approaching s...       4.0   \n",
       "\n",
       "    prob  exp_chance act_score prize_money  \n",
       "0  0.125     0.05585         1      8292.0  \n",
       "1  0.200     0.08936         0      1932.0  \n",
       "\n",
       "[2 rows x 42 columns]"
      ]
     },
     "execution_count": 15,
     "metadata": {},
     "output_type": "execute_result"
    }
   ],
   "source": [
    "X.head(2)"
   ]
  },
  {
   "cell_type": "markdown",
   "id": "a0e10d56",
   "metadata": {},
   "source": [
    "## Pre-processing"
   ]
  },
  {
   "cell_type": "code",
   "execution_count": 16,
   "id": "suYVtM3jzzEP",
   "metadata": {
    "colab": {
     "base_uri": "https://localhost:8080/",
     "height": 147
    },
    "id": "suYVtM3jzzEP",
    "outputId": "d6b532bd-3a58-436e-c7f8-fe0e1dda5736"
   },
   "outputs": [
    {
     "data": {
      "text/html": [
       "<div>\n",
       "<style scoped>\n",
       "    .dataframe tbody tr th:only-of-type {\n",
       "        vertical-align: middle;\n",
       "    }\n",
       "\n",
       "    .dataframe tbody tr th {\n",
       "        vertical-align: top;\n",
       "    }\n",
       "\n",
       "    .dataframe thead th {\n",
       "        text-align: right;\n",
       "    }\n",
       "</style>\n",
       "<table border=\"1\" class=\"dataframe\">\n",
       "  <thead>\n",
       "    <tr style=\"text-align: right;\">\n",
       "      <th></th>\n",
       "      <th>course</th>\n",
       "      <th>band</th>\n",
       "      <th>dist.m.</th>\n",
       "      <th>season</th>\n",
       "      <th>race_group</th>\n",
       "      <th>race_type</th>\n",
       "      <th>Race_Money</th>\n",
       "      <th>trainer</th>\n",
       "      <th>jockey</th>\n",
       "      <th>pos</th>\n",
       "      <th>btn</th>\n",
       "      <th>age</th>\n",
       "      <th>lbs</th>\n",
       "      <th>gear</th>\n",
       "      <th>or</th>\n",
       "      <th>ts</th>\n",
       "      <th>rpr</th>\n",
       "      <th>prob</th>\n",
       "      <th>prize_money</th>\n",
       "    </tr>\n",
       "  </thead>\n",
       "  <tbody>\n",
       "    <tr>\n",
       "      <th>0</th>\n",
       "      <td>Cork</td>\n",
       "      <td>4yo+</td>\n",
       "      <td>3600</td>\n",
       "      <td>5</td>\n",
       "      <td>Bumper</td>\n",
       "      <td>Even</td>\n",
       "      <td>11568.0</td>\n",
       "      <td>W P Mullins</td>\n",
       "      <td>Ms K Walsh</td>\n",
       "      <td>1</td>\n",
       "      <td>0</td>\n",
       "      <td>5</td>\n",
       "      <td>155</td>\n",
       "      <td>NaN</td>\n",
       "      <td>NaN</td>\n",
       "      <td>NaN</td>\n",
       "      <td>103.0</td>\n",
       "      <td>0.125</td>\n",
       "      <td>8292.0</td>\n",
       "    </tr>\n",
       "    <tr>\n",
       "      <th>1</th>\n",
       "      <td>Cork</td>\n",
       "      <td>4yo+</td>\n",
       "      <td>3600</td>\n",
       "      <td>5</td>\n",
       "      <td>Bumper</td>\n",
       "      <td>Even</td>\n",
       "      <td>11568.0</td>\n",
       "      <td>Thomas Gerard O'Leary</td>\n",
       "      <td>Robbie McNamara</td>\n",
       "      <td>2</td>\n",
       "      <td>1.5</td>\n",
       "      <td>5</td>\n",
       "      <td>160</td>\n",
       "      <td>NaN</td>\n",
       "      <td>NaN</td>\n",
       "      <td>NaN</td>\n",
       "      <td>106.0</td>\n",
       "      <td>0.200</td>\n",
       "      <td>1932.0</td>\n",
       "    </tr>\n",
       "  </tbody>\n",
       "</table>\n",
       "</div>"
      ],
      "text/plain": [
       "  course  band  dist.m.  season race_group race_type  Race_Money  \\\n",
       "0   Cork  4yo+     3600       5     Bumper      Even     11568.0   \n",
       "1   Cork  4yo+     3600       5     Bumper      Even     11568.0   \n",
       "\n",
       "                 trainer           jockey pos  btn  age  lbs gear  or  ts  \\\n",
       "0            W P Mullins       Ms K Walsh   1    0    5  155  NaN NaN NaN   \n",
       "1  Thomas Gerard O'Leary  Robbie McNamara   2  1.5    5  160  NaN NaN NaN   \n",
       "\n",
       "     rpr   prob  prize_money  \n",
       "0  103.0  0.125       8292.0  \n",
       "1  106.0  0.200       1932.0  "
      ]
     },
     "execution_count": 16,
     "metadata": {},
     "output_type": "execute_result"
    }
   ],
   "source": [
    "# drop also SP since its got to do with betteing price giving by bookers and does not impact the race\n",
    "X_df = X.drop(['race_ID', 'date', 'class','time','dist.f.','Month', 'Year', 'Period', 'Runners','fin_time', 'dec','weight','dec_clean','sire', 'dam', 'damsire', 'comment','race_name','going','sp','horse_name','exp_chance','act_score'],axis=1)\n",
    "X_df.head(2)"
   ]
  },
  {
   "cell_type": "markdown",
   "id": "0y3aQHb61_Y7",
   "metadata": {
    "id": "0y3aQHb61_Y7"
   },
   "source": []
  },
  {
   "cell_type": "code",
   "execution_count": 17,
   "id": "xuRtg-ZUzzT1",
   "metadata": {
    "colab": {
     "base_uri": "https://localhost:8080/"
    },
    "id": "xuRtg-ZUzzT1",
    "outputId": "31eb8f71-8deb-4dc4-b3d0-6e3b80b5a9d5"
   },
   "outputs": [
    {
     "data": {
      "text/plain": [
       "(126391, 19)"
      ]
     },
     "execution_count": 17,
     "metadata": {},
     "output_type": "execute_result"
    }
   ],
   "source": [
    "X_df = X_df.dropna()\n",
    "X_df.shape"
   ]
  },
  {
   "cell_type": "code",
   "execution_count": 18,
   "id": "bAHrE44DzzfV",
   "metadata": {
    "colab": {
     "base_uri": "https://localhost:8080/",
     "height": 167
    },
    "id": "bAHrE44DzzfV",
    "outputId": "13a746d6-1521-4b4d-89f8-1e8d168c72ee"
   },
   "outputs": [
    {
     "data": {
      "text/html": [
       "<div>\n",
       "<style scoped>\n",
       "    .dataframe tbody tr th:only-of-type {\n",
       "        vertical-align: middle;\n",
       "    }\n",
       "\n",
       "    .dataframe tbody tr th {\n",
       "        vertical-align: top;\n",
       "    }\n",
       "\n",
       "    .dataframe thead th {\n",
       "        text-align: right;\n",
       "    }\n",
       "</style>\n",
       "<table border=\"1\" class=\"dataframe\">\n",
       "  <thead>\n",
       "    <tr style=\"text-align: right;\">\n",
       "      <th></th>\n",
       "      <th>course</th>\n",
       "      <th>band</th>\n",
       "      <th>dist.m.</th>\n",
       "      <th>season</th>\n",
       "      <th>race_group</th>\n",
       "      <th>race_type</th>\n",
       "      <th>Race_Money</th>\n",
       "      <th>trainer</th>\n",
       "      <th>jockey</th>\n",
       "      <th>pos</th>\n",
       "      <th>btn</th>\n",
       "      <th>age</th>\n",
       "      <th>lbs</th>\n",
       "      <th>gear</th>\n",
       "      <th>or</th>\n",
       "      <th>ts</th>\n",
       "      <th>rpr</th>\n",
       "      <th>prob</th>\n",
       "      <th>prize_money</th>\n",
       "    </tr>\n",
       "  </thead>\n",
       "  <tbody>\n",
       "    <tr>\n",
       "      <th>432</th>\n",
       "      <td>Fairyhouse</td>\n",
       "      <td>4yo+</td>\n",
       "      <td>3200</td>\n",
       "      <td>5</td>\n",
       "      <td>Hurdle</td>\n",
       "      <td>Handicap</td>\n",
       "      <td>21690.0</td>\n",
       "      <td>Mervyn Torrens</td>\n",
       "      <td>Mr K H Clarke</td>\n",
       "      <td>4</td>\n",
       "      <td>7</td>\n",
       "      <td>5</td>\n",
       "      <td>134</td>\n",
       "      <td>t</td>\n",
       "      <td>90.0</td>\n",
       "      <td>89.0</td>\n",
       "      <td>92.0</td>\n",
       "      <td>0.058824</td>\n",
       "      <td>697.5</td>\n",
       "    </tr>\n",
       "    <tr>\n",
       "      <th>441</th>\n",
       "      <td>Fairyhouse</td>\n",
       "      <td>4yo+</td>\n",
       "      <td>3200</td>\n",
       "      <td>5</td>\n",
       "      <td>Hurdle</td>\n",
       "      <td>Handicap</td>\n",
       "      <td>21690.0</td>\n",
       "      <td>Noel Meade</td>\n",
       "      <td>Denis O'Regan</td>\n",
       "      <td>13</td>\n",
       "      <td>23.75</td>\n",
       "      <td>5</td>\n",
       "      <td>158</td>\n",
       "      <td>b</td>\n",
       "      <td>107.0</td>\n",
       "      <td>86.0</td>\n",
       "      <td>92.0</td>\n",
       "      <td>0.058824</td>\n",
       "      <td>0.0</td>\n",
       "    </tr>\n",
       "  </tbody>\n",
       "</table>\n",
       "</div>"
      ],
      "text/plain": [
       "         course  band  dist.m.  season race_group race_type  Race_Money  \\\n",
       "432  Fairyhouse  4yo+     3200       5     Hurdle  Handicap     21690.0   \n",
       "441  Fairyhouse  4yo+     3200       5     Hurdle  Handicap     21690.0   \n",
       "\n",
       "            trainer         jockey pos    btn  age  lbs gear     or    ts  \\\n",
       "432  Mervyn Torrens  Mr K H Clarke   4      7    5  134    t   90.0  89.0   \n",
       "441      Noel Meade  Denis O'Regan  13  23.75    5  158    b  107.0  86.0   \n",
       "\n",
       "      rpr      prob  prize_money  \n",
       "432  92.0  0.058824        697.5  \n",
       "441  92.0  0.058824          0.0  "
      ]
     },
     "execution_count": 18,
     "metadata": {},
     "output_type": "execute_result"
    }
   ],
   "source": [
    "X_df.head(2)"
   ]
  },
  {
   "cell_type": "code",
   "execution_count": 19,
   "id": "LIQuIAZQzzj5",
   "metadata": {
    "colab": {
     "base_uri": "https://localhost:8080/"
    },
    "id": "LIQuIAZQzzj5",
    "outputId": "a8f72d2b-f957-413b-bcf4-8e507738d98d"
   },
   "outputs": [
    {
     "name": "stdout",
     "output_type": "stream",
     "text": [
      "Feature 'course' has 67 unique categories\n",
      "Feature 'band' has 41 unique categories\n",
      "Feature 'race_group' has 4 unique categories\n",
      "Feature 'race_type' has 2 unique categories\n",
      "Feature 'trainer' has 2028 unique categories\n",
      "Feature 'jockey' has 1650 unique categories\n",
      "Feature 'pos' has 29 unique categories\n",
      "Feature 'btn' has 920 unique categories\n",
      "Feature 'gear' has 24 unique categories\n"
     ]
    }
   ],
   "source": [
    "for col_name in X_df.columns:\n",
    "    if X_df[col_name].dtypes == 'object':\n",
    "        unique_cat = len(X_df[col_name].unique())\n",
    "        print(\"Feature '{col_name}' has {unique_cat} unique categories\".format(col_name=col_name, unique_cat=unique_cat))"
   ]
  },
  {
   "cell_type": "code",
   "execution_count": 20,
   "id": "8-LGeNipzzoE",
   "metadata": {
    "colab": {
     "base_uri": "https://localhost:8080/"
    },
    "id": "8-LGeNipzzoE",
    "outputId": "7f89f5ed-3c7c-4294-87c2-5fa870e29676"
   },
   "outputs": [
    {
     "name": "stdout",
     "output_type": "stream",
     "text": [
      "Feature 'Race_Money' has 3688 unique categories\n",
      "Feature 'or' has 136 unique categories\n",
      "Feature 'ts' has 174 unique categories\n",
      "Feature 'rpr' has 185 unique categories\n",
      "Feature 'prob' has 88 unique categories\n",
      "Feature 'prize_money' has 7088 unique categories\n"
     ]
    }
   ],
   "source": [
    "for col_name in X_df.columns:\n",
    "    if X_df[col_name].dtypes == 'float64':\n",
    "        unique_cat = len(X_df[col_name].unique())\n",
    "        print(\"Feature '{col_name}' has {unique_cat} unique categories\".format(col_name=col_name, unique_cat=unique_cat))"
   ]
  },
  {
   "cell_type": "code",
   "execution_count": 21,
   "id": "GGZ9UfyGzzrn",
   "metadata": {
    "id": "GGZ9UfyGzzrn"
   },
   "outputs": [],
   "source": [
    "# X_df[\"band\"].value_counts()"
   ]
  },
  {
   "cell_type": "code",
   "execution_count": 22,
   "id": "1iu0hK7yzzv6",
   "metadata": {
    "colab": {
     "base_uri": "https://localhost:8080/",
     "height": 300
    },
    "id": "1iu0hK7yzzv6",
    "outputId": "cf4cfcc1-ec17-4c0a-ae58-879ca560ea1f"
   },
   "outputs": [
    {
     "data": {
      "text/html": [
       "<div>\n",
       "<style scoped>\n",
       "    .dataframe tbody tr th:only-of-type {\n",
       "        vertical-align: middle;\n",
       "    }\n",
       "\n",
       "    .dataframe tbody tr th {\n",
       "        vertical-align: top;\n",
       "    }\n",
       "\n",
       "    .dataframe thead th {\n",
       "        text-align: right;\n",
       "    }\n",
       "</style>\n",
       "<table border=\"1\" class=\"dataframe\">\n",
       "  <thead>\n",
       "    <tr style=\"text-align: right;\">\n",
       "      <th></th>\n",
       "      <th>index</th>\n",
       "      <th>band</th>\n",
       "    </tr>\n",
       "  </thead>\n",
       "  <tbody>\n",
       "    <tr>\n",
       "      <th>0</th>\n",
       "      <td>4yo+</td>\n",
       "      <td>77863</td>\n",
       "    </tr>\n",
       "    <tr>\n",
       "      <th>1</th>\n",
       "      <td>5yo+</td>\n",
       "      <td>32427</td>\n",
       "    </tr>\n",
       "    <tr>\n",
       "      <th>2</th>\n",
       "      <td>3yo+</td>\n",
       "      <td>6768</td>\n",
       "    </tr>\n",
       "    <tr>\n",
       "      <th>3</th>\n",
       "      <td>4yo+ M</td>\n",
       "      <td>3868</td>\n",
       "    </tr>\n",
       "    <tr>\n",
       "      <th>4</th>\n",
       "      <td>other</td>\n",
       "      <td>2758</td>\n",
       "    </tr>\n",
       "    <tr>\n",
       "      <th>5</th>\n",
       "      <td>6yo+</td>\n",
       "      <td>1051</td>\n",
       "    </tr>\n",
       "    <tr>\n",
       "      <th>6</th>\n",
       "      <td>4yo</td>\n",
       "      <td>960</td>\n",
       "    </tr>\n",
       "    <tr>\n",
       "      <th>7</th>\n",
       "      <td>4-7yo</td>\n",
       "      <td>696</td>\n",
       "    </tr>\n",
       "  </tbody>\n",
       "</table>\n",
       "</div>"
      ],
      "text/plain": [
       "    index   band\n",
       "0    4yo+  77863\n",
       "1    5yo+  32427\n",
       "2    3yo+   6768\n",
       "3  4yo+ M   3868\n",
       "4   other   2758\n",
       "5    6yo+   1051\n",
       "6     4yo    960\n",
       "7   4-7yo    696"
      ]
     },
     "execution_count": 22,
     "metadata": {},
     "output_type": "execute_result"
    }
   ],
   "source": [
    "# Reduce categorical variables (band)\n",
    "band_others = X_df['band'].value_counts().loc[lambda x: x<585]\n",
    "application_to_replace = band_others.index.tolist()\n",
    "for b in application_to_replace:\n",
    "    X_df['band'] = X_df['band'].replace(b,\"other\")\n",
    "# Confirm binning was successful\n",
    "X_df['band'].value_counts(sort=True).reset_index()"
   ]
  },
  {
   "cell_type": "code",
   "execution_count": 23,
   "id": "ccLAzRcIzzzs",
   "metadata": {
    "id": "ccLAzRcIzzzs"
   },
   "outputs": [],
   "source": [
    "# X_df[\"pos\"].value_counts()"
   ]
  },
  {
   "cell_type": "code",
   "execution_count": 24,
   "id": "m7FidsdK4ir6",
   "metadata": {
    "id": "m7FidsdK4ir6"
   },
   "outputs": [],
   "source": [
    "# Replace disqualified position (DSQ) as 26\n",
    "dX=X_df.replace(to_replace=\"DSQ\",value=29)"
   ]
  },
  {
   "cell_type": "code",
   "execution_count": 25,
   "id": "AS-Ap8eP4iwq",
   "metadata": {
    "colab": {
     "base_uri": "https://localhost:8080/",
     "height": 167
    },
    "id": "AS-Ap8eP4iwq",
    "outputId": "4455b1fc-56b1-4cee-c945-2f89c6670452"
   },
   "outputs": [
    {
     "data": {
      "text/html": [
       "<div>\n",
       "<style scoped>\n",
       "    .dataframe tbody tr th:only-of-type {\n",
       "        vertical-align: middle;\n",
       "    }\n",
       "\n",
       "    .dataframe tbody tr th {\n",
       "        vertical-align: top;\n",
       "    }\n",
       "\n",
       "    .dataframe thead th {\n",
       "        text-align: right;\n",
       "    }\n",
       "</style>\n",
       "<table border=\"1\" class=\"dataframe\">\n",
       "  <thead>\n",
       "    <tr style=\"text-align: right;\">\n",
       "      <th></th>\n",
       "      <th>course</th>\n",
       "      <th>band</th>\n",
       "      <th>dist.m.</th>\n",
       "      <th>season</th>\n",
       "      <th>race_group</th>\n",
       "      <th>race_type</th>\n",
       "      <th>Race_Money</th>\n",
       "      <th>trainer</th>\n",
       "      <th>jockey</th>\n",
       "      <th>pos</th>\n",
       "      <th>btn</th>\n",
       "      <th>age</th>\n",
       "      <th>lbs</th>\n",
       "      <th>gear</th>\n",
       "      <th>or</th>\n",
       "      <th>ts</th>\n",
       "      <th>rpr</th>\n",
       "      <th>prob</th>\n",
       "      <th>prize_money</th>\n",
       "    </tr>\n",
       "  </thead>\n",
       "  <tbody>\n",
       "    <tr>\n",
       "      <th>432</th>\n",
       "      <td>Fairyhouse</td>\n",
       "      <td>4yo+</td>\n",
       "      <td>3200</td>\n",
       "      <td>5</td>\n",
       "      <td>Hurdle</td>\n",
       "      <td>Handicap</td>\n",
       "      <td>21690.0</td>\n",
       "      <td>Mervyn Torrens</td>\n",
       "      <td>Mr K H Clarke</td>\n",
       "      <td>4</td>\n",
       "      <td>7</td>\n",
       "      <td>5</td>\n",
       "      <td>134</td>\n",
       "      <td>t</td>\n",
       "      <td>90.0</td>\n",
       "      <td>89.0</td>\n",
       "      <td>92.0</td>\n",
       "      <td>0.058824</td>\n",
       "      <td>697.5</td>\n",
       "    </tr>\n",
       "    <tr>\n",
       "      <th>441</th>\n",
       "      <td>Fairyhouse</td>\n",
       "      <td>4yo+</td>\n",
       "      <td>3200</td>\n",
       "      <td>5</td>\n",
       "      <td>Hurdle</td>\n",
       "      <td>Handicap</td>\n",
       "      <td>21690.0</td>\n",
       "      <td>Noel Meade</td>\n",
       "      <td>Denis O'Regan</td>\n",
       "      <td>13</td>\n",
       "      <td>23.75</td>\n",
       "      <td>5</td>\n",
       "      <td>158</td>\n",
       "      <td>b</td>\n",
       "      <td>107.0</td>\n",
       "      <td>86.0</td>\n",
       "      <td>92.0</td>\n",
       "      <td>0.058824</td>\n",
       "      <td>0.0</td>\n",
       "    </tr>\n",
       "  </tbody>\n",
       "</table>\n",
       "</div>"
      ],
      "text/plain": [
       "         course  band  dist.m.  season race_group race_type  Race_Money  \\\n",
       "432  Fairyhouse  4yo+     3200       5     Hurdle  Handicap     21690.0   \n",
       "441  Fairyhouse  4yo+     3200       5     Hurdle  Handicap     21690.0   \n",
       "\n",
       "            trainer         jockey pos    btn  age  lbs gear     or    ts  \\\n",
       "432  Mervyn Torrens  Mr K H Clarke   4      7    5  134    t   90.0  89.0   \n",
       "441      Noel Meade  Denis O'Regan  13  23.75    5  158    b  107.0  86.0   \n",
       "\n",
       "      rpr      prob  prize_money  \n",
       "432  92.0  0.058824        697.5  \n",
       "441  92.0  0.058824          0.0  "
      ]
     },
     "execution_count": 25,
     "metadata": {},
     "output_type": "execute_result"
    }
   ],
   "source": [
    "dX.head(2)"
   ]
  },
  {
   "cell_type": "code",
   "execution_count": 26,
   "id": "B4jr66T94i3C",
   "metadata": {
    "id": "B4jr66T94i3C"
   },
   "outputs": [],
   "source": [
    "# dX[\"pos\"].value_counts()"
   ]
  },
  {
   "cell_type": "code",
   "execution_count": 27,
   "id": "uO75sdnU4i70",
   "metadata": {
    "id": "uO75sdnU4i70"
   },
   "outputs": [],
   "source": [
    "# dX[\"btn\"].unique()"
   ]
  },
  {
   "cell_type": "code",
   "execution_count": 28,
   "id": "tCExS6nu4jAk",
   "metadata": {
    "id": "tCExS6nu4jAk"
   },
   "outputs": [],
   "source": [
    "# Replace string s03 in btn column with 53.3 (DSQ) as 26\n",
    "dX_df1=dX.replace(to_replace=\"s0.3\",value=50.3)"
   ]
  },
  {
   "cell_type": "code",
   "execution_count": 29,
   "id": "FUw4-4oy4jEz",
   "metadata": {
    "colab": {
     "base_uri": "https://localhost:8080/",
     "height": 167
    },
    "id": "FUw4-4oy4jEz",
    "outputId": "678c18b5-f0cb-4660-f597-443969f549b9"
   },
   "outputs": [
    {
     "data": {
      "text/html": [
       "<div>\n",
       "<style scoped>\n",
       "    .dataframe tbody tr th:only-of-type {\n",
       "        vertical-align: middle;\n",
       "    }\n",
       "\n",
       "    .dataframe tbody tr th {\n",
       "        vertical-align: top;\n",
       "    }\n",
       "\n",
       "    .dataframe thead th {\n",
       "        text-align: right;\n",
       "    }\n",
       "</style>\n",
       "<table border=\"1\" class=\"dataframe\">\n",
       "  <thead>\n",
       "    <tr style=\"text-align: right;\">\n",
       "      <th></th>\n",
       "      <th>course</th>\n",
       "      <th>band</th>\n",
       "      <th>dist.m.</th>\n",
       "      <th>season</th>\n",
       "      <th>race_group</th>\n",
       "      <th>race_type</th>\n",
       "      <th>Race_Money</th>\n",
       "      <th>trainer</th>\n",
       "      <th>jockey</th>\n",
       "      <th>pos</th>\n",
       "      <th>btn</th>\n",
       "      <th>age</th>\n",
       "      <th>lbs</th>\n",
       "      <th>gear</th>\n",
       "      <th>or</th>\n",
       "      <th>ts</th>\n",
       "      <th>rpr</th>\n",
       "      <th>prob</th>\n",
       "      <th>prize_money</th>\n",
       "    </tr>\n",
       "  </thead>\n",
       "  <tbody>\n",
       "    <tr>\n",
       "      <th>432</th>\n",
       "      <td>Fairyhouse</td>\n",
       "      <td>4yo+</td>\n",
       "      <td>3200</td>\n",
       "      <td>5</td>\n",
       "      <td>Hurdle</td>\n",
       "      <td>Handicap</td>\n",
       "      <td>21690.0</td>\n",
       "      <td>Mervyn Torrens</td>\n",
       "      <td>Mr K H Clarke</td>\n",
       "      <td>4</td>\n",
       "      <td>7</td>\n",
       "      <td>5</td>\n",
       "      <td>134</td>\n",
       "      <td>t</td>\n",
       "      <td>90.0</td>\n",
       "      <td>89.0</td>\n",
       "      <td>92.0</td>\n",
       "      <td>0.058824</td>\n",
       "      <td>697.5</td>\n",
       "    </tr>\n",
       "    <tr>\n",
       "      <th>441</th>\n",
       "      <td>Fairyhouse</td>\n",
       "      <td>4yo+</td>\n",
       "      <td>3200</td>\n",
       "      <td>5</td>\n",
       "      <td>Hurdle</td>\n",
       "      <td>Handicap</td>\n",
       "      <td>21690.0</td>\n",
       "      <td>Noel Meade</td>\n",
       "      <td>Denis O'Regan</td>\n",
       "      <td>13</td>\n",
       "      <td>23.75</td>\n",
       "      <td>5</td>\n",
       "      <td>158</td>\n",
       "      <td>b</td>\n",
       "      <td>107.0</td>\n",
       "      <td>86.0</td>\n",
       "      <td>92.0</td>\n",
       "      <td>0.058824</td>\n",
       "      <td>0.0</td>\n",
       "    </tr>\n",
       "  </tbody>\n",
       "</table>\n",
       "</div>"
      ],
      "text/plain": [
       "         course  band  dist.m.  season race_group race_type  Race_Money  \\\n",
       "432  Fairyhouse  4yo+     3200       5     Hurdle  Handicap     21690.0   \n",
       "441  Fairyhouse  4yo+     3200       5     Hurdle  Handicap     21690.0   \n",
       "\n",
       "            trainer         jockey pos    btn  age  lbs gear     or    ts  \\\n",
       "432  Mervyn Torrens  Mr K H Clarke   4      7    5  134    t   90.0  89.0   \n",
       "441      Noel Meade  Denis O'Regan  13  23.75    5  158    b  107.0  86.0   \n",
       "\n",
       "      rpr      prob  prize_money  \n",
       "432  92.0  0.058824        697.5  \n",
       "441  92.0  0.058824          0.0  "
      ]
     },
     "execution_count": 29,
     "metadata": {},
     "output_type": "execute_result"
    }
   ],
   "source": [
    "dX_df1.head(2)"
   ]
  },
  {
   "cell_type": "code",
   "execution_count": 33,
   "id": "PMK6i3Nn4jJr",
   "metadata": {
    "id": "PMK6i3Nn4jJr"
   },
   "outputs": [],
   "source": [
    "# dX_df1[\"btn\"].unique()\n",
    "a = dX_df1.replace(to_replace=\"s0.33\",value=50.33)\n",
    "b =a.replace(to_replace=\"dist\",value=0)\n",
    "c = b.replace(to_replace=\"sht-0.25\",value=0)"
   ]
  },
  {
   "cell_type": "code",
   "execution_count": 34,
   "id": "HT1DwbNyzz27",
   "metadata": {
    "colab": {
     "base_uri": "https://localhost:8080/",
     "height": 167
    },
    "id": "HT1DwbNyzz27",
    "outputId": "4b5139b2-01b3-433e-ede3-8c2546318dc3"
   },
   "outputs": [
    {
     "data": {
      "text/html": [
       "<div>\n",
       "<style scoped>\n",
       "    .dataframe tbody tr th:only-of-type {\n",
       "        vertical-align: middle;\n",
       "    }\n",
       "\n",
       "    .dataframe tbody tr th {\n",
       "        vertical-align: top;\n",
       "    }\n",
       "\n",
       "    .dataframe thead th {\n",
       "        text-align: right;\n",
       "    }\n",
       "</style>\n",
       "<table border=\"1\" class=\"dataframe\">\n",
       "  <thead>\n",
       "    <tr style=\"text-align: right;\">\n",
       "      <th></th>\n",
       "      <th>course</th>\n",
       "      <th>band</th>\n",
       "      <th>dist.m.</th>\n",
       "      <th>season</th>\n",
       "      <th>race_group</th>\n",
       "      <th>race_type</th>\n",
       "      <th>Race_Money</th>\n",
       "      <th>trainer</th>\n",
       "      <th>jockey</th>\n",
       "      <th>pos</th>\n",
       "      <th>btn</th>\n",
       "      <th>age</th>\n",
       "      <th>lbs</th>\n",
       "      <th>gear</th>\n",
       "      <th>or</th>\n",
       "      <th>ts</th>\n",
       "      <th>rpr</th>\n",
       "      <th>prob</th>\n",
       "      <th>prize_money</th>\n",
       "    </tr>\n",
       "  </thead>\n",
       "  <tbody>\n",
       "    <tr>\n",
       "      <th>432</th>\n",
       "      <td>Fairyhouse</td>\n",
       "      <td>4yo+</td>\n",
       "      <td>3200</td>\n",
       "      <td>5</td>\n",
       "      <td>Hurdle</td>\n",
       "      <td>Handicap</td>\n",
       "      <td>21690.0</td>\n",
       "      <td>Mervyn Torrens</td>\n",
       "      <td>Mr K H Clarke</td>\n",
       "      <td>4</td>\n",
       "      <td>7</td>\n",
       "      <td>5</td>\n",
       "      <td>134</td>\n",
       "      <td>t</td>\n",
       "      <td>90.0</td>\n",
       "      <td>89.0</td>\n",
       "      <td>92.0</td>\n",
       "      <td>0.058824</td>\n",
       "      <td>697.5</td>\n",
       "    </tr>\n",
       "    <tr>\n",
       "      <th>441</th>\n",
       "      <td>Fairyhouse</td>\n",
       "      <td>4yo+</td>\n",
       "      <td>3200</td>\n",
       "      <td>5</td>\n",
       "      <td>Hurdle</td>\n",
       "      <td>Handicap</td>\n",
       "      <td>21690.0</td>\n",
       "      <td>Noel Meade</td>\n",
       "      <td>Denis O'Regan</td>\n",
       "      <td>13</td>\n",
       "      <td>23.75</td>\n",
       "      <td>5</td>\n",
       "      <td>158</td>\n",
       "      <td>b</td>\n",
       "      <td>107.0</td>\n",
       "      <td>86.0</td>\n",
       "      <td>92.0</td>\n",
       "      <td>0.058824</td>\n",
       "      <td>0.0</td>\n",
       "    </tr>\n",
       "  </tbody>\n",
       "</table>\n",
       "</div>"
      ],
      "text/plain": [
       "         course  band  dist.m.  season race_group race_type  Race_Money  \\\n",
       "432  Fairyhouse  4yo+     3200       5     Hurdle  Handicap     21690.0   \n",
       "441  Fairyhouse  4yo+     3200       5     Hurdle  Handicap     21690.0   \n",
       "\n",
       "            trainer         jockey pos    btn  age  lbs gear     or    ts  \\\n",
       "432  Mervyn Torrens  Mr K H Clarke   4      7    5  134    t   90.0  89.0   \n",
       "441      Noel Meade  Denis O'Regan  13  23.75    5  158    b  107.0  86.0   \n",
       "\n",
       "      rpr      prob  prize_money  \n",
       "432  92.0  0.058824        697.5  \n",
       "441  92.0  0.058824          0.0  "
      ]
     },
     "execution_count": 34,
     "metadata": {},
     "output_type": "execute_result"
    }
   ],
   "source": [
    "c.head(2)"
   ]
  },
  {
   "cell_type": "code",
   "execution_count": 35,
   "id": "8inv1m3c5dEc",
   "metadata": {
    "id": "8inv1m3c5dEc"
   },
   "outputs": [],
   "source": [
    "d = c.astype({\"btn\": float})\n"
   ]
  },
  {
   "cell_type": "code",
   "execution_count": 36,
   "id": "3t8HqMYV5dIU",
   "metadata": {
    "colab": {
     "base_uri": "https://localhost:8080/"
    },
    "id": "3t8HqMYV5dIU",
    "outputId": "133bf4e2-2ba8-4c53-f61e-ea00360936ff"
   },
   "outputs": [
    {
     "data": {
      "text/plain": [
       "array(['4', '13', '15', '17', '19', '1', '3', '2', '5', '12', '11', '8',\n",
       "       '9', '6', '18', '7', '10', '14', '16', '20', '21', '22', 29, '24',\n",
       "       '25', '26', '23', '27', '28'], dtype=object)"
      ]
     },
     "execution_count": 36,
     "metadata": {},
     "output_type": "execute_result"
    }
   ],
   "source": [
    "c[\"pos\"].unique()"
   ]
  },
  {
   "cell_type": "code",
   "execution_count": 37,
   "id": "aRuQDeHYzz6u",
   "metadata": {
    "id": "aRuQDeHYzz6u"
   },
   "outputs": [],
   "source": [
    "final_df = d.astype({\"pos\": float})"
   ]
  },
  {
   "cell_type": "code",
   "execution_count": 38,
   "id": "D6rjP0_7573K",
   "metadata": {
    "colab": {
     "base_uri": "https://localhost:8080/"
    },
    "id": "D6rjP0_7573K",
    "outputId": "21b19567-129a-47ed-8565-ae24a9dc6113"
   },
   "outputs": [
    {
     "data": {
      "text/plain": [
       "course          object\n",
       "band            object\n",
       "dist.m.          int64\n",
       "season           int64\n",
       "race_group      object\n",
       "race_type       object\n",
       "Race_Money     float64\n",
       "trainer         object\n",
       "jockey          object\n",
       "pos            float64\n",
       "btn            float64\n",
       "age              int64\n",
       "lbs              int64\n",
       "gear            object\n",
       "or             float64\n",
       "ts             float64\n",
       "rpr            float64\n",
       "prob           float64\n",
       "prize_money    float64\n",
       "dtype: object"
      ]
     },
     "execution_count": 38,
     "metadata": {},
     "output_type": "execute_result"
    }
   ],
   "source": [
    "final_df.dtypes"
   ]
  },
  {
   "cell_type": "code",
   "execution_count": 39,
   "id": "rj43fdta578k",
   "metadata": {
    "colab": {
     "base_uri": "https://localhost:8080/"
    },
    "id": "rj43fdta578k",
    "outputId": "fd5a489b-32d1-4e72-d95b-06bd5254140f"
   },
   "outputs": [
    {
     "name": "stdout",
     "output_type": "stream",
     "text": [
      "Feature 'course' has 67 unique categories\n",
      "Feature 'band' has 8 unique categories\n",
      "Feature 'race_group' has 4 unique categories\n",
      "Feature 'race_type' has 2 unique categories\n",
      "Feature 'trainer' has 2028 unique categories\n",
      "Feature 'jockey' has 1650 unique categories\n",
      "Feature 'gear' has 24 unique categories\n"
     ]
    }
   ],
   "source": [
    "for col_name in final_df.columns:\n",
    "    if final_df[col_name].dtypes == 'object':\n",
    "        unique_cat = len(final_df[col_name].unique())\n",
    "        print(\"Feature '{col_name}' has {unique_cat} unique categories\".format(col_name=col_name, unique_cat=unique_cat))"
   ]
  },
  {
   "cell_type": "code",
   "execution_count": 40,
   "id": "bNEDVMTR58A_",
   "metadata": {
    "colab": {
     "base_uri": "https://localhost:8080/"
    },
    "id": "bNEDVMTR58A_",
    "outputId": "8940dd7d-d887-41dc-a449-ca28cdce06cf"
   },
   "outputs": [
    {
     "name": "stdout",
     "output_type": "stream",
     "text": [
      "Feature 'Race_Money' has 3688 unique categories\n",
      "Feature 'pos' has 29 unique categories\n",
      "Feature 'btn' has 496 unique categories\n",
      "Feature 'or' has 136 unique categories\n",
      "Feature 'ts' has 174 unique categories\n",
      "Feature 'rpr' has 185 unique categories\n",
      "Feature 'prob' has 88 unique categories\n",
      "Feature 'prize_money' has 7088 unique categories\n"
     ]
    }
   ],
   "source": [
    "for col_name in final_df.columns:\n",
    "    if final_df[col_name].dtypes == 'float64':\n",
    "        unique_cat = len(final_df[col_name].unique())\n",
    "        print(\"Feature '{col_name}' has {unique_cat} unique categories\".format(col_name=col_name, unique_cat=unique_cat))"
   ]
  },
  {
   "cell_type": "code",
   "execution_count": 41,
   "id": "zV3YZLKj6CQE",
   "metadata": {
    "colab": {
     "base_uri": "https://localhost:8080/"
    },
    "id": "zV3YZLKj6CQE",
    "outputId": "73c8b565-26a1-412a-a20e-8b450633f0f0"
   },
   "outputs": [
    {
     "data": {
      "text/plain": [
       "course         0\n",
       "band           0\n",
       "dist.m.        0\n",
       "season         0\n",
       "race_group     0\n",
       "race_type      0\n",
       "Race_Money     0\n",
       "trainer        0\n",
       "jockey         0\n",
       "pos            0\n",
       "btn            0\n",
       "age            0\n",
       "lbs            0\n",
       "gear           0\n",
       "or             0\n",
       "ts             0\n",
       "rpr            0\n",
       "prob           0\n",
       "prize_money    0\n",
       "dtype: int64"
      ]
     },
     "execution_count": 41,
     "metadata": {},
     "output_type": "execute_result"
    }
   ],
   "source": [
    "final_df.isnull().sum()"
   ]
  },
  {
   "cell_type": "code",
   "execution_count": 42,
   "id": "dBJrLbHy6CUO",
   "metadata": {
    "colab": {
     "base_uri": "https://localhost:8080/"
    },
    "id": "dBJrLbHy6CUO",
    "outputId": "52ecb6b2-2989-4d44-f8ea-e504bbbc1226"
   },
   "outputs": [
    {
     "data": {
      "text/plain": [
       "432       False\n",
       "441       False\n",
       "443       False\n",
       "445       False\n",
       "447       False\n",
       "          ...  \n",
       "744323    False\n",
       "744325    False\n",
       "744327    False\n",
       "744328    False\n",
       "744346    False\n",
       "Length: 126391, dtype: bool"
      ]
     },
     "execution_count": 42,
     "metadata": {},
     "output_type": "execute_result"
    }
   ],
   "source": [
    "final_df.duplicated()"
   ]
  },
  {
   "cell_type": "code",
   "execution_count": 43,
   "id": "r1eIRNhA6sAN",
   "metadata": {
    "colab": {
     "base_uri": "https://localhost:8080/",
     "height": 167
    },
    "id": "r1eIRNhA6sAN",
    "outputId": "1dba5b93-8e66-478d-edc0-7c2e272c8283"
   },
   "outputs": [
    {
     "data": {
      "text/html": [
       "<div>\n",
       "<style scoped>\n",
       "    .dataframe tbody tr th:only-of-type {\n",
       "        vertical-align: middle;\n",
       "    }\n",
       "\n",
       "    .dataframe tbody tr th {\n",
       "        vertical-align: top;\n",
       "    }\n",
       "\n",
       "    .dataframe thead th {\n",
       "        text-align: right;\n",
       "    }\n",
       "</style>\n",
       "<table border=\"1\" class=\"dataframe\">\n",
       "  <thead>\n",
       "    <tr style=\"text-align: right;\">\n",
       "      <th></th>\n",
       "      <th>course</th>\n",
       "      <th>band</th>\n",
       "      <th>dist.m.</th>\n",
       "      <th>season</th>\n",
       "      <th>race_group</th>\n",
       "      <th>race_type</th>\n",
       "      <th>Race_Money</th>\n",
       "      <th>trainer</th>\n",
       "      <th>jockey</th>\n",
       "      <th>pos</th>\n",
       "      <th>btn</th>\n",
       "      <th>age</th>\n",
       "      <th>lbs</th>\n",
       "      <th>gear</th>\n",
       "      <th>or</th>\n",
       "      <th>ts</th>\n",
       "      <th>rpr</th>\n",
       "      <th>prob</th>\n",
       "      <th>prize_money</th>\n",
       "    </tr>\n",
       "  </thead>\n",
       "  <tbody>\n",
       "    <tr>\n",
       "      <th>432</th>\n",
       "      <td>Fairyhouse</td>\n",
       "      <td>4yo+</td>\n",
       "      <td>3200</td>\n",
       "      <td>5</td>\n",
       "      <td>Hurdle</td>\n",
       "      <td>Handicap</td>\n",
       "      <td>21690.0</td>\n",
       "      <td>Mervyn Torrens</td>\n",
       "      <td>Mr K H Clarke</td>\n",
       "      <td>4.0</td>\n",
       "      <td>7.00</td>\n",
       "      <td>5</td>\n",
       "      <td>134</td>\n",
       "      <td>t</td>\n",
       "      <td>90.0</td>\n",
       "      <td>89.0</td>\n",
       "      <td>92.0</td>\n",
       "      <td>0.058824</td>\n",
       "      <td>697.5</td>\n",
       "    </tr>\n",
       "    <tr>\n",
       "      <th>441</th>\n",
       "      <td>Fairyhouse</td>\n",
       "      <td>4yo+</td>\n",
       "      <td>3200</td>\n",
       "      <td>5</td>\n",
       "      <td>Hurdle</td>\n",
       "      <td>Handicap</td>\n",
       "      <td>21690.0</td>\n",
       "      <td>Noel Meade</td>\n",
       "      <td>Denis O'Regan</td>\n",
       "      <td>13.0</td>\n",
       "      <td>23.75</td>\n",
       "      <td>5</td>\n",
       "      <td>158</td>\n",
       "      <td>b</td>\n",
       "      <td>107.0</td>\n",
       "      <td>86.0</td>\n",
       "      <td>92.0</td>\n",
       "      <td>0.058824</td>\n",
       "      <td>0.0</td>\n",
       "    </tr>\n",
       "  </tbody>\n",
       "</table>\n",
       "</div>"
      ],
      "text/plain": [
       "         course  band  dist.m.  season race_group race_type  Race_Money  \\\n",
       "432  Fairyhouse  4yo+     3200       5     Hurdle  Handicap     21690.0   \n",
       "441  Fairyhouse  4yo+     3200       5     Hurdle  Handicap     21690.0   \n",
       "\n",
       "            trainer         jockey   pos    btn  age  lbs gear     or    ts  \\\n",
       "432  Mervyn Torrens  Mr K H Clarke   4.0   7.00    5  134    t   90.0  89.0   \n",
       "441      Noel Meade  Denis O'Regan  13.0  23.75    5  158    b  107.0  86.0   \n",
       "\n",
       "      rpr      prob  prize_money  \n",
       "432  92.0  0.058824        697.5  \n",
       "441  92.0  0.058824          0.0  "
      ]
     },
     "execution_count": 43,
     "metadata": {},
     "output_type": "execute_result"
    }
   ],
   "source": [
    "final_df.head(2)"
   ]
  },
  {
   "cell_type": "code",
   "execution_count": 44,
   "id": "Wp73vNMU6sFY",
   "metadata": {
    "colab": {
     "base_uri": "https://localhost:8080/"
    },
    "id": "Wp73vNMU6sFY",
    "outputId": "a341f575-0e8f-4041-9040-9f3493eecf5d"
   },
   "outputs": [
    {
     "data": {
      "text/plain": [
       "(126391, 19)"
      ]
     },
     "execution_count": 44,
     "metadata": {},
     "output_type": "execute_result"
    }
   ],
   "source": [
    "final_df.shape"
   ]
  },
  {
   "cell_type": "code",
   "execution_count": 46,
   "id": "2fa2e99c",
   "metadata": {},
   "outputs": [],
   "source": [
    "final_df.to_csv('model_data.csv',index=False)"
   ]
  },
  {
   "cell_type": "code",
   "execution_count": null,
   "id": "a3be10b7",
   "metadata": {},
   "outputs": [],
   "source": []
  }
 ],
 "metadata": {
  "colab": {
   "name": "p4.ipynb",
   "provenance": []
  },
  "kernelspec": {
   "display_name": "Python 3",
   "language": "python",
   "name": "python3"
  },
  "language_info": {
   "codemirror_mode": {
    "name": "ipython",
    "version": 3
   },
   "file_extension": ".py",
   "mimetype": "text/x-python",
   "name": "python",
   "nbconvert_exporter": "python",
   "pygments_lexer": "ipython3",
   "version": "3.8.8"
  }
 },
 "nbformat": 4,
 "nbformat_minor": 5
}
