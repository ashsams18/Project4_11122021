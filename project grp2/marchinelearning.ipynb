{
 "cells": [
  {
   "cell_type": "code",
   "execution_count": 1,
   "id": "bf428cc0",
   "metadata": {
    "id": "bf428cc0"
   },
   "outputs": [],
   "source": [
    "import pandas as pd\n",
    "import numpy as np\n",
    "import pandas as pd\n",
    "\n",
    "from sklearn.linear_model import LogisticRegression\n",
    "import numpy as np\n",
    "from matplotlib import pyplot as plt\n",
    "import seaborn as sns\n",
    "import matplotlib.pyplot as plt\n",
    "from sklearn.preprocessing import StandardScaler, MinMaxScaler, LabelEncoder\n",
    "from sklearn.model_selection import train_test_split\n",
    "from sklearn.tree import DecisionTreeClassifier, plot_tree\n",
    "from sklearn import metrics\n",
    "from sklearn import preprocessing\n",
    "from sklearn.ensemble import RandomForestClassifier\n",
    "from sklearn.datasets import make_classification"
   ]
  },
  {
   "cell_type": "code",
   "execution_count": 6,
   "id": "46a63c78",
   "metadata": {
    "colab": {
     "base_uri": "https://localhost:8080/"
    },
    "id": "46a63c78",
    "outputId": "3b6bb655-3a1a-44aa-fea2-0a6916ba6d6a"
   },
   "outputs": [
    {
     "data": {
      "text/html": [
       "<div>\n",
       "<style scoped>\n",
       "    .dataframe tbody tr th:only-of-type {\n",
       "        vertical-align: middle;\n",
       "    }\n",
       "\n",
       "    .dataframe tbody tr th {\n",
       "        vertical-align: top;\n",
       "    }\n",
       "\n",
       "    .dataframe thead th {\n",
       "        text-align: right;\n",
       "    }\n",
       "</style>\n",
       "<table border=\"1\" class=\"dataframe\">\n",
       "  <thead>\n",
       "    <tr style=\"text-align: right;\">\n",
       "      <th></th>\n",
       "      <th>course</th>\n",
       "      <th>band</th>\n",
       "      <th>dist.m.</th>\n",
       "      <th>season</th>\n",
       "      <th>race_group</th>\n",
       "      <th>race_type</th>\n",
       "      <th>Race_Money</th>\n",
       "      <th>trainer</th>\n",
       "      <th>jockey</th>\n",
       "      <th>pos</th>\n",
       "      <th>btn</th>\n",
       "      <th>age</th>\n",
       "      <th>lbs</th>\n",
       "      <th>gear</th>\n",
       "      <th>or</th>\n",
       "      <th>ts</th>\n",
       "      <th>rpr</th>\n",
       "      <th>prob</th>\n",
       "      <th>prize_money</th>\n",
       "    </tr>\n",
       "  </thead>\n",
       "  <tbody>\n",
       "    <tr>\n",
       "      <th>0</th>\n",
       "      <td>Fairyhouse</td>\n",
       "      <td>4yo+</td>\n",
       "      <td>3200</td>\n",
       "      <td>5</td>\n",
       "      <td>Hurdle</td>\n",
       "      <td>Handicap</td>\n",
       "      <td>21690.0</td>\n",
       "      <td>Mervyn Torrens</td>\n",
       "      <td>Mr K H Clarke</td>\n",
       "      <td>4.0</td>\n",
       "      <td>7.00</td>\n",
       "      <td>5</td>\n",
       "      <td>134</td>\n",
       "      <td>t</td>\n",
       "      <td>90.0</td>\n",
       "      <td>89.0</td>\n",
       "      <td>92.0</td>\n",
       "      <td>0.058824</td>\n",
       "      <td>697.5</td>\n",
       "    </tr>\n",
       "    <tr>\n",
       "      <th>1</th>\n",
       "      <td>Fairyhouse</td>\n",
       "      <td>4yo+</td>\n",
       "      <td>3200</td>\n",
       "      <td>5</td>\n",
       "      <td>Hurdle</td>\n",
       "      <td>Handicap</td>\n",
       "      <td>21690.0</td>\n",
       "      <td>Noel Meade</td>\n",
       "      <td>Denis O'Regan</td>\n",
       "      <td>13.0</td>\n",
       "      <td>23.75</td>\n",
       "      <td>5</td>\n",
       "      <td>158</td>\n",
       "      <td>b</td>\n",
       "      <td>107.0</td>\n",
       "      <td>86.0</td>\n",
       "      <td>92.0</td>\n",
       "      <td>0.058824</td>\n",
       "      <td>0.0</td>\n",
       "    </tr>\n",
       "    <tr>\n",
       "      <th>2</th>\n",
       "      <td>Fairyhouse</td>\n",
       "      <td>4yo+</td>\n",
       "      <td>3200</td>\n",
       "      <td>5</td>\n",
       "      <td>Hurdle</td>\n",
       "      <td>Handicap</td>\n",
       "      <td>21690.0</td>\n",
       "      <td>A L T Moore</td>\n",
       "      <td>Daniel Howard</td>\n",
       "      <td>15.0</td>\n",
       "      <td>25.25</td>\n",
       "      <td>7</td>\n",
       "      <td>146</td>\n",
       "      <td>t</td>\n",
       "      <td>95.0</td>\n",
       "      <td>72.0</td>\n",
       "      <td>79.0</td>\n",
       "      <td>0.076923</td>\n",
       "      <td>0.0</td>\n",
       "    </tr>\n",
       "    <tr>\n",
       "      <th>3</th>\n",
       "      <td>Fairyhouse</td>\n",
       "      <td>4yo+</td>\n",
       "      <td>3200</td>\n",
       "      <td>5</td>\n",
       "      <td>Hurdle</td>\n",
       "      <td>Handicap</td>\n",
       "      <td>21690.0</td>\n",
       "      <td>Lester Winters</td>\n",
       "      <td>Mark Walsh</td>\n",
       "      <td>17.0</td>\n",
       "      <td>34.75</td>\n",
       "      <td>4</td>\n",
       "      <td>142</td>\n",
       "      <td>b</td>\n",
       "      <td>94.0</td>\n",
       "      <td>59.0</td>\n",
       "      <td>68.0</td>\n",
       "      <td>0.047619</td>\n",
       "      <td>0.0</td>\n",
       "    </tr>\n",
       "    <tr>\n",
       "      <th>4</th>\n",
       "      <td>Fairyhouse</td>\n",
       "      <td>4yo+</td>\n",
       "      <td>3200</td>\n",
       "      <td>5</td>\n",
       "      <td>Hurdle</td>\n",
       "      <td>Handicap</td>\n",
       "      <td>21690.0</td>\n",
       "      <td>H Rogers</td>\n",
       "      <td>M G Cleary</td>\n",
       "      <td>19.0</td>\n",
       "      <td>45.25</td>\n",
       "      <td>6</td>\n",
       "      <td>132</td>\n",
       "      <td>tp</td>\n",
       "      <td>86.0</td>\n",
       "      <td>38.0</td>\n",
       "      <td>50.0</td>\n",
       "      <td>0.047619</td>\n",
       "      <td>0.0</td>\n",
       "    </tr>\n",
       "  </tbody>\n",
       "</table>\n",
       "</div>"
      ],
      "text/plain": [
       "       course  band  dist.m.  season race_group race_type  Race_Money  \\\n",
       "0  Fairyhouse  4yo+     3200       5     Hurdle  Handicap     21690.0   \n",
       "1  Fairyhouse  4yo+     3200       5     Hurdle  Handicap     21690.0   \n",
       "2  Fairyhouse  4yo+     3200       5     Hurdle  Handicap     21690.0   \n",
       "3  Fairyhouse  4yo+     3200       5     Hurdle  Handicap     21690.0   \n",
       "4  Fairyhouse  4yo+     3200       5     Hurdle  Handicap     21690.0   \n",
       "\n",
       "          trainer         jockey   pos    btn  age  lbs gear     or    ts  \\\n",
       "0  Mervyn Torrens  Mr K H Clarke   4.0   7.00    5  134    t   90.0  89.0   \n",
       "1      Noel Meade  Denis O'Regan  13.0  23.75    5  158    b  107.0  86.0   \n",
       "2     A L T Moore  Daniel Howard  15.0  25.25    7  146    t   95.0  72.0   \n",
       "3  Lester Winters     Mark Walsh  17.0  34.75    4  142    b   94.0  59.0   \n",
       "4        H Rogers     M G Cleary  19.0  45.25    6  132   tp   86.0  38.0   \n",
       "\n",
       "    rpr      prob  prize_money  \n",
       "0  92.0  0.058824        697.5  \n",
       "1  92.0  0.058824          0.0  \n",
       "2  79.0  0.076923          0.0  \n",
       "3  68.0  0.047619          0.0  \n",
       "4  50.0  0.047619          0.0  "
      ]
     },
     "execution_count": 6,
     "metadata": {},
     "output_type": "execute_result"
    }
   ],
   "source": [
    "f = './Resources/model_data.csv'\n",
    "final_df = pd.read_csv(f)\n",
    "final_df.head(5)"
   ]
  },
  {
   "cell_type": "code",
   "execution_count": 8,
   "id": "Wp73vNMU6sFY",
   "metadata": {
    "colab": {
     "base_uri": "https://localhost:8080/"
    },
    "id": "Wp73vNMU6sFY",
    "outputId": "a341f575-0e8f-4041-9040-9f3493eecf5d"
   },
   "outputs": [
    {
     "data": {
      "text/plain": [
       "(126391, 19)"
      ]
     },
     "execution_count": 8,
     "metadata": {},
     "output_type": "execute_result"
    }
   ],
   "source": [
    "final_df.shape"
   ]
  },
  {
   "cell_type": "code",
   "execution_count": 9,
   "id": "6Pw1J_2n6sKt",
   "metadata": {
    "colab": {
     "base_uri": "https://localhost:8080/"
    },
    "id": "6Pw1J_2n6sKt",
    "outputId": "8b054f9e-dd12-4f7b-d285-0abe631d8615"
   },
   "outputs": [
    {
     "name": "stdout",
     "output_type": "stream",
     "text": [
      "49037     0.003984\n",
      "102133    0.003984\n",
      "90567     0.003984\n",
      "93851     0.003984\n",
      "94011     0.003984\n",
      "            ...   \n",
      "21961     0.952381\n",
      "103720    0.952381\n",
      "103762    0.961538\n",
      "112384    0.961538\n",
      "112373    0.970874\n",
      "Name: prob, Length: 126391, dtype: float64\n"
     ]
    }
   ],
   "source": [
    "# Take a look at the column variable: prop\n",
    "print(final_df['prob'].sort_values(ascending=True))"
   ]
  },
  {
   "cell_type": "code",
   "execution_count": 10,
   "id": "CwCUzbt56sQv",
   "metadata": {
    "id": "CwCUzbt56sQv"
   },
   "outputs": [],
   "source": [
    "# Assign outcomes as 0 if prob <=0.09 and as 1 if prob >0.09\n",
    "final_df['prob'] = [0 if x <=0.09 else 1 for x in final_df['prob']]"
   ]
  },
  {
   "cell_type": "code",
   "execution_count": 11,
   "id": "fBPKrZ2N7mLF",
   "metadata": {
    "id": "fBPKrZ2N7mLF"
   },
   "outputs": [],
   "source": [
    "# Assign X as dataframe of the features and y as a series of the outcome variable\n",
    "X_data = final_df.drop(\"prob\", 1) \n",
    "y = final_df.prob # target"
   ]
  },
  {
   "cell_type": "code",
   "execution_count": 12,
   "id": "iVqIpPi19-uD",
   "metadata": {
    "colab": {
     "base_uri": "https://localhost:8080/",
     "height": 147
    },
    "id": "iVqIpPi19-uD",
    "outputId": "53a18d17-5688-43ac-9303-2654bdb64d69"
   },
   "outputs": [
    {
     "data": {
      "text/html": [
       "<div>\n",
       "<style scoped>\n",
       "    .dataframe tbody tr th:only-of-type {\n",
       "        vertical-align: middle;\n",
       "    }\n",
       "\n",
       "    .dataframe tbody tr th {\n",
       "        vertical-align: top;\n",
       "    }\n",
       "\n",
       "    .dataframe thead th {\n",
       "        text-align: right;\n",
       "    }\n",
       "</style>\n",
       "<table border=\"1\" class=\"dataframe\">\n",
       "  <thead>\n",
       "    <tr style=\"text-align: right;\">\n",
       "      <th></th>\n",
       "      <th>course</th>\n",
       "      <th>band</th>\n",
       "      <th>dist.m.</th>\n",
       "      <th>season</th>\n",
       "      <th>race_group</th>\n",
       "      <th>race_type</th>\n",
       "      <th>Race_Money</th>\n",
       "      <th>trainer</th>\n",
       "      <th>jockey</th>\n",
       "      <th>pos</th>\n",
       "      <th>btn</th>\n",
       "      <th>age</th>\n",
       "      <th>lbs</th>\n",
       "      <th>gear</th>\n",
       "      <th>or</th>\n",
       "      <th>ts</th>\n",
       "      <th>rpr</th>\n",
       "      <th>prize_money</th>\n",
       "    </tr>\n",
       "  </thead>\n",
       "  <tbody>\n",
       "    <tr>\n",
       "      <th>0</th>\n",
       "      <td>Fairyhouse</td>\n",
       "      <td>4yo+</td>\n",
       "      <td>3200</td>\n",
       "      <td>5</td>\n",
       "      <td>Hurdle</td>\n",
       "      <td>Handicap</td>\n",
       "      <td>21690.0</td>\n",
       "      <td>Mervyn Torrens</td>\n",
       "      <td>Mr K H Clarke</td>\n",
       "      <td>4.0</td>\n",
       "      <td>7.00</td>\n",
       "      <td>5</td>\n",
       "      <td>134</td>\n",
       "      <td>t</td>\n",
       "      <td>90.0</td>\n",
       "      <td>89.0</td>\n",
       "      <td>92.0</td>\n",
       "      <td>697.5</td>\n",
       "    </tr>\n",
       "    <tr>\n",
       "      <th>1</th>\n",
       "      <td>Fairyhouse</td>\n",
       "      <td>4yo+</td>\n",
       "      <td>3200</td>\n",
       "      <td>5</td>\n",
       "      <td>Hurdle</td>\n",
       "      <td>Handicap</td>\n",
       "      <td>21690.0</td>\n",
       "      <td>Noel Meade</td>\n",
       "      <td>Denis O'Regan</td>\n",
       "      <td>13.0</td>\n",
       "      <td>23.75</td>\n",
       "      <td>5</td>\n",
       "      <td>158</td>\n",
       "      <td>b</td>\n",
       "      <td>107.0</td>\n",
       "      <td>86.0</td>\n",
       "      <td>92.0</td>\n",
       "      <td>0.0</td>\n",
       "    </tr>\n",
       "  </tbody>\n",
       "</table>\n",
       "</div>"
      ],
      "text/plain": [
       "       course  band  dist.m.  season race_group race_type  Race_Money  \\\n",
       "0  Fairyhouse  4yo+     3200       5     Hurdle  Handicap     21690.0   \n",
       "1  Fairyhouse  4yo+     3200       5     Hurdle  Handicap     21690.0   \n",
       "\n",
       "          trainer         jockey   pos    btn  age  lbs gear     or    ts  \\\n",
       "0  Mervyn Torrens  Mr K H Clarke   4.0   7.00    5  134    t   90.0  89.0   \n",
       "1      Noel Meade  Denis O'Regan  13.0  23.75    5  158    b  107.0  86.0   \n",
       "\n",
       "    rpr  prize_money  \n",
       "0  92.0        697.5  \n",
       "1  92.0          0.0  "
      ]
     },
     "execution_count": 12,
     "metadata": {},
     "output_type": "execute_result"
    }
   ],
   "source": [
    "X_data.head(2)"
   ]
  },
  {
   "cell_type": "code",
   "execution_count": 13,
   "id": "Iw00go849-08",
   "metadata": {
    "colab": {
     "base_uri": "https://localhost:8080/"
    },
    "id": "Iw00go849-08",
    "outputId": "62743baf-79d0-4c8a-957a-9fcd8c5743d2"
   },
   "outputs": [
    {
     "data": {
      "text/plain": [
       "(126391,)"
      ]
     },
     "execution_count": 13,
     "metadata": {},
     "output_type": "execute_result"
    }
   ],
   "source": [
    "y.shape"
   ]
  },
  {
   "cell_type": "code",
   "execution_count": null,
   "id": "dm_GqeqE9-8B",
   "metadata": {
    "id": "dm_GqeqE9-8B"
   },
   "outputs": [],
   "source": []
  },
  {
   "cell_type": "code",
   "execution_count": 14,
   "id": "QlQa6BBZ7mQx",
   "metadata": {
    "colab": {
     "base_uri": "https://localhost:8080/"
    },
    "id": "QlQa6BBZ7mQx",
    "outputId": "73be9022-b0cf-4325-ece8-7a457d0b6ec7"
   },
   "outputs": [
    {
     "name": "stdout",
     "output_type": "stream",
     "text": [
      "Class=0, n=51773 (40.96256853731674%)\n",
      "Class=1, n=74618 (59.037431462683266%)\n"
     ]
    }
   ],
   "source": [
    "from collections import Counter\n",
    "counter = Counter(y)\n",
    "for k, v in counter.items():\n",
    "  dist = v/ len(y)*100\n",
    "  print(f\"Class={k}, n={v} ({dist}%)\")"
   ]
  },
  {
   "cell_type": "code",
   "execution_count": 15,
   "id": "5JHUe5OF7mW5",
   "metadata": {
    "colab": {
     "base_uri": "https://localhost:8080/"
    },
    "id": "5JHUe5OF7mW5",
    "outputId": "c8b9f5af-1caf-4c34-f4bf-8b5d8de3dd98"
   },
   "outputs": [
    {
     "data": {
      "text/plain": [
       "course          67\n",
       "band             8\n",
       "race_group       4\n",
       "race_type        2\n",
       "trainer       2028\n",
       "jockey        1650\n",
       "gear            24\n",
       "dtype: int64"
      ]
     },
     "execution_count": 15,
     "metadata": {},
     "output_type": "execute_result"
    }
   ],
   "source": [
    "# Get list of categorical variables\n",
    "data_cat = X_data.dtypes[X_data.dtypes == \"object\"].index.tolist()\n",
    "\n",
    "# Check the number of unique values in each column\n",
    "X_data[data_cat].nunique()"
   ]
  },
  {
   "cell_type": "code",
   "execution_count": 16,
   "id": "X2LcIIx57mcX",
   "metadata": {
    "colab": {
     "base_uri": "https://localhost:8080/",
     "height": 325
    },
    "id": "X2LcIIx57mcX",
    "outputId": "5e16093f-7a32-4f07-9f44-4b557f7f61a0"
   },
   "outputs": [
    {
     "data": {
      "text/html": [
       "<div>\n",
       "<style scoped>\n",
       "    .dataframe tbody tr th:only-of-type {\n",
       "        vertical-align: middle;\n",
       "    }\n",
       "\n",
       "    .dataframe tbody tr th {\n",
       "        vertical-align: top;\n",
       "    }\n",
       "\n",
       "    .dataframe thead th {\n",
       "        text-align: right;\n",
       "    }\n",
       "</style>\n",
       "<table border=\"1\" class=\"dataframe\">\n",
       "  <thead>\n",
       "    <tr style=\"text-align: right;\">\n",
       "      <th></th>\n",
       "      <th>course_Aintree</th>\n",
       "      <th>course_Ascot</th>\n",
       "      <th>course_Ayr</th>\n",
       "      <th>course_Ballinrobe</th>\n",
       "      <th>course_Bangor-on-Dee</th>\n",
       "      <th>course_Bellewstown</th>\n",
       "      <th>course_Carlisle</th>\n",
       "      <th>course_Cartmel</th>\n",
       "      <th>course_Catterick</th>\n",
       "      <th>course_Cheltenham</th>\n",
       "      <th>...</th>\n",
       "      <th>gear_htp</th>\n",
       "      <th>gear_htv</th>\n",
       "      <th>gear_hv</th>\n",
       "      <th>gear_p</th>\n",
       "      <th>gear_t</th>\n",
       "      <th>gear_tb</th>\n",
       "      <th>gear_tp</th>\n",
       "      <th>gear_tv</th>\n",
       "      <th>gear_v</th>\n",
       "      <th>gear_vp</th>\n",
       "    </tr>\n",
       "  </thead>\n",
       "  <tbody>\n",
       "    <tr>\n",
       "      <th>0</th>\n",
       "      <td>0.0</td>\n",
       "      <td>0.0</td>\n",
       "      <td>0.0</td>\n",
       "      <td>0.0</td>\n",
       "      <td>0.0</td>\n",
       "      <td>0.0</td>\n",
       "      <td>0.0</td>\n",
       "      <td>0.0</td>\n",
       "      <td>0.0</td>\n",
       "      <td>0.0</td>\n",
       "      <td>...</td>\n",
       "      <td>0.0</td>\n",
       "      <td>0.0</td>\n",
       "      <td>0.0</td>\n",
       "      <td>0.0</td>\n",
       "      <td>1.0</td>\n",
       "      <td>0.0</td>\n",
       "      <td>0.0</td>\n",
       "      <td>0.0</td>\n",
       "      <td>0.0</td>\n",
       "      <td>0.0</td>\n",
       "    </tr>\n",
       "    <tr>\n",
       "      <th>1</th>\n",
       "      <td>0.0</td>\n",
       "      <td>0.0</td>\n",
       "      <td>0.0</td>\n",
       "      <td>0.0</td>\n",
       "      <td>0.0</td>\n",
       "      <td>0.0</td>\n",
       "      <td>0.0</td>\n",
       "      <td>0.0</td>\n",
       "      <td>0.0</td>\n",
       "      <td>0.0</td>\n",
       "      <td>...</td>\n",
       "      <td>0.0</td>\n",
       "      <td>0.0</td>\n",
       "      <td>0.0</td>\n",
       "      <td>0.0</td>\n",
       "      <td>0.0</td>\n",
       "      <td>0.0</td>\n",
       "      <td>0.0</td>\n",
       "      <td>0.0</td>\n",
       "      <td>0.0</td>\n",
       "      <td>0.0</td>\n",
       "    </tr>\n",
       "    <tr>\n",
       "      <th>2</th>\n",
       "      <td>0.0</td>\n",
       "      <td>0.0</td>\n",
       "      <td>0.0</td>\n",
       "      <td>0.0</td>\n",
       "      <td>0.0</td>\n",
       "      <td>0.0</td>\n",
       "      <td>0.0</td>\n",
       "      <td>0.0</td>\n",
       "      <td>0.0</td>\n",
       "      <td>0.0</td>\n",
       "      <td>...</td>\n",
       "      <td>0.0</td>\n",
       "      <td>0.0</td>\n",
       "      <td>0.0</td>\n",
       "      <td>0.0</td>\n",
       "      <td>1.0</td>\n",
       "      <td>0.0</td>\n",
       "      <td>0.0</td>\n",
       "      <td>0.0</td>\n",
       "      <td>0.0</td>\n",
       "      <td>0.0</td>\n",
       "    </tr>\n",
       "    <tr>\n",
       "      <th>3</th>\n",
       "      <td>0.0</td>\n",
       "      <td>0.0</td>\n",
       "      <td>0.0</td>\n",
       "      <td>0.0</td>\n",
       "      <td>0.0</td>\n",
       "      <td>0.0</td>\n",
       "      <td>0.0</td>\n",
       "      <td>0.0</td>\n",
       "      <td>0.0</td>\n",
       "      <td>0.0</td>\n",
       "      <td>...</td>\n",
       "      <td>0.0</td>\n",
       "      <td>0.0</td>\n",
       "      <td>0.0</td>\n",
       "      <td>0.0</td>\n",
       "      <td>0.0</td>\n",
       "      <td>0.0</td>\n",
       "      <td>0.0</td>\n",
       "      <td>0.0</td>\n",
       "      <td>0.0</td>\n",
       "      <td>0.0</td>\n",
       "    </tr>\n",
       "    <tr>\n",
       "      <th>4</th>\n",
       "      <td>0.0</td>\n",
       "      <td>0.0</td>\n",
       "      <td>0.0</td>\n",
       "      <td>0.0</td>\n",
       "      <td>0.0</td>\n",
       "      <td>0.0</td>\n",
       "      <td>0.0</td>\n",
       "      <td>0.0</td>\n",
       "      <td>0.0</td>\n",
       "      <td>0.0</td>\n",
       "      <td>...</td>\n",
       "      <td>0.0</td>\n",
       "      <td>0.0</td>\n",
       "      <td>0.0</td>\n",
       "      <td>0.0</td>\n",
       "      <td>0.0</td>\n",
       "      <td>0.0</td>\n",
       "      <td>1.0</td>\n",
       "      <td>0.0</td>\n",
       "      <td>0.0</td>\n",
       "      <td>0.0</td>\n",
       "    </tr>\n",
       "  </tbody>\n",
       "</table>\n",
       "<p>5 rows × 3783 columns</p>\n",
       "</div>"
      ],
      "text/plain": [
       "   course_Aintree  course_Ascot  course_Ayr  course_Ballinrobe  \\\n",
       "0             0.0           0.0         0.0                0.0   \n",
       "1             0.0           0.0         0.0                0.0   \n",
       "2             0.0           0.0         0.0                0.0   \n",
       "3             0.0           0.0         0.0                0.0   \n",
       "4             0.0           0.0         0.0                0.0   \n",
       "\n",
       "   course_Bangor-on-Dee  course_Bellewstown  course_Carlisle  course_Cartmel  \\\n",
       "0                   0.0                 0.0              0.0             0.0   \n",
       "1                   0.0                 0.0              0.0             0.0   \n",
       "2                   0.0                 0.0              0.0             0.0   \n",
       "3                   0.0                 0.0              0.0             0.0   \n",
       "4                   0.0                 0.0              0.0             0.0   \n",
       "\n",
       "   course_Catterick  course_Cheltenham  ...  gear_htp  gear_htv  gear_hv  \\\n",
       "0               0.0                0.0  ...       0.0       0.0      0.0   \n",
       "1               0.0                0.0  ...       0.0       0.0      0.0   \n",
       "2               0.0                0.0  ...       0.0       0.0      0.0   \n",
       "3               0.0                0.0  ...       0.0       0.0      0.0   \n",
       "4               0.0                0.0  ...       0.0       0.0      0.0   \n",
       "\n",
       "   gear_p  gear_t  gear_tb  gear_tp  gear_tv  gear_v  gear_vp  \n",
       "0     0.0     1.0      0.0      0.0      0.0     0.0      0.0  \n",
       "1     0.0     0.0      0.0      0.0      0.0     0.0      0.0  \n",
       "2     0.0     1.0      0.0      0.0      0.0     0.0      0.0  \n",
       "3     0.0     0.0      0.0      0.0      0.0     0.0      0.0  \n",
       "4     0.0     0.0      0.0      1.0      0.0     0.0      0.0  \n",
       "\n",
       "[5 rows x 3783 columns]"
      ]
     },
     "execution_count": 16,
     "metadata": {},
     "output_type": "execute_result"
    }
   ],
   "source": [
    "from sklearn.preprocessing import StandardScaler,OneHotEncoder\n",
    "# Create a OneHotEncoder instance\n",
    "enc = OneHotEncoder(sparse=False)\n",
    "\n",
    "enc_cats = enc.fit_transform(X_data[data_cat])\n",
    "\n",
    "# Fit and transform the OneHotEncoder using the categorical variable list\n",
    "encode_df = pd.DataFrame(enc_cats)\n",
    "\n",
    "# Add the encoded variable names to the dataframe\n",
    "encode_df.columns = enc.get_feature_names(data_cat)\n",
    "encode_df.head()"
   ]
  },
  {
   "cell_type": "code",
   "execution_count": 17,
   "id": "wNmXSKpjD_hU",
   "metadata": {
    "colab": {
     "base_uri": "https://localhost:8080/"
    },
    "id": "wNmXSKpjD_hU",
    "outputId": "2ac9df7e-1d71-4f37-e0ec-a2ff857cdb94"
   },
   "outputs": [
    {
     "data": {
      "text/plain": [
       "126391"
      ]
     },
     "execution_count": 17,
     "metadata": {},
     "output_type": "execute_result"
    }
   ],
   "source": [
    "len(encode_df)"
   ]
  },
  {
   "cell_type": "code",
   "execution_count": 18,
   "id": "EH7-FAEJ7mg4",
   "metadata": {
    "id": "EH7-FAEJ7mg4"
   },
   "outputs": [],
   "source": [
    "# Merge one-hot encoded features and drop the originals\n",
    "#X_data = X_data.merge(encode_df, left_index=True, right_index=True)\n",
    "#X_data = X_data.drop(data_cat, 1)\n",
    "#X_data.head()"
   ]
  },
  {
   "cell_type": "code",
   "execution_count": 19,
   "id": "yIBjpPr6EYOe",
   "metadata": {
    "id": "yIBjpPr6EYOe"
   },
   "outputs": [],
   "source": [
    "numerical_df = X_data.drop(columns=data_cat)\n",
    "X_data = pd.concat([numerical_df,encode_df], axis=1)"
   ]
  },
  {
   "cell_type": "code",
   "execution_count": 20,
   "id": "Ja116LhoEOFJ",
   "metadata": {
    "id": "Ja116LhoEOFJ"
   },
   "outputs": [
    {
     "data": {
      "text/plain": [
       "126391"
      ]
     },
     "execution_count": 20,
     "metadata": {},
     "output_type": "execute_result"
    }
   ],
   "source": [
    "len(X_data)"
   ]
  },
  {
   "cell_type": "code",
   "execution_count": 22,
   "id": "fd67c7cd",
   "metadata": {},
   "outputs": [
    {
     "data": {
      "text/plain": [
       "126391"
      ]
     },
     "execution_count": 22,
     "metadata": {},
     "output_type": "execute_result"
    }
   ],
   "source": [
    "len(y)"
   ]
  },
  {
   "cell_type": "markdown",
   "id": "acdd222a",
   "metadata": {},
   "source": [
    "#"
   ]
  },
  {
   "cell_type": "code",
   "execution_count": null,
   "id": "589c8efd",
   "metadata": {},
   "outputs": [],
   "source": []
  },
  {
   "cell_type": "code",
   "execution_count": null,
   "id": "00373b91",
   "metadata": {},
   "outputs": [],
   "source": []
  },
  {
   "cell_type": "code",
   "execution_count": null,
   "id": "2b5aaec1",
   "metadata": {},
   "outputs": [],
   "source": []
  },
  {
   "cell_type": "code",
   "execution_count": null,
   "id": "49890462",
   "metadata": {},
   "outputs": [],
   "source": []
  },
  {
   "cell_type": "code",
   "execution_count": null,
   "id": "4a920e61",
   "metadata": {},
   "outputs": [],
   "source": []
  },
  {
   "cell_type": "code",
   "execution_count": null,
   "id": "aa355614",
   "metadata": {},
   "outputs": [],
   "source": []
  },
  {
   "cell_type": "code",
   "execution_count": null,
   "id": "ba725074",
   "metadata": {},
   "outputs": [],
   "source": []
  },
  {
   "cell_type": "code",
   "execution_count": null,
   "id": "d7f59555",
   "metadata": {},
   "outputs": [],
   "source": []
  }
 ],
 "metadata": {
  "colab": {
   "name": "p4.ipynb",
   "provenance": []
  },
  "kernelspec": {
   "display_name": "Python 3",
   "language": "python",
   "name": "python3"
  },
  "language_info": {
   "codemirror_mode": {
    "name": "ipython",
    "version": 3
   },
   "file_extension": ".py",
   "mimetype": "text/x-python",
   "name": "python",
   "nbconvert_exporter": "python",
   "pygments_lexer": "ipython3",
   "version": "3.8.8"
  }
 },
 "nbformat": 4,
 "nbformat_minor": 5
}
