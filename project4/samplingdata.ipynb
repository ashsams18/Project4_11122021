{
 "cells": [
  {
   "cell_type": "markdown",
   "id": "205e0a12",
   "metadata": {},
   "source": [
    "# Machine Learning Data Processing"
   ]
  },
  {
   "cell_type": "code",
   "execution_count": 1,
   "id": "bf428cc0",
   "metadata": {
    "id": "bf428cc0"
   },
   "outputs": [],
   "source": [
    "# ! pip install keras_tuner\n",
    "import pandas as pd\n",
    "import numpy as np\n",
    "import pandas as pd\n",
    "\n",
    "from sklearn.linear_model import LogisticRegression\n",
    "import numpy as np\n",
    "from matplotlib import pyplot as plt\n",
    "import seaborn as sns\n",
    "import matplotlib.pyplot as plt\n",
    "from sklearn.preprocessing import StandardScaler, MinMaxScaler, LabelEncoder\n",
    "from sklearn.model_selection import train_test_split\n",
    "from sklearn.tree import DecisionTreeClassifier, plot_tree\n",
    "from sklearn import metrics\n",
    "from sklearn import preprocessing\n",
    "from sklearn.ensemble import RandomForestClassifier\n",
    "from sklearn.datasets import make_classification\n",
    "# Dependencies\n",
    "import pandas as pd\n",
    "import numpy as np\n",
    "import seaborn as sns\n",
    "import warnings\n",
    "warnings.filterwarnings('ignore')\n",
    "from sklearn.model_selection import train_test_split\n",
    "from sklearn.preprocessing import StandardScaler\n",
    "import matplotlib.pyplot as plt\n",
    "#import tensorflow as tf\n",
    "#import keras_tuner as kt\n",
    "from sklearn.pipeline import Pipeline\n",
    "#from keras.layers import Dense, Dropout, Flatten, Activation\n",
    "import h5py\n",
    "from sklearn.model_selection import cross_validate\n",
    "from sklearn.metrics import f1_score"
   ]
  },
  {
   "cell_type": "code",
   "execution_count": 78,
   "id": "46a63c78",
   "metadata": {
    "colab": {
     "base_uri": "https://localhost:8080/"
    },
    "id": "46a63c78",
    "outputId": "3b6bb655-3a1a-44aa-fea2-0a6916ba6d6a"
   },
   "outputs": [
    {
     "data": {
      "text/html": [
       "<div>\n",
       "<style scoped>\n",
       "    .dataframe tbody tr th:only-of-type {\n",
       "        vertical-align: middle;\n",
       "    }\n",
       "\n",
       "    .dataframe tbody tr th {\n",
       "        vertical-align: top;\n",
       "    }\n",
       "\n",
       "    .dataframe thead th {\n",
       "        text-align: right;\n",
       "    }\n",
       "</style>\n",
       "<table border=\"1\" class=\"dataframe\">\n",
       "  <thead>\n",
       "    <tr style=\"text-align: right;\">\n",
       "      <th></th>\n",
       "      <th>date</th>\n",
       "      <th>course</th>\n",
       "      <th>band</th>\n",
       "      <th>dist.m.</th>\n",
       "      <th>going</th>\n",
       "      <th>season</th>\n",
       "      <th>race_group</th>\n",
       "      <th>race_type</th>\n",
       "      <th>Race_Money</th>\n",
       "      <th>trainer</th>\n",
       "      <th>jockey</th>\n",
       "      <th>pos</th>\n",
       "      <th>age</th>\n",
       "      <th>lbs</th>\n",
       "      <th>gear</th>\n",
       "      <th>ts</th>\n",
       "      <th>act_score</th>\n",
       "      <th>prize_money</th>\n",
       "    </tr>\n",
       "  </thead>\n",
       "  <tbody>\n",
       "    <tr>\n",
       "      <th>0</th>\n",
       "      <td>2005-06-02</td>\n",
       "      <td>Punchestown</td>\n",
       "      <td>4yo+ M</td>\n",
       "      <td>3200</td>\n",
       "      <td>Good To Firm</td>\n",
       "      <td>5</td>\n",
       "      <td>Hurdle</td>\n",
       "      <td>Handicap</td>\n",
       "      <td>11568.0</td>\n",
       "      <td>C A Murphy</td>\n",
       "      <td>A J Donoghue</td>\n",
       "      <td>3.0</td>\n",
       "      <td>5</td>\n",
       "      <td>157</td>\n",
       "      <td>t</td>\n",
       "      <td>93.0</td>\n",
       "      <td>0</td>\n",
       "      <td>852.0</td>\n",
       "    </tr>\n",
       "    <tr>\n",
       "      <th>1</th>\n",
       "      <td>2005-06-02</td>\n",
       "      <td>Punchestown</td>\n",
       "      <td>4yo+ M</td>\n",
       "      <td>3200</td>\n",
       "      <td>Good To Firm</td>\n",
       "      <td>5</td>\n",
       "      <td>Hurdle</td>\n",
       "      <td>Handicap</td>\n",
       "      <td>11568.0</td>\n",
       "      <td>C Roche</td>\n",
       "      <td>Mark Walsh</td>\n",
       "      <td>5.0</td>\n",
       "      <td>4</td>\n",
       "      <td>150</td>\n",
       "      <td>t</td>\n",
       "      <td>79.0</td>\n",
       "      <td>0</td>\n",
       "      <td>0.0</td>\n",
       "    </tr>\n",
       "  </tbody>\n",
       "</table>\n",
       "</div>"
      ],
      "text/plain": [
       "         date       course    band  dist.m.         going  season race_group  \\\n",
       "0  2005-06-02  Punchestown  4yo+ M     3200  Good To Firm       5     Hurdle   \n",
       "1  2005-06-02  Punchestown  4yo+ M     3200  Good To Firm       5     Hurdle   \n",
       "\n",
       "  race_type  Race_Money     trainer        jockey  pos  age  lbs gear    ts  \\\n",
       "0  Handicap     11568.0  C A Murphy  A J Donoghue  3.0    5  157    t  93.0   \n",
       "1  Handicap     11568.0     C Roche    Mark Walsh  5.0    4  150    t  79.0   \n",
       "\n",
       "   act_score  prize_money  \n",
       "0          0        852.0  \n",
       "1          0          0.0  "
      ]
     },
     "execution_count": 78,
     "metadata": {},
     "output_type": "execute_result"
    }
   ],
   "source": [
    "f = './Resources/machine1_data.csv'\n",
    "final1_df = pd.read_csv(f)\n",
    "final1_df.head(2)"
   ]
  },
  {
   "cell_type": "code",
   "execution_count": 3,
   "id": "Wp73vNMU6sFY",
   "metadata": {
    "colab": {
     "base_uri": "https://localhost:8080/"
    },
    "id": "Wp73vNMU6sFY",
    "outputId": "a341f575-0e8f-4041-9040-9f3493eecf5d"
   },
   "outputs": [
    {
     "data": {
      "text/plain": [
       "(140461, 18)"
      ]
     },
     "execution_count": 3,
     "metadata": {},
     "output_type": "execute_result"
    }
   ],
   "source": [
    "final1_df.shape"
   ]
  },
  {
   "cell_type": "code",
   "execution_count": 4,
   "id": "08bcf276",
   "metadata": {},
   "outputs": [],
   "source": [
    "import datetime"
   ]
  },
  {
   "cell_type": "code",
   "execution_count": 77,
   "id": "f8b30c20",
   "metadata": {},
   "outputs": [
    {
     "data": {
      "text/html": [
       "<div>\n",
       "<style scoped>\n",
       "    .dataframe tbody tr th:only-of-type {\n",
       "        vertical-align: middle;\n",
       "    }\n",
       "\n",
       "    .dataframe tbody tr th {\n",
       "        vertical-align: top;\n",
       "    }\n",
       "\n",
       "    .dataframe thead th {\n",
       "        text-align: right;\n",
       "    }\n",
       "</style>\n",
       "<table border=\"1\" class=\"dataframe\">\n",
       "  <thead>\n",
       "    <tr style=\"text-align: right;\">\n",
       "      <th></th>\n",
       "      <th>date</th>\n",
       "      <th>course</th>\n",
       "      <th>band</th>\n",
       "      <th>dist.m.</th>\n",
       "      <th>going</th>\n",
       "      <th>season</th>\n",
       "      <th>race_group</th>\n",
       "      <th>race_type</th>\n",
       "      <th>Race_Money</th>\n",
       "      <th>trainer</th>\n",
       "      <th>jockey</th>\n",
       "      <th>pos</th>\n",
       "      <th>age</th>\n",
       "      <th>lbs</th>\n",
       "      <th>gear</th>\n",
       "      <th>ts</th>\n",
       "      <th>act_score</th>\n",
       "      <th>prize_money</th>\n",
       "    </tr>\n",
       "  </thead>\n",
       "  <tbody>\n",
       "    <tr>\n",
       "      <th>0</th>\n",
       "      <td>2005-06-02</td>\n",
       "      <td>Punchestown</td>\n",
       "      <td>4yo+ M</td>\n",
       "      <td>3200</td>\n",
       "      <td>Good To Firm</td>\n",
       "      <td>5</td>\n",
       "      <td>Hurdle</td>\n",
       "      <td>Handicap</td>\n",
       "      <td>11568.0</td>\n",
       "      <td>C A Murphy</td>\n",
       "      <td>A J Donoghue</td>\n",
       "      <td>3.0</td>\n",
       "      <td>5</td>\n",
       "      <td>157</td>\n",
       "      <td>t</td>\n",
       "      <td>93.0</td>\n",
       "      <td>0</td>\n",
       "      <td>852.0</td>\n",
       "    </tr>\n",
       "    <tr>\n",
       "      <th>1</th>\n",
       "      <td>2005-06-02</td>\n",
       "      <td>Punchestown</td>\n",
       "      <td>4yo+ M</td>\n",
       "      <td>3200</td>\n",
       "      <td>Good To Firm</td>\n",
       "      <td>5</td>\n",
       "      <td>Hurdle</td>\n",
       "      <td>Handicap</td>\n",
       "      <td>11568.0</td>\n",
       "      <td>C Roche</td>\n",
       "      <td>Mark Walsh</td>\n",
       "      <td>5.0</td>\n",
       "      <td>4</td>\n",
       "      <td>150</td>\n",
       "      <td>t</td>\n",
       "      <td>79.0</td>\n",
       "      <td>0</td>\n",
       "      <td>0.0</td>\n",
       "    </tr>\n",
       "  </tbody>\n",
       "</table>\n",
       "</div>"
      ],
      "text/plain": [
       "        date       course    band  dist.m.         going  season race_group  \\\n",
       "0 2005-06-02  Punchestown  4yo+ M     3200  Good To Firm       5     Hurdle   \n",
       "1 2005-06-02  Punchestown  4yo+ M     3200  Good To Firm       5     Hurdle   \n",
       "\n",
       "  race_type  Race_Money     trainer        jockey  pos  age  lbs gear    ts  \\\n",
       "0  Handicap     11568.0  C A Murphy  A J Donoghue  3.0    5  157    t  93.0   \n",
       "1  Handicap     11568.0     C Roche    Mark Walsh  5.0    4  150    t  79.0   \n",
       "\n",
       "   act_score  prize_money  \n",
       "0          0        852.0  \n",
       "1          0          0.0  "
      ]
     },
     "execution_count": 77,
     "metadata": {},
     "output_type": "execute_result"
    }
   ],
   "source": [
    "final1_df['date']= pd.to_datetime(final1_df['date'])\n",
    "final1_df.head(2)"
   ]
  },
  {
   "cell_type": "code",
   "execution_count": 72,
   "id": "23cf1771",
   "metadata": {
    "scrolled": true
   },
   "outputs": [],
   "source": [
    "#final1_df.dtypes"
   ]
  },
  {
   "cell_type": "code",
   "execution_count": 71,
   "id": "9930f77c",
   "metadata": {
    "scrolled": true
   },
   "outputs": [
    {
     "data": {
      "text/html": [
       "<div>\n",
       "<style scoped>\n",
       "    .dataframe tbody tr th:only-of-type {\n",
       "        vertical-align: middle;\n",
       "    }\n",
       "\n",
       "    .dataframe tbody tr th {\n",
       "        vertical-align: top;\n",
       "    }\n",
       "\n",
       "    .dataframe thead th {\n",
       "        text-align: right;\n",
       "    }\n",
       "</style>\n",
       "<table border=\"1\" class=\"dataframe\">\n",
       "  <thead>\n",
       "    <tr style=\"text-align: right;\">\n",
       "      <th></th>\n",
       "      <th>course</th>\n",
       "      <th>band</th>\n",
       "      <th>dist.m.</th>\n",
       "      <th>going</th>\n",
       "      <th>season</th>\n",
       "      <th>race_group</th>\n",
       "      <th>race_type</th>\n",
       "      <th>Race_Money</th>\n",
       "      <th>trainer</th>\n",
       "      <th>jockey</th>\n",
       "      <th>pos</th>\n",
       "      <th>age</th>\n",
       "      <th>lbs</th>\n",
       "      <th>gear</th>\n",
       "      <th>ts</th>\n",
       "      <th>act_score</th>\n",
       "      <th>prize_money</th>\n",
       "    </tr>\n",
       "    <tr>\n",
       "      <th>date</th>\n",
       "      <th></th>\n",
       "      <th></th>\n",
       "      <th></th>\n",
       "      <th></th>\n",
       "      <th></th>\n",
       "      <th></th>\n",
       "      <th></th>\n",
       "      <th></th>\n",
       "      <th></th>\n",
       "      <th></th>\n",
       "      <th></th>\n",
       "      <th></th>\n",
       "      <th></th>\n",
       "      <th></th>\n",
       "      <th></th>\n",
       "      <th></th>\n",
       "      <th></th>\n",
       "    </tr>\n",
       "  </thead>\n",
       "  <tbody>\n",
       "    <tr>\n",
       "      <th>2005-06-02</th>\n",
       "      <td>Punchestown</td>\n",
       "      <td>4yo+ M</td>\n",
       "      <td>3200</td>\n",
       "      <td>Good To Firm</td>\n",
       "      <td>5</td>\n",
       "      <td>Hurdle</td>\n",
       "      <td>Handicap</td>\n",
       "      <td>11568.0</td>\n",
       "      <td>C A Murphy</td>\n",
       "      <td>A J Donoghue</td>\n",
       "      <td>3.0</td>\n",
       "      <td>5</td>\n",
       "      <td>157</td>\n",
       "      <td>t</td>\n",
       "      <td>93.0</td>\n",
       "      <td>0</td>\n",
       "      <td>852.0</td>\n",
       "    </tr>\n",
       "    <tr>\n",
       "      <th>2005-06-02</th>\n",
       "      <td>Punchestown</td>\n",
       "      <td>4yo+ M</td>\n",
       "      <td>3200</td>\n",
       "      <td>Good To Firm</td>\n",
       "      <td>5</td>\n",
       "      <td>Hurdle</td>\n",
       "      <td>Handicap</td>\n",
       "      <td>11568.0</td>\n",
       "      <td>C Roche</td>\n",
       "      <td>Mark Walsh</td>\n",
       "      <td>5.0</td>\n",
       "      <td>4</td>\n",
       "      <td>150</td>\n",
       "      <td>t</td>\n",
       "      <td>79.0</td>\n",
       "      <td>0</td>\n",
       "      <td>0.0</td>\n",
       "    </tr>\n",
       "  </tbody>\n",
       "</table>\n",
       "</div>"
      ],
      "text/plain": [
       "                 course    band  dist.m.         going  season race_group  \\\n",
       "date                                                                        \n",
       "2005-06-02  Punchestown  4yo+ M     3200  Good To Firm       5     Hurdle   \n",
       "2005-06-02  Punchestown  4yo+ M     3200  Good To Firm       5     Hurdle   \n",
       "\n",
       "           race_type  Race_Money     trainer        jockey  pos  age  lbs  \\\n",
       "date                                                                        \n",
       "2005-06-02  Handicap     11568.0  C A Murphy  A J Donoghue  3.0    5  157   \n",
       "2005-06-02  Handicap     11568.0     C Roche    Mark Walsh  5.0    4  150   \n",
       "\n",
       "           gear    ts  act_score  prize_money  \n",
       "date                                           \n",
       "2005-06-02    t  93.0          0        852.0  \n",
       "2005-06-02    t  79.0          0          0.0  "
      ]
     },
     "execution_count": 71,
     "metadata": {},
     "output_type": "execute_result"
    }
   ],
   "source": [
    "final1_df.set_index('date').head(2)"
   ]
  },
  {
   "cell_type": "code",
   "execution_count": 73,
   "id": "5a07c218",
   "metadata": {},
   "outputs": [],
   "source": [
    "#final1_df.dtypes"
   ]
  },
  {
   "cell_type": "code",
   "execution_count": 70,
   "id": "57eae291",
   "metadata": {},
   "outputs": [
    {
     "data": {
      "text/html": [
       "<div>\n",
       "<style scoped>\n",
       "    .dataframe tbody tr th:only-of-type {\n",
       "        vertical-align: middle;\n",
       "    }\n",
       "\n",
       "    .dataframe tbody tr th {\n",
       "        vertical-align: top;\n",
       "    }\n",
       "\n",
       "    .dataframe thead th {\n",
       "        text-align: right;\n",
       "    }\n",
       "</style>\n",
       "<table border=\"1\" class=\"dataframe\">\n",
       "  <thead>\n",
       "    <tr style=\"text-align: right;\">\n",
       "      <th></th>\n",
       "      <th>date</th>\n",
       "      <th>course</th>\n",
       "      <th>band</th>\n",
       "      <th>dist.m.</th>\n",
       "      <th>going</th>\n",
       "      <th>season</th>\n",
       "      <th>race_group</th>\n",
       "      <th>race_type</th>\n",
       "      <th>Race_Money</th>\n",
       "      <th>trainer</th>\n",
       "      <th>jockey</th>\n",
       "      <th>pos</th>\n",
       "      <th>age</th>\n",
       "      <th>lbs</th>\n",
       "      <th>gear</th>\n",
       "      <th>ts</th>\n",
       "      <th>act_score</th>\n",
       "      <th>prize_money</th>\n",
       "    </tr>\n",
       "  </thead>\n",
       "  <tbody>\n",
       "    <tr>\n",
       "      <th>0</th>\n",
       "      <td>2005-06-02</td>\n",
       "      <td>Punchestown</td>\n",
       "      <td>4yo+ M</td>\n",
       "      <td>3200</td>\n",
       "      <td>Good To Firm</td>\n",
       "      <td>5</td>\n",
       "      <td>Hurdle</td>\n",
       "      <td>Handicap</td>\n",
       "      <td>11568.0</td>\n",
       "      <td>C A Murphy</td>\n",
       "      <td>A J Donoghue</td>\n",
       "      <td>3.0</td>\n",
       "      <td>5</td>\n",
       "      <td>157</td>\n",
       "      <td>t</td>\n",
       "      <td>93.0</td>\n",
       "      <td>0</td>\n",
       "      <td>852.0</td>\n",
       "    </tr>\n",
       "    <tr>\n",
       "      <th>1</th>\n",
       "      <td>2005-06-02</td>\n",
       "      <td>Punchestown</td>\n",
       "      <td>4yo+ M</td>\n",
       "      <td>3200</td>\n",
       "      <td>Good To Firm</td>\n",
       "      <td>5</td>\n",
       "      <td>Hurdle</td>\n",
       "      <td>Handicap</td>\n",
       "      <td>11568.0</td>\n",
       "      <td>C Roche</td>\n",
       "      <td>Mark Walsh</td>\n",
       "      <td>5.0</td>\n",
       "      <td>4</td>\n",
       "      <td>150</td>\n",
       "      <td>t</td>\n",
       "      <td>79.0</td>\n",
       "      <td>0</td>\n",
       "      <td>0.0</td>\n",
       "    </tr>\n",
       "  </tbody>\n",
       "</table>\n",
       "</div>"
      ],
      "text/plain": [
       "        date       course    band  dist.m.         going  season race_group  \\\n",
       "0 2005-06-02  Punchestown  4yo+ M     3200  Good To Firm       5     Hurdle   \n",
       "1 2005-06-02  Punchestown  4yo+ M     3200  Good To Firm       5     Hurdle   \n",
       "\n",
       "  race_type  Race_Money     trainer        jockey  pos  age  lbs gear    ts  \\\n",
       "0  Handicap     11568.0  C A Murphy  A J Donoghue  3.0    5  157    t  93.0   \n",
       "1  Handicap     11568.0     C Roche    Mark Walsh  5.0    4  150    t  79.0   \n",
       "\n",
       "   act_score  prize_money  \n",
       "0          0        852.0  \n",
       "1          0          0.0  "
      ]
     },
     "execution_count": 70,
     "metadata": {},
     "output_type": "execute_result"
    }
   ],
   "source": [
    "new_df = final1_df.iloc[0:120000, :]\n",
    "new_df.head(2)"
   ]
  },
  {
   "cell_type": "code",
   "execution_count": 69,
   "id": "3ca8893f",
   "metadata": {
    "scrolled": true
   },
   "outputs": [
    {
     "data": {
      "text/html": [
       "<div>\n",
       "<style scoped>\n",
       "    .dataframe tbody tr th:only-of-type {\n",
       "        vertical-align: middle;\n",
       "    }\n",
       "\n",
       "    .dataframe tbody tr th {\n",
       "        vertical-align: top;\n",
       "    }\n",
       "\n",
       "    .dataframe thead th {\n",
       "        text-align: right;\n",
       "    }\n",
       "</style>\n",
       "<table border=\"1\" class=\"dataframe\">\n",
       "  <thead>\n",
       "    <tr style=\"text-align: right;\">\n",
       "      <th></th>\n",
       "      <th>course</th>\n",
       "      <th>band</th>\n",
       "      <th>dist.m.</th>\n",
       "      <th>going</th>\n",
       "      <th>season</th>\n",
       "      <th>race_group</th>\n",
       "      <th>race_type</th>\n",
       "      <th>Race_Money</th>\n",
       "      <th>trainer</th>\n",
       "      <th>jockey</th>\n",
       "      <th>pos</th>\n",
       "      <th>age</th>\n",
       "      <th>lbs</th>\n",
       "      <th>gear</th>\n",
       "      <th>ts</th>\n",
       "      <th>act_score</th>\n",
       "      <th>prize_money</th>\n",
       "    </tr>\n",
       "  </thead>\n",
       "  <tbody>\n",
       "    <tr>\n",
       "      <th>0</th>\n",
       "      <td>Punchestown</td>\n",
       "      <td>4yo+ M</td>\n",
       "      <td>3200</td>\n",
       "      <td>Good To Firm</td>\n",
       "      <td>5</td>\n",
       "      <td>Hurdle</td>\n",
       "      <td>Handicap</td>\n",
       "      <td>11568.0</td>\n",
       "      <td>C A Murphy</td>\n",
       "      <td>A J Donoghue</td>\n",
       "      <td>3.0</td>\n",
       "      <td>5</td>\n",
       "      <td>157</td>\n",
       "      <td>t</td>\n",
       "      <td>93.0</td>\n",
       "      <td>0</td>\n",
       "      <td>852.0</td>\n",
       "    </tr>\n",
       "    <tr>\n",
       "      <th>1</th>\n",
       "      <td>Punchestown</td>\n",
       "      <td>4yo+ M</td>\n",
       "      <td>3200</td>\n",
       "      <td>Good To Firm</td>\n",
       "      <td>5</td>\n",
       "      <td>Hurdle</td>\n",
       "      <td>Handicap</td>\n",
       "      <td>11568.0</td>\n",
       "      <td>C Roche</td>\n",
       "      <td>Mark Walsh</td>\n",
       "      <td>5.0</td>\n",
       "      <td>4</td>\n",
       "      <td>150</td>\n",
       "      <td>t</td>\n",
       "      <td>79.0</td>\n",
       "      <td>0</td>\n",
       "      <td>0.0</td>\n",
       "    </tr>\n",
       "  </tbody>\n",
       "</table>\n",
       "</div>"
      ],
      "text/plain": [
       "        course    band  dist.m.         going  season race_group race_type  \\\n",
       "0  Punchestown  4yo+ M     3200  Good To Firm       5     Hurdle  Handicap   \n",
       "1  Punchestown  4yo+ M     3200  Good To Firm       5     Hurdle  Handicap   \n",
       "\n",
       "   Race_Money     trainer        jockey  pos  age  lbs gear    ts  act_score  \\\n",
       "0     11568.0  C A Murphy  A J Donoghue  3.0    5  157    t  93.0          0   \n",
       "1     11568.0     C Roche    Mark Walsh  5.0    4  150    t  79.0          0   \n",
       "\n",
       "   prize_money  \n",
       "0        852.0  \n",
       "1          0.0  "
      ]
     },
     "execution_count": 69,
     "metadata": {},
     "output_type": "execute_result"
    }
   ],
   "source": [
    "cleaned_df = new_df.drop('date', 1)\n",
    "\n",
    "cleaned_df.head(2)"
   ]
  },
  {
   "cell_type": "code",
   "execution_count": 68,
   "id": "55dc8151",
   "metadata": {
    "scrolled": true
   },
   "outputs": [
    {
     "data": {
      "text/html": [
       "<div>\n",
       "<style scoped>\n",
       "    .dataframe tbody tr th:only-of-type {\n",
       "        vertical-align: middle;\n",
       "    }\n",
       "\n",
       "    .dataframe tbody tr th {\n",
       "        vertical-align: top;\n",
       "    }\n",
       "\n",
       "    .dataframe thead th {\n",
       "        text-align: right;\n",
       "    }\n",
       "</style>\n",
       "<table border=\"1\" class=\"dataframe\">\n",
       "  <thead>\n",
       "    <tr style=\"text-align: right;\">\n",
       "      <th></th>\n",
       "      <th>course</th>\n",
       "      <th>band</th>\n",
       "      <th>dist.m.</th>\n",
       "      <th>going</th>\n",
       "      <th>season</th>\n",
       "      <th>race_group</th>\n",
       "      <th>race_type</th>\n",
       "      <th>Race_Money</th>\n",
       "      <th>trainer</th>\n",
       "      <th>jockey</th>\n",
       "      <th>pos</th>\n",
       "      <th>age</th>\n",
       "      <th>lbs</th>\n",
       "      <th>gear</th>\n",
       "      <th>ts</th>\n",
       "      <th>act_score</th>\n",
       "      <th>prize_money</th>\n",
       "    </tr>\n",
       "  </thead>\n",
       "  <tbody>\n",
       "    <tr>\n",
       "      <th>3</th>\n",
       "      <td>Cork</td>\n",
       "      <td>4-5yo</td>\n",
       "      <td>3200</td>\n",
       "      <td>Heavy</td>\n",
       "      <td>5</td>\n",
       "      <td>Hurdle</td>\n",
       "      <td>Handicap</td>\n",
       "      <td>12532.0</td>\n",
       "      <td>David Marnane</td>\n",
       "      <td>Davy Russell</td>\n",
       "      <td>1.0</td>\n",
       "      <td>4</td>\n",
       "      <td>161</td>\n",
       "      <td>t</td>\n",
       "      <td>33.0</td>\n",
       "      <td>1</td>\n",
       "      <td>8983.0</td>\n",
       "    </tr>\n",
       "    <tr>\n",
       "      <th>11</th>\n",
       "      <td>Navan</td>\n",
       "      <td>4yo+</td>\n",
       "      <td>4000</td>\n",
       "      <td>Soft</td>\n",
       "      <td>5</td>\n",
       "      <td>Hurdle</td>\n",
       "      <td>Handicap</td>\n",
       "      <td>14460.0</td>\n",
       "      <td>C Byrnes</td>\n",
       "      <td>Davy Russell</td>\n",
       "      <td>1.0</td>\n",
       "      <td>4</td>\n",
       "      <td>156</td>\n",
       "      <td>b</td>\n",
       "      <td>83.0</td>\n",
       "      <td>1</td>\n",
       "      <td>10365.0</td>\n",
       "    </tr>\n",
       "  </tbody>\n",
       "</table>\n",
       "</div>"
      ],
      "text/plain": [
       "   course   band  dist.m.  going  season race_group race_type  Race_Money  \\\n",
       "3    Cork  4-5yo     3200  Heavy       5     Hurdle  Handicap     12532.0   \n",
       "11  Navan   4yo+     4000   Soft       5     Hurdle  Handicap     14460.0   \n",
       "\n",
       "          trainer        jockey  pos  age  lbs gear    ts  act_score  \\\n",
       "3   David Marnane  Davy Russell  1.0    4  161    t  33.0          1   \n",
       "11       C Byrnes  Davy Russell  1.0    4  156    b  83.0          1   \n",
       "\n",
       "    prize_money  \n",
       "3        8983.0  \n",
       "11      10365.0  "
      ]
     },
     "execution_count": 68,
     "metadata": {},
     "output_type": "execute_result"
    }
   ],
   "source": [
    "cleaned_positive = cleaned_df[cleaned_df['act_score']==1]\n",
    "cleaned_positive.head(2)"
   ]
  },
  {
   "cell_type": "code",
   "execution_count": 67,
   "id": "7461d686",
   "metadata": {
    "scrolled": true
   },
   "outputs": [
    {
     "data": {
      "text/html": [
       "<div>\n",
       "<style scoped>\n",
       "    .dataframe tbody tr th:only-of-type {\n",
       "        vertical-align: middle;\n",
       "    }\n",
       "\n",
       "    .dataframe tbody tr th {\n",
       "        vertical-align: top;\n",
       "    }\n",
       "\n",
       "    .dataframe thead th {\n",
       "        text-align: right;\n",
       "    }\n",
       "</style>\n",
       "<table border=\"1\" class=\"dataframe\">\n",
       "  <thead>\n",
       "    <tr style=\"text-align: right;\">\n",
       "      <th></th>\n",
       "      <th>course</th>\n",
       "      <th>band</th>\n",
       "      <th>dist.m.</th>\n",
       "      <th>going</th>\n",
       "      <th>season</th>\n",
       "      <th>race_group</th>\n",
       "      <th>race_type</th>\n",
       "      <th>Race_Money</th>\n",
       "      <th>trainer</th>\n",
       "      <th>jockey</th>\n",
       "      <th>pos</th>\n",
       "      <th>age</th>\n",
       "      <th>lbs</th>\n",
       "      <th>gear</th>\n",
       "      <th>ts</th>\n",
       "      <th>act_score</th>\n",
       "      <th>prize_money</th>\n",
       "    </tr>\n",
       "  </thead>\n",
       "  <tbody>\n",
       "    <tr>\n",
       "      <th>62440</th>\n",
       "      <td>Huntingdon</td>\n",
       "      <td>4yo+</td>\n",
       "      <td>3200</td>\n",
       "      <td>Good To Firm</td>\n",
       "      <td>8</td>\n",
       "      <td>Hurdle</td>\n",
       "      <td>Handicap</td>\n",
       "      <td>5035.397727</td>\n",
       "      <td>Tony Carroll</td>\n",
       "      <td>Lee Edwards</td>\n",
       "      <td>2.0</td>\n",
       "      <td>7</td>\n",
       "      <td>147</td>\n",
       "      <td>b</td>\n",
       "      <td>94.0</td>\n",
       "      <td>0</td>\n",
       "      <td>976.704545</td>\n",
       "    </tr>\n",
       "    <tr>\n",
       "      <th>99873</th>\n",
       "      <td>Kempton</td>\n",
       "      <td>4-6yo</td>\n",
       "      <td>3200</td>\n",
       "      <td>Good</td>\n",
       "      <td>14</td>\n",
       "      <td>Bumper</td>\n",
       "      <td>Handicap</td>\n",
       "      <td>4471.363636</td>\n",
       "      <td>Harry Fry</td>\n",
       "      <td>Noel Fehily</td>\n",
       "      <td>8.0</td>\n",
       "      <td>6</td>\n",
       "      <td>151</td>\n",
       "      <td>ht</td>\n",
       "      <td>66.0</td>\n",
       "      <td>0</td>\n",
       "      <td>0.000000</td>\n",
       "    </tr>\n",
       "  </tbody>\n",
       "</table>\n",
       "</div>"
      ],
      "text/plain": [
       "           course   band  dist.m.         going  season race_group race_type  \\\n",
       "62440  Huntingdon   4yo+     3200  Good To Firm       8     Hurdle  Handicap   \n",
       "99873     Kempton  4-6yo     3200          Good      14     Bumper  Handicap   \n",
       "\n",
       "        Race_Money       trainer       jockey  pos  age  lbs gear    ts  \\\n",
       "62440  5035.397727  Tony Carroll  Lee Edwards  2.0    7  147    b  94.0   \n",
       "99873  4471.363636     Harry Fry  Noel Fehily  8.0    6  151   ht  66.0   \n",
       "\n",
       "       act_score  prize_money  \n",
       "62440          0   976.704545  \n",
       "99873          0     0.000000  "
      ]
     },
     "execution_count": 67,
     "metadata": {},
     "output_type": "execute_result"
    }
   ],
   "source": [
    "cleaned_neg = cleaned_df[cleaned_df['act_score']==0].sample(n=len(cleaned_positive))\n",
    "cleaned_neg.head(2)"
   ]
  },
  {
   "cell_type": "code",
   "execution_count": 66,
   "id": "8b9ef910",
   "metadata": {
    "scrolled": true
   },
   "outputs": [
    {
     "data": {
      "text/html": [
       "<div>\n",
       "<style scoped>\n",
       "    .dataframe tbody tr th:only-of-type {\n",
       "        vertical-align: middle;\n",
       "    }\n",
       "\n",
       "    .dataframe tbody tr th {\n",
       "        vertical-align: top;\n",
       "    }\n",
       "\n",
       "    .dataframe thead th {\n",
       "        text-align: right;\n",
       "    }\n",
       "</style>\n",
       "<table border=\"1\" class=\"dataframe\">\n",
       "  <thead>\n",
       "    <tr style=\"text-align: right;\">\n",
       "      <th></th>\n",
       "      <th>course</th>\n",
       "      <th>band</th>\n",
       "      <th>dist.m.</th>\n",
       "      <th>going</th>\n",
       "      <th>season</th>\n",
       "      <th>race_group</th>\n",
       "      <th>race_type</th>\n",
       "      <th>Race_Money</th>\n",
       "      <th>trainer</th>\n",
       "      <th>jockey</th>\n",
       "      <th>pos</th>\n",
       "      <th>age</th>\n",
       "      <th>lbs</th>\n",
       "      <th>gear</th>\n",
       "      <th>ts</th>\n",
       "      <th>act_score</th>\n",
       "      <th>prize_money</th>\n",
       "    </tr>\n",
       "  </thead>\n",
       "  <tbody>\n",
       "    <tr>\n",
       "      <th>3</th>\n",
       "      <td>Cork</td>\n",
       "      <td>4-5yo</td>\n",
       "      <td>3200</td>\n",
       "      <td>Heavy</td>\n",
       "      <td>5</td>\n",
       "      <td>Hurdle</td>\n",
       "      <td>Handicap</td>\n",
       "      <td>12532.0</td>\n",
       "      <td>David Marnane</td>\n",
       "      <td>Davy Russell</td>\n",
       "      <td>1.0</td>\n",
       "      <td>4</td>\n",
       "      <td>161</td>\n",
       "      <td>t</td>\n",
       "      <td>33.0</td>\n",
       "      <td>1</td>\n",
       "      <td>8983.0</td>\n",
       "    </tr>\n",
       "    <tr>\n",
       "      <th>11</th>\n",
       "      <td>Navan</td>\n",
       "      <td>4yo+</td>\n",
       "      <td>4000</td>\n",
       "      <td>Soft</td>\n",
       "      <td>5</td>\n",
       "      <td>Hurdle</td>\n",
       "      <td>Handicap</td>\n",
       "      <td>14460.0</td>\n",
       "      <td>C Byrnes</td>\n",
       "      <td>Davy Russell</td>\n",
       "      <td>1.0</td>\n",
       "      <td>4</td>\n",
       "      <td>156</td>\n",
       "      <td>b</td>\n",
       "      <td>83.0</td>\n",
       "      <td>1</td>\n",
       "      <td>10365.0</td>\n",
       "    </tr>\n",
       "  </tbody>\n",
       "</table>\n",
       "</div>"
      ],
      "text/plain": [
       "   course   band  dist.m.  going  season race_group race_type  Race_Money  \\\n",
       "3    Cork  4-5yo     3200  Heavy       5     Hurdle  Handicap     12532.0   \n",
       "11  Navan   4yo+     4000   Soft       5     Hurdle  Handicap     14460.0   \n",
       "\n",
       "          trainer        jockey  pos  age  lbs gear    ts  act_score  \\\n",
       "3   David Marnane  Davy Russell  1.0    4  161    t  33.0          1   \n",
       "11       C Byrnes  Davy Russell  1.0    4  156    b  83.0          1   \n",
       "\n",
       "    prize_money  \n",
       "3        8983.0  \n",
       "11      10365.0  "
      ]
     },
     "execution_count": 66,
     "metadata": {},
     "output_type": "execute_result"
    }
   ],
   "source": [
    "clean_df = pd.concat([cleaned_positive,cleaned_neg], axis=0)\n",
    "clean_df.head(2)"
   ]
  },
  {
   "cell_type": "code",
   "execution_count": 14,
   "id": "e17a30cb",
   "metadata": {},
   "outputs": [
    {
     "data": {
      "text/plain": [
       "(31280, 17)"
      ]
     },
     "execution_count": 14,
     "metadata": {},
     "output_type": "execute_result"
    }
   ],
   "source": [
    "clean_df.shape"
   ]
  },
  {
   "cell_type": "code",
   "execution_count": 15,
   "id": "a9cee040",
   "metadata": {},
   "outputs": [],
   "source": [
    "# Assign X as dataframe of the features and y as a series of the outcome variable\n",
    "X = clean_df.drop(\"act_score\", 1) \n",
    "y = clean_df.act_score # target"
   ]
  },
  {
   "cell_type": "code",
   "execution_count": 16,
   "id": "9a576246",
   "metadata": {},
   "outputs": [
    {
     "data": {
      "text/plain": [
       "(31280, 16)"
      ]
     },
     "execution_count": 16,
     "metadata": {},
     "output_type": "execute_result"
    }
   ],
   "source": [
    "X.shape"
   ]
  },
  {
   "cell_type": "code",
   "execution_count": 65,
   "id": "acb6a591",
   "metadata": {},
   "outputs": [
    {
     "data": {
      "text/plain": [
       "3     1\n",
       "11    1\n",
       "Name: act_score, dtype: int64"
      ]
     },
     "execution_count": 65,
     "metadata": {},
     "output_type": "execute_result"
    }
   ],
   "source": [
    "y.head(2)"
   ]
  },
  {
   "cell_type": "code",
   "execution_count": 21,
   "id": "iVqIpPi19-uD",
   "metadata": {
    "colab": {
     "base_uri": "https://localhost:8080/",
     "height": 147
    },
    "id": "iVqIpPi19-uD",
    "outputId": "53a18d17-5688-43ac-9303-2654bdb64d69"
   },
   "outputs": [
    {
     "data": {
      "text/plain": [
       "(31280, 16)"
      ]
     },
     "execution_count": 21,
     "metadata": {},
     "output_type": "execute_result"
    }
   ],
   "source": [
    "X.shape"
   ]
  },
  {
   "cell_type": "code",
   "execution_count": 22,
   "id": "Iw00go849-08",
   "metadata": {
    "colab": {
     "base_uri": "https://localhost:8080/"
    },
    "id": "Iw00go849-08",
    "outputId": "62743baf-79d0-4c8a-957a-9fcd8c5743d2"
   },
   "outputs": [
    {
     "data": {
      "text/plain": [
       "(31280,)"
      ]
     },
     "execution_count": 22,
     "metadata": {},
     "output_type": "execute_result"
    }
   ],
   "source": [
    "y.shape"
   ]
  },
  {
   "cell_type": "code",
   "execution_count": 23,
   "id": "c47935b0",
   "metadata": {
    "scrolled": false
   },
   "outputs": [
    {
     "data": {
      "text/plain": [
       "Richard Johnson       703\n",
       "A P McCoy             679\n",
       "Tom Scudamore         648\n",
       "Davy Russell          522\n",
       "Noel Fehily           491\n",
       "Paddy Brennan         403\n",
       "Sam Twiston-Davies    397\n",
       "Name: jockey, dtype: int64"
      ]
     },
     "execution_count": 23,
     "metadata": {},
     "output_type": "execute_result"
    }
   ],
   "source": [
    "X['jockey'].value_counts().head(7)"
   ]
  },
  {
   "cell_type": "code",
   "execution_count": 24,
   "id": "d5a61c4a",
   "metadata": {
    "scrolled": true
   },
   "outputs": [
    {
     "data": {
      "text/html": [
       "<div>\n",
       "<style scoped>\n",
       "    .dataframe tbody tr th:only-of-type {\n",
       "        vertical-align: middle;\n",
       "    }\n",
       "\n",
       "    .dataframe tbody tr th {\n",
       "        vertical-align: top;\n",
       "    }\n",
       "\n",
       "    .dataframe thead th {\n",
       "        text-align: right;\n",
       "    }\n",
       "</style>\n",
       "<table border=\"1\" class=\"dataframe\">\n",
       "  <thead>\n",
       "    <tr style=\"text-align: right;\">\n",
       "      <th></th>\n",
       "      <th>index</th>\n",
       "      <th>jockey</th>\n",
       "    </tr>\n",
       "  </thead>\n",
       "  <tbody>\n",
       "    <tr>\n",
       "      <th>0</th>\n",
       "      <td>other</td>\n",
       "      <td>15180</td>\n",
       "    </tr>\n",
       "    <tr>\n",
       "      <th>1</th>\n",
       "      <td>Richard Johnson</td>\n",
       "      <td>703</td>\n",
       "    </tr>\n",
       "    <tr>\n",
       "      <th>2</th>\n",
       "      <td>A P McCoy</td>\n",
       "      <td>679</td>\n",
       "    </tr>\n",
       "    <tr>\n",
       "      <th>3</th>\n",
       "      <td>Tom Scudamore</td>\n",
       "      <td>648</td>\n",
       "    </tr>\n",
       "    <tr>\n",
       "      <th>4</th>\n",
       "      <td>Davy Russell</td>\n",
       "      <td>522</td>\n",
       "    </tr>\n",
       "    <tr>\n",
       "      <th>...</th>\n",
       "      <td>...</td>\n",
       "      <td>...</td>\n",
       "    </tr>\n",
       "    <tr>\n",
       "      <th>73</th>\n",
       "      <td>James Reveley</td>\n",
       "      <td>104</td>\n",
       "    </tr>\n",
       "    <tr>\n",
       "      <th>74</th>\n",
       "      <td>Donagh Meyler</td>\n",
       "      <td>104</td>\n",
       "    </tr>\n",
       "    <tr>\n",
       "      <th>75</th>\n",
       "      <td>Michael Darcy</td>\n",
       "      <td>104</td>\n",
       "    </tr>\n",
       "    <tr>\n",
       "      <th>76</th>\n",
       "      <td>Liam Treadwell</td>\n",
       "      <td>103</td>\n",
       "    </tr>\n",
       "    <tr>\n",
       "      <th>77</th>\n",
       "      <td>Dave Crosse</td>\n",
       "      <td>101</td>\n",
       "    </tr>\n",
       "  </tbody>\n",
       "</table>\n",
       "<p>78 rows × 2 columns</p>\n",
       "</div>"
      ],
      "text/plain": [
       "              index  jockey\n",
       "0             other   15180\n",
       "1   Richard Johnson     703\n",
       "2         A P McCoy     679\n",
       "3     Tom Scudamore     648\n",
       "4      Davy Russell     522\n",
       "..              ...     ...\n",
       "73    James Reveley     104\n",
       "74    Donagh Meyler     104\n",
       "75    Michael Darcy     104\n",
       "76   Liam Treadwell     103\n",
       "77      Dave Crosse     101\n",
       "\n",
       "[78 rows x 2 columns]"
      ]
     },
     "execution_count": 24,
     "metadata": {},
     "output_type": "execute_result"
    }
   ],
   "source": [
    "# Reduce categorical variables (band)\n",
    "jockey_others = X['jockey'].value_counts().loc[lambda x: x<101]\n",
    "application_to_replace = jockey_others.index.tolist()\n",
    "for j in application_to_replace:\n",
    "    X['jockey'] = X['jockey'].replace(j,\"other\")\n",
    "# Confirm binning was successful\n",
    "X['jockey'].value_counts(sort=True).reset_index()"
   ]
  },
  {
   "cell_type": "code",
   "execution_count": 64,
   "id": "005efa9d",
   "metadata": {
    "scrolled": true
   },
   "outputs": [
    {
     "data": {
      "text/plain": [
       "other              12120\n",
       "Gordon Elliott       972\n",
       "David Pipe           821\n",
       "Paul Nicholls        741\n",
       "Jonjo O'Neill        519\n",
       "Peter Bowen          434\n",
       "Tim Vaughan          388\n",
       "Donald McCain        355\n",
       "Noel Meade           351\n",
       "Lucinda Russell      333\n",
       "Name: trainer, dtype: int64"
      ]
     },
     "execution_count": 64,
     "metadata": {},
     "output_type": "execute_result"
    }
   ],
   "source": [
    "X['trainer'].value_counts().head(10)"
   ]
  },
  {
   "cell_type": "code",
   "execution_count": 26,
   "id": "2b0832df",
   "metadata": {},
   "outputs": [
    {
     "data": {
      "text/html": [
       "<div>\n",
       "<style scoped>\n",
       "    .dataframe tbody tr th:only-of-type {\n",
       "        vertical-align: middle;\n",
       "    }\n",
       "\n",
       "    .dataframe tbody tr th {\n",
       "        vertical-align: top;\n",
       "    }\n",
       "\n",
       "    .dataframe thead th {\n",
       "        text-align: right;\n",
       "    }\n",
       "</style>\n",
       "<table border=\"1\" class=\"dataframe\">\n",
       "  <thead>\n",
       "    <tr style=\"text-align: right;\">\n",
       "      <th></th>\n",
       "      <th>index</th>\n",
       "      <th>trainer</th>\n",
       "    </tr>\n",
       "  </thead>\n",
       "  <tbody>\n",
       "    <tr>\n",
       "      <th>0</th>\n",
       "      <td>other</td>\n",
       "      <td>12120</td>\n",
       "    </tr>\n",
       "    <tr>\n",
       "      <th>1</th>\n",
       "      <td>Gordon Elliott</td>\n",
       "      <td>972</td>\n",
       "    </tr>\n",
       "    <tr>\n",
       "      <th>2</th>\n",
       "      <td>David Pipe</td>\n",
       "      <td>821</td>\n",
       "    </tr>\n",
       "    <tr>\n",
       "      <th>3</th>\n",
       "      <td>Paul Nicholls</td>\n",
       "      <td>741</td>\n",
       "    </tr>\n",
       "    <tr>\n",
       "      <th>4</th>\n",
       "      <td>Jonjo O'Neill</td>\n",
       "      <td>519</td>\n",
       "    </tr>\n",
       "    <tr>\n",
       "      <th>...</th>\n",
       "      <td>...</td>\n",
       "      <td>...</td>\n",
       "    </tr>\n",
       "    <tr>\n",
       "      <th>134</th>\n",
       "      <td>Robert Alan Hennessy</td>\n",
       "      <td>56</td>\n",
       "    </tr>\n",
       "    <tr>\n",
       "      <th>135</th>\n",
       "      <td>David Rees</td>\n",
       "      <td>56</td>\n",
       "    </tr>\n",
       "    <tr>\n",
       "      <th>136</th>\n",
       "      <td>Kevin Bishop</td>\n",
       "      <td>55</td>\n",
       "    </tr>\n",
       "    <tr>\n",
       "      <th>137</th>\n",
       "      <td>David Dennis</td>\n",
       "      <td>54</td>\n",
       "    </tr>\n",
       "    <tr>\n",
       "      <th>138</th>\n",
       "      <td>Paul Henderson</td>\n",
       "      <td>54</td>\n",
       "    </tr>\n",
       "  </tbody>\n",
       "</table>\n",
       "<p>139 rows × 2 columns</p>\n",
       "</div>"
      ],
      "text/plain": [
       "                    index  trainer\n",
       "0                   other    12120\n",
       "1          Gordon Elliott      972\n",
       "2              David Pipe      821\n",
       "3           Paul Nicholls      741\n",
       "4           Jonjo O'Neill      519\n",
       "..                    ...      ...\n",
       "134  Robert Alan Hennessy       56\n",
       "135            David Rees       56\n",
       "136          Kevin Bishop       55\n",
       "137          David Dennis       54\n",
       "138        Paul Henderson       54\n",
       "\n",
       "[139 rows x 2 columns]"
      ]
     },
     "execution_count": 26,
     "metadata": {},
     "output_type": "execute_result"
    }
   ],
   "source": [
    "# Reduce categorical variables (band)\n",
    "trainer_others = X['trainer'].value_counts().loc[lambda x: x<54]\n",
    "application_to_replace = trainer_others.index.tolist()\n",
    "for t in application_to_replace:\n",
    "    X['trainer'] = X['trainer'].replace(t,\"other\")\n",
    "# Confirm binning was successful\n",
    "X['trainer'].value_counts(sort=True).reset_index()"
   ]
  },
  {
   "cell_type": "code",
   "execution_count": 62,
   "id": "1b4bea4f",
   "metadata": {
    "scrolled": true
   },
   "outputs": [
    {
     "data": {
      "text/html": [
       "<div>\n",
       "<style scoped>\n",
       "    .dataframe tbody tr th:only-of-type {\n",
       "        vertical-align: middle;\n",
       "    }\n",
       "\n",
       "    .dataframe tbody tr th {\n",
       "        vertical-align: top;\n",
       "    }\n",
       "\n",
       "    .dataframe thead th {\n",
       "        text-align: right;\n",
       "    }\n",
       "</style>\n",
       "<table border=\"1\" class=\"dataframe\">\n",
       "  <thead>\n",
       "    <tr style=\"text-align: right;\">\n",
       "      <th></th>\n",
       "      <th>course</th>\n",
       "      <th>band</th>\n",
       "      <th>dist.m.</th>\n",
       "      <th>going</th>\n",
       "      <th>season</th>\n",
       "      <th>race_group</th>\n",
       "      <th>race_type</th>\n",
       "      <th>Race_Money</th>\n",
       "      <th>trainer</th>\n",
       "      <th>jockey</th>\n",
       "      <th>pos</th>\n",
       "      <th>age</th>\n",
       "      <th>lbs</th>\n",
       "      <th>gear</th>\n",
       "      <th>ts</th>\n",
       "      <th>prize_money</th>\n",
       "    </tr>\n",
       "  </thead>\n",
       "  <tbody>\n",
       "    <tr>\n",
       "      <th>3</th>\n",
       "      <td>Cork</td>\n",
       "      <td>4-5yo</td>\n",
       "      <td>3200</td>\n",
       "      <td>Heavy</td>\n",
       "      <td>5</td>\n",
       "      <td>Hurdle</td>\n",
       "      <td>Handicap</td>\n",
       "      <td>12532.0</td>\n",
       "      <td>other</td>\n",
       "      <td>Davy Russell</td>\n",
       "      <td>1.0</td>\n",
       "      <td>4</td>\n",
       "      <td>161</td>\n",
       "      <td>t</td>\n",
       "      <td>33.0</td>\n",
       "      <td>8983.0</td>\n",
       "    </tr>\n",
       "    <tr>\n",
       "      <th>11</th>\n",
       "      <td>Navan</td>\n",
       "      <td>4yo+</td>\n",
       "      <td>4000</td>\n",
       "      <td>Soft</td>\n",
       "      <td>5</td>\n",
       "      <td>Hurdle</td>\n",
       "      <td>Handicap</td>\n",
       "      <td>14460.0</td>\n",
       "      <td>C Byrnes</td>\n",
       "      <td>Davy Russell</td>\n",
       "      <td>1.0</td>\n",
       "      <td>4</td>\n",
       "      <td>156</td>\n",
       "      <td>b</td>\n",
       "      <td>83.0</td>\n",
       "      <td>10365.0</td>\n",
       "    </tr>\n",
       "  </tbody>\n",
       "</table>\n",
       "</div>"
      ],
      "text/plain": [
       "   course   band  dist.m.  going  season race_group race_type  Race_Money  \\\n",
       "3    Cork  4-5yo     3200  Heavy       5     Hurdle  Handicap     12532.0   \n",
       "11  Navan   4yo+     4000   Soft       5     Hurdle  Handicap     14460.0   \n",
       "\n",
       "     trainer        jockey  pos  age  lbs gear    ts  prize_money  \n",
       "3      other  Davy Russell  1.0    4  161    t  33.0       8983.0  \n",
       "11  C Byrnes  Davy Russell  1.0    4  156    b  83.0      10365.0  "
      ]
     },
     "execution_count": 62,
     "metadata": {},
     "output_type": "execute_result"
    }
   ],
   "source": [
    "X.head(2)"
   ]
  },
  {
   "cell_type": "code",
   "execution_count": 61,
   "id": "304ff93c",
   "metadata": {},
   "outputs": [
    {
     "data": {
      "text/html": [
       "<div>\n",
       "<style scoped>\n",
       "    .dataframe tbody tr th:only-of-type {\n",
       "        vertical-align: middle;\n",
       "    }\n",
       "\n",
       "    .dataframe tbody tr th {\n",
       "        vertical-align: top;\n",
       "    }\n",
       "\n",
       "    .dataframe thead th {\n",
       "        text-align: right;\n",
       "    }\n",
       "</style>\n",
       "<table border=\"1\" class=\"dataframe\">\n",
       "  <thead>\n",
       "    <tr style=\"text-align: right;\">\n",
       "      <th></th>\n",
       "      <th>course</th>\n",
       "      <th>band</th>\n",
       "      <th>dist.m.</th>\n",
       "      <th>going</th>\n",
       "      <th>season</th>\n",
       "      <th>race_group</th>\n",
       "      <th>race_type</th>\n",
       "      <th>Race_Money</th>\n",
       "      <th>trainer</th>\n",
       "      <th>jockey</th>\n",
       "      <th>pos</th>\n",
       "      <th>age</th>\n",
       "      <th>lbs</th>\n",
       "      <th>gear</th>\n",
       "      <th>ts</th>\n",
       "      <th>prize_money</th>\n",
       "    </tr>\n",
       "  </thead>\n",
       "  <tbody>\n",
       "    <tr>\n",
       "      <th>3</th>\n",
       "      <td>Cork</td>\n",
       "      <td>4-5yo</td>\n",
       "      <td>3200</td>\n",
       "      <td>Heavy</td>\n",
       "      <td>5</td>\n",
       "      <td>Hurdle</td>\n",
       "      <td>Handicap</td>\n",
       "      <td>12532.0</td>\n",
       "      <td>other</td>\n",
       "      <td>Davy Russell</td>\n",
       "      <td>1.0</td>\n",
       "      <td>4</td>\n",
       "      <td>161</td>\n",
       "      <td>t</td>\n",
       "      <td>33.0</td>\n",
       "      <td>8983.0</td>\n",
       "    </tr>\n",
       "    <tr>\n",
       "      <th>11</th>\n",
       "      <td>Navan</td>\n",
       "      <td>4yo+</td>\n",
       "      <td>4000</td>\n",
       "      <td>Soft</td>\n",
       "      <td>5</td>\n",
       "      <td>Hurdle</td>\n",
       "      <td>Handicap</td>\n",
       "      <td>14460.0</td>\n",
       "      <td>C Byrnes</td>\n",
       "      <td>Davy Russell</td>\n",
       "      <td>1.0</td>\n",
       "      <td>4</td>\n",
       "      <td>156</td>\n",
       "      <td>b</td>\n",
       "      <td>83.0</td>\n",
       "      <td>10365.0</td>\n",
       "    </tr>\n",
       "  </tbody>\n",
       "</table>\n",
       "</div>"
      ],
      "text/plain": [
       "   course   band  dist.m.  going  season race_group race_type  Race_Money  \\\n",
       "3    Cork  4-5yo     3200  Heavy       5     Hurdle  Handicap     12532.0   \n",
       "11  Navan   4yo+     4000   Soft       5     Hurdle  Handicap     14460.0   \n",
       "\n",
       "     trainer        jockey  pos  age  lbs gear    ts  prize_money  \n",
       "3      other  Davy Russell  1.0    4  161    t  33.0       8983.0  \n",
       "11  C Byrnes  Davy Russell  1.0    4  156    b  83.0      10365.0  "
      ]
     },
     "execution_count": 61,
     "metadata": {},
     "output_type": "execute_result"
    }
   ],
   "source": [
    "X.head(2)"
   ]
  },
  {
   "cell_type": "code",
   "execution_count": 63,
   "id": "6730f0a8",
   "metadata": {},
   "outputs": [
    {
     "data": {
      "text/plain": [
       "3     1\n",
       "11    1\n",
       "Name: act_score, dtype: int64"
      ]
     },
     "execution_count": 63,
     "metadata": {},
     "output_type": "execute_result"
    }
   ],
   "source": [
    "y.head(2)"
   ]
  },
  {
   "cell_type": "code",
   "execution_count": 30,
   "id": "451c0b7d",
   "metadata": {},
   "outputs": [
    {
     "data": {
      "text/plain": [
       "array([1, 1, 1, ..., 0, 0, 0], dtype=int64)"
      ]
     },
     "execution_count": 30,
     "metadata": {},
     "output_type": "execute_result"
    }
   ],
   "source": [
    "# assign labels denoted by y to our train and test data sets\n",
    "y_label = LabelEncoder().fit_transform(clean_df[\"act_score\"])\n",
    "y_label"
   ]
  },
  {
   "cell_type": "code",
   "execution_count": 31,
   "id": "d0374fac",
   "metadata": {},
   "outputs": [
    {
     "data": {
      "text/plain": [
       "<AxesSubplot:>"
      ]
     },
     "execution_count": 31,
     "metadata": {},
     "output_type": "execute_result"
    },
    {
     "data": {
      "image/png": "[encoded data removed]",
      "text/plain": [
       "<Figure size 432x288 with 1 Axes>"
      ]
     },
     "metadata": {
      "needs_background": "light"
     },
     "output_type": "display_data"
    }
   ],
   "source": [
    "clean_df[\"act_score\"].value_counts().plot(kind=\"bar\")"
   ]
  },
  {
   "cell_type": "code",
   "execution_count": 74,
   "id": "07008813",
   "metadata": {
    "scrolled": true
   },
   "outputs": [
    {
     "data": {
      "text/html": [
       "<div>\n",
       "<style scoped>\n",
       "    .dataframe tbody tr th:only-of-type {\n",
       "        vertical-align: middle;\n",
       "    }\n",
       "\n",
       "    .dataframe tbody tr th {\n",
       "        vertical-align: top;\n",
       "    }\n",
       "\n",
       "    .dataframe thead th {\n",
       "        text-align: right;\n",
       "    }\n",
       "</style>\n",
       "<table border=\"1\" class=\"dataframe\">\n",
       "  <thead>\n",
       "    <tr style=\"text-align: right;\">\n",
       "      <th></th>\n",
       "      <th>dist.m.</th>\n",
       "      <th>season</th>\n",
       "      <th>Race_Money</th>\n",
       "      <th>pos</th>\n",
       "      <th>age</th>\n",
       "      <th>lbs</th>\n",
       "      <th>ts</th>\n",
       "      <th>act_score</th>\n",
       "      <th>prize_money</th>\n",
       "      <th>course_Aintree</th>\n",
       "      <th>...</th>\n",
       "      <th>gear_htb</th>\n",
       "      <th>gear_htp</th>\n",
       "      <th>gear_hv</th>\n",
       "      <th>gear_p</th>\n",
       "      <th>gear_t</th>\n",
       "      <th>gear_tb</th>\n",
       "      <th>gear_tp</th>\n",
       "      <th>gear_tv</th>\n",
       "      <th>gear_v</th>\n",
       "      <th>gear_vp</th>\n",
       "    </tr>\n",
       "  </thead>\n",
       "  <tbody>\n",
       "    <tr>\n",
       "      <th>3</th>\n",
       "      <td>3200</td>\n",
       "      <td>5</td>\n",
       "      <td>12532.0</td>\n",
       "      <td>1.0</td>\n",
       "      <td>4</td>\n",
       "      <td>161</td>\n",
       "      <td>33.0</td>\n",
       "      <td>1</td>\n",
       "      <td>8983.0</td>\n",
       "      <td>0</td>\n",
       "      <td>...</td>\n",
       "      <td>0</td>\n",
       "      <td>0</td>\n",
       "      <td>0</td>\n",
       "      <td>0</td>\n",
       "      <td>1</td>\n",
       "      <td>0</td>\n",
       "      <td>0</td>\n",
       "      <td>0</td>\n",
       "      <td>0</td>\n",
       "      <td>0</td>\n",
       "    </tr>\n",
       "    <tr>\n",
       "      <th>11</th>\n",
       "      <td>4000</td>\n",
       "      <td>5</td>\n",
       "      <td>14460.0</td>\n",
       "      <td>1.0</td>\n",
       "      <td>4</td>\n",
       "      <td>156</td>\n",
       "      <td>83.0</td>\n",
       "      <td>1</td>\n",
       "      <td>10365.0</td>\n",
       "      <td>0</td>\n",
       "      <td>...</td>\n",
       "      <td>0</td>\n",
       "      <td>0</td>\n",
       "      <td>0</td>\n",
       "      <td>0</td>\n",
       "      <td>0</td>\n",
       "      <td>0</td>\n",
       "      <td>0</td>\n",
       "      <td>0</td>\n",
       "      <td>0</td>\n",
       "      <td>0</td>\n",
       "    </tr>\n",
       "  </tbody>\n",
       "</table>\n",
       "<p>2 rows × 2916 columns</p>\n",
       "</div>"
      ],
      "text/plain": [
       "    dist.m.  season  Race_Money  pos  age  lbs    ts  act_score  prize_money  \\\n",
       "3      3200       5     12532.0  1.0    4  161  33.0          1       8983.0   \n",
       "11     4000       5     14460.0  1.0    4  156  83.0          1      10365.0   \n",
       "\n",
       "    course_Aintree  ...  gear_htb  gear_htp  gear_hv  gear_p  gear_t  gear_tb  \\\n",
       "3                0  ...         0         0        0       0       1        0   \n",
       "11               0  ...         0         0        0       0       0        0   \n",
       "\n",
       "    gear_tp  gear_tv  gear_v  gear_vp  \n",
       "3         0        0       0        0  \n",
       "11        0        0       0        0  \n",
       "\n",
       "[2 rows x 2916 columns]"
      ]
     },
     "execution_count": 74,
     "metadata": {},
     "output_type": "execute_result"
    }
   ],
   "source": [
    "# get_dummies for train data\n",
    "X_dum = pd.get_dummies(clean_df)\n",
    "X_dum.head(2)"
   ]
  },
  {
   "cell_type": "code",
   "execution_count": 33,
   "id": "3be1b3ad",
   "metadata": {},
   "outputs": [
    {
     "data": {
      "text/plain": [
       "Index(['dist.m.', 'season', 'Race_Money', 'pos', 'age', 'lbs', 'ts',\n",
       "       'act_score', 'prize_money', 'course_Aintree',\n",
       "       ...\n",
       "       'gear_htb', 'gear_htp', 'gear_hv', 'gear_p', 'gear_t', 'gear_tb',\n",
       "       'gear_tp', 'gear_tv', 'gear_v', 'gear_vp'],\n",
       "      dtype='object', length=2916)"
      ]
     },
     "execution_count": 33,
     "metadata": {},
     "output_type": "execute_result"
    }
   ],
   "source": [
    "X_dum.columns"
   ]
  },
  {
   "cell_type": "code",
   "execution_count": 34,
   "id": "4c796957",
   "metadata": {},
   "outputs": [
    {
     "data": {
      "text/plain": [
       "dist.m.         43\n",
       "season          15\n",
       "Race_Money    2029\n",
       "pos             28\n",
       "age             14\n",
       "              ... \n",
       "gear_tb          2\n",
       "gear_tp          2\n",
       "gear_tv          2\n",
       "gear_v           2\n",
       "gear_vp          2\n",
       "Length: 2916, dtype: int64"
      ]
     },
     "execution_count": 34,
     "metadata": {},
     "output_type": "execute_result"
    }
   ],
   "source": [
    "X_dum.nunique()"
   ]
  },
  {
   "cell_type": "code",
   "execution_count": 75,
   "id": "7abf79cc",
   "metadata": {
    "scrolled": true
   },
   "outputs": [
    {
     "data": {
      "text/html": [
       "<div>\n",
       "<style scoped>\n",
       "    .dataframe tbody tr th:only-of-type {\n",
       "        vertical-align: middle;\n",
       "    }\n",
       "\n",
       "    .dataframe tbody tr th {\n",
       "        vertical-align: top;\n",
       "    }\n",
       "\n",
       "    .dataframe thead th {\n",
       "        text-align: right;\n",
       "    }\n",
       "</style>\n",
       "<table border=\"1\" class=\"dataframe\">\n",
       "  <thead>\n",
       "    <tr style=\"text-align: right;\">\n",
       "      <th></th>\n",
       "      <th>course</th>\n",
       "      <th>band</th>\n",
       "      <th>dist.m.</th>\n",
       "      <th>going</th>\n",
       "      <th>season</th>\n",
       "      <th>race_group</th>\n",
       "      <th>race_type</th>\n",
       "      <th>Race_Money</th>\n",
       "      <th>trainer</th>\n",
       "      <th>jockey</th>\n",
       "      <th>pos</th>\n",
       "      <th>age</th>\n",
       "      <th>lbs</th>\n",
       "      <th>gear</th>\n",
       "      <th>ts</th>\n",
       "      <th>prize_money</th>\n",
       "    </tr>\n",
       "  </thead>\n",
       "  <tbody>\n",
       "    <tr>\n",
       "      <th>3</th>\n",
       "      <td>Cork</td>\n",
       "      <td>4-5yo</td>\n",
       "      <td>3200</td>\n",
       "      <td>Heavy</td>\n",
       "      <td>5</td>\n",
       "      <td>Hurdle</td>\n",
       "      <td>Handicap</td>\n",
       "      <td>12532.0</td>\n",
       "      <td>other</td>\n",
       "      <td>Davy Russell</td>\n",
       "      <td>1.0</td>\n",
       "      <td>4</td>\n",
       "      <td>161</td>\n",
       "      <td>t</td>\n",
       "      <td>33.0</td>\n",
       "      <td>8983.0</td>\n",
       "    </tr>\n",
       "    <tr>\n",
       "      <th>11</th>\n",
       "      <td>Navan</td>\n",
       "      <td>4yo+</td>\n",
       "      <td>4000</td>\n",
       "      <td>Soft</td>\n",
       "      <td>5</td>\n",
       "      <td>Hurdle</td>\n",
       "      <td>Handicap</td>\n",
       "      <td>14460.0</td>\n",
       "      <td>C Byrnes</td>\n",
       "      <td>Davy Russell</td>\n",
       "      <td>1.0</td>\n",
       "      <td>4</td>\n",
       "      <td>156</td>\n",
       "      <td>b</td>\n",
       "      <td>83.0</td>\n",
       "      <td>10365.0</td>\n",
       "    </tr>\n",
       "  </tbody>\n",
       "</table>\n",
       "</div>"
      ],
      "text/plain": [
       "   course   band  dist.m.  going  season race_group race_type  Race_Money  \\\n",
       "3    Cork  4-5yo     3200  Heavy       5     Hurdle  Handicap     12532.0   \n",
       "11  Navan   4yo+     4000   Soft       5     Hurdle  Handicap     14460.0   \n",
       "\n",
       "     trainer        jockey  pos  age  lbs gear    ts  prize_money  \n",
       "3      other  Davy Russell  1.0    4  161    t  33.0       8983.0  \n",
       "11  C Byrnes  Davy Russell  1.0    4  156    b  83.0      10365.0  "
      ]
     },
     "execution_count": 75,
     "metadata": {},
     "output_type": "execute_result"
    }
   ],
   "source": [
    "X.head(2)"
   ]
  },
  {
   "cell_type": "code",
   "execution_count": 60,
   "id": "dae56977",
   "metadata": {},
   "outputs": [
    {
     "data": {
      "text/plain": [
       "Uttoxeter       980\n",
       "Fontwell        937\n",
       "Punchestown     903\n",
       "Newton-Abbot    883\n",
       "Worcester       850\n",
       "               ... \n",
       "Bellewstown     191\n",
       "Lingfield       156\n",
       "Folkestone      149\n",
       "Tralee           37\n",
       "Windsor          10\n",
       "Name: course, Length: 67, dtype: int64"
      ]
     },
     "execution_count": 60,
     "metadata": {},
     "output_type": "execute_result"
    }
   ],
   "source": [
    "X['course'].value_counts()"
   ]
  },
  {
   "cell_type": "markdown",
   "id": "f7f3172c",
   "metadata": {},
   "source": [
    "# Machine Learning Model"
   ]
  },
  {
   "cell_type": "code",
   "execution_count": 44,
   "id": "fdeb1ca2",
   "metadata": {},
   "outputs": [
    {
     "name": "stdout",
     "output_type": "stream",
     "text": [
      "Class=1, n=15640 (50.0%)\n",
      "Class=0, n=15640 (50.0%)\n"
     ]
    }
   ],
   "source": [
    "from collections import Counter\n",
    "counter = Counter(y)\n",
    "for k, v in counter.items():\n",
    "  dist = v/ len(y)*100\n",
    "  print(f\"Class={k}, n={v} ({dist}%)\")"
   ]
  },
  {
   "cell_type": "code",
   "execution_count": 45,
   "id": "0c7a88e8",
   "metadata": {
    "scrolled": true
   },
   "outputs": [
    {
     "data": {
      "text/plain": [
       "<BarContainer object of 2 artists>"
      ]
     },
     "execution_count": 45,
     "metadata": {},
     "output_type": "execute_result"
    },
    {
     "data": {
      "image/png": "[encoded data removed]",
      "text/plain": [
       "<Figure size 1008x432 with 1 Axes>"
      ]
     },
     "metadata": {
      "needs_background": "light"
     },
     "output_type": "display_data"
    }
   ],
   "source": [
    "plt.figure(1, figsize=(14,6))\n",
    "plt.bar(counter.keys(),counter.values())"
   ]
  },
  {
   "cell_type": "code",
   "execution_count": 46,
   "id": "6623bedc",
   "metadata": {},
   "outputs": [
    {
     "data": {
      "text/plain": [
       "array([1, 1, 1, ..., 0, 0, 0], dtype=int64)"
      ]
     },
     "execution_count": 46,
     "metadata": {},
     "output_type": "execute_result"
    }
   ],
   "source": [
    "y_label"
   ]
  },
  {
   "cell_type": "code",
   "execution_count": 76,
   "id": "1afb2cd4",
   "metadata": {},
   "outputs": [
    {
     "data": {
      "text/html": [
       "<div>\n",
       "<style scoped>\n",
       "    .dataframe tbody tr th:only-of-type {\n",
       "        vertical-align: middle;\n",
       "    }\n",
       "\n",
       "    .dataframe tbody tr th {\n",
       "        vertical-align: top;\n",
       "    }\n",
       "\n",
       "    .dataframe thead th {\n",
       "        text-align: right;\n",
       "    }\n",
       "</style>\n",
       "<table border=\"1\" class=\"dataframe\">\n",
       "  <thead>\n",
       "    <tr style=\"text-align: right;\">\n",
       "      <th></th>\n",
       "      <th>dist.m.</th>\n",
       "      <th>season</th>\n",
       "      <th>Race_Money</th>\n",
       "      <th>pos</th>\n",
       "      <th>age</th>\n",
       "      <th>lbs</th>\n",
       "      <th>ts</th>\n",
       "      <th>act_score</th>\n",
       "      <th>prize_money</th>\n",
       "      <th>course_Aintree</th>\n",
       "      <th>...</th>\n",
       "      <th>gear_htb</th>\n",
       "      <th>gear_htp</th>\n",
       "      <th>gear_hv</th>\n",
       "      <th>gear_p</th>\n",
       "      <th>gear_t</th>\n",
       "      <th>gear_tb</th>\n",
       "      <th>gear_tp</th>\n",
       "      <th>gear_tv</th>\n",
       "      <th>gear_v</th>\n",
       "      <th>gear_vp</th>\n",
       "    </tr>\n",
       "  </thead>\n",
       "  <tbody>\n",
       "    <tr>\n",
       "      <th>3</th>\n",
       "      <td>3200</td>\n",
       "      <td>5</td>\n",
       "      <td>12532.0</td>\n",
       "      <td>1.0</td>\n",
       "      <td>4</td>\n",
       "      <td>161</td>\n",
       "      <td>33.0</td>\n",
       "      <td>1</td>\n",
       "      <td>8983.0</td>\n",
       "      <td>0</td>\n",
       "      <td>...</td>\n",
       "      <td>0</td>\n",
       "      <td>0</td>\n",
       "      <td>0</td>\n",
       "      <td>0</td>\n",
       "      <td>1</td>\n",
       "      <td>0</td>\n",
       "      <td>0</td>\n",
       "      <td>0</td>\n",
       "      <td>0</td>\n",
       "      <td>0</td>\n",
       "    </tr>\n",
       "    <tr>\n",
       "      <th>11</th>\n",
       "      <td>4000</td>\n",
       "      <td>5</td>\n",
       "      <td>14460.0</td>\n",
       "      <td>1.0</td>\n",
       "      <td>4</td>\n",
       "      <td>156</td>\n",
       "      <td>83.0</td>\n",
       "      <td>1</td>\n",
       "      <td>10365.0</td>\n",
       "      <td>0</td>\n",
       "      <td>...</td>\n",
       "      <td>0</td>\n",
       "      <td>0</td>\n",
       "      <td>0</td>\n",
       "      <td>0</td>\n",
       "      <td>0</td>\n",
       "      <td>0</td>\n",
       "      <td>0</td>\n",
       "      <td>0</td>\n",
       "      <td>0</td>\n",
       "      <td>0</td>\n",
       "    </tr>\n",
       "  </tbody>\n",
       "</table>\n",
       "<p>2 rows × 2916 columns</p>\n",
       "</div>"
      ],
      "text/plain": [
       "    dist.m.  season  Race_Money  pos  age  lbs    ts  act_score  prize_money  \\\n",
       "3      3200       5     12532.0  1.0    4  161  33.0          1       8983.0   \n",
       "11     4000       5     14460.0  1.0    4  156  83.0          1      10365.0   \n",
       "\n",
       "    course_Aintree  ...  gear_htb  gear_htp  gear_hv  gear_p  gear_t  gear_tb  \\\n",
       "3                0  ...         0         0        0       0       1        0   \n",
       "11               0  ...         0         0        0       0       0        0   \n",
       "\n",
       "    gear_tp  gear_tv  gear_v  gear_vp  \n",
       "3         0        0       0        0  \n",
       "11        0        0       0        0  \n",
       "\n",
       "[2 rows x 2916 columns]"
      ]
     },
     "execution_count": 76,
     "metadata": {},
     "output_type": "execute_result"
    }
   ],
   "source": [
    "X_dum.head(2)"
   ]
  },
  {
   "cell_type": "code",
   "execution_count": 79,
   "id": "5deda6ce",
   "metadata": {},
   "outputs": [],
   "source": [
    "# Use sklearn to split dataset\n",
    "# Use sklearn to split the preprocessed data into a training and testing dataset\n",
    "X_train, X_test, y_train, y_test = train_test_split(X_dum, y_label, train_size = 0.6, random_state=1)"
   ]
  },
  {
   "cell_type": "code",
   "execution_count": 80,
   "id": "524bde0c",
   "metadata": {},
   "outputs": [],
   "source": [
    "# Create a StandardScaler instances\n",
    "scaler = StandardScaler()\n",
    "\n",
    "# Fit the StandardScaler\n",
    "X_scaler = scaler.fit(X_train)\n",
    "\n",
    "# Scale the data\n",
    "X_train_scaled = X_scaler.transform(X_train)\n",
    "X_test_scaled = X_scaler.transform(X_test)"
   ]
  },
  {
   "cell_type": "code",
   "execution_count": 81,
   "id": "05f1eec4",
   "metadata": {},
   "outputs": [
    {
     "data": {
      "text/plain": [
       "array([[-1.13333911,  1.15474126, -0.25146247, ..., -0.10430773,\n",
       "        -0.219942  ,  0.        ],\n",
       "       [ 1.23457276, -0.21896782, -0.25146247, ..., -0.10430773,\n",
       "        -0.219942  ,  0.        ],\n",
       "       [-1.13333911,  1.97896671, -0.15854371, ..., -0.10430773,\n",
       "        -0.219942  ,  0.        ],\n",
       "       ...,\n",
       "       [-1.13333911,  0.33051581, -0.25790202, ..., -0.10430773,\n",
       "        -0.219942  ,  0.        ],\n",
       "       [ 0.05061683, -1.5926769 , -0.02815028, ..., -0.10430773,\n",
       "        -0.219942  ,  0.        ],\n",
       "       [-0.83735012, -1.5926769 , -0.34150089, ..., -0.10430773,\n",
       "        -0.219942  ,  0.        ]])"
      ]
     },
     "execution_count": 81,
     "metadata": {},
     "output_type": "execute_result"
    }
   ],
   "source": [
    "X_train_scaled"
   ]
  },
  {
   "cell_type": "code",
   "execution_count": 82,
   "id": "22ed74b1",
   "metadata": {},
   "outputs": [
    {
     "data": {
      "text/plain": [
       "array([[-0.68935563,  0.60525763, -0.25146247, ..., -0.10430773,\n",
       "        -0.219942  ,  0.        ],\n",
       "       [-0.24537215, -0.76845145, -0.1255673 , ..., -0.10430773,\n",
       "        -0.219942  ,  0.        ],\n",
       "       [-0.98534461, -0.21896782, -0.2836602 , ..., -0.10430773,\n",
       "        -0.219942  ,  0.        ],\n",
       "       ...,\n",
       "       [-1.13333911,  0.33051581, -0.16813527, ..., -0.10430773,\n",
       "        -0.219942  ,  0.        ],\n",
       "       [ 0.19861132, -0.21896782, -0.31585792, ..., -0.10430773,\n",
       "        -0.219942  ,  0.        ],\n",
       "       [-1.13333911, -1.04319327, -0.22251627, ..., -0.10430773,\n",
       "        -0.219942  ,  0.        ]])"
      ]
     },
     "execution_count": 82,
     "metadata": {},
     "output_type": "execute_result"
    }
   ],
   "source": [
    "X_test_scaled"
   ]
  },
  {
   "cell_type": "markdown",
   "id": "f3da3f5f",
   "metadata": {},
   "source": [
    "## Logistic Regression"
   ]
  },
  {
   "cell_type": "code",
   "execution_count": 83,
   "id": "dc16a8f3",
   "metadata": {},
   "outputs": [
    {
     "data": {
      "text/plain": [
       "1.0"
      ]
     },
     "execution_count": 83,
     "metadata": {},
     "output_type": "execute_result"
    }
   ],
   "source": [
    "classifier = LogisticRegression(fit_intercept=True, random_state=1, max_iter = 400,verbose=0, multi_class='auto')\n",
    "classifier.fit(X_train_scaled,y_train)\n",
    "classifier.score(X_train_scaled,y_train)\n",
    "classifier.score(X_test_scaled,y_test)"
   ]
  },
  {
   "cell_type": "code",
   "execution_count": 84,
   "id": "d6c88b8b",
   "metadata": {
    "scrolled": true
   },
   "outputs": [
    {
     "name": "stdout",
     "output_type": "stream",
     "text": [
      "Training Scaled Data Score: 1.0\n",
      "Test  Scaled Data Score: 1.0\n"
     ]
    }
   ],
   "source": [
    "print(f\"Training Scaled Data Score: {classifier.score(X_train_scaled,y_train)}\")\n",
    "print(f\"Test  Scaled Data Score: {classifier.score(X_test_scaled,y_test)}\")"
   ]
  },
  {
   "cell_type": "markdown",
   "id": "3afc34e7",
   "metadata": {},
   "source": [
    "# Decision Tree Classifier"
   ]
  },
  {
   "cell_type": "code",
   "execution_count": 85,
   "id": "99a8de02",
   "metadata": {},
   "outputs": [],
   "source": [
    "model = DecisionTreeClassifier()\n",
    "scores = cross_validate(model, X_train_scaled,y_train, cv=6, n_jobs=-1, scoring='f1_macro')"
   ]
  },
  {
   "cell_type": "code",
   "execution_count": 86,
   "id": "eaa57bdd",
   "metadata": {
    "scrolled": true
   },
   "outputs": [
    {
     "data": {
      "text/plain": [
       "{'fit_time': array([68.57682514, 68.89664245, 94.73043275, 68.01414704, 26.42853189,\n",
       "        25.64824796]),\n",
       " 'score_time': array([0.34381986, 0.14306521, 0.11892915, 0.23886228, 0.08595133,\n",
       "        0.05197835]),\n",
       " 'test_score': array([1., 1., 1., 1., 1., 1.])}"
      ]
     },
     "execution_count": 86,
     "metadata": {},
     "output_type": "execute_result"
    }
   ],
   "source": [
    "scores"
   ]
  },
  {
   "cell_type": "markdown",
   "id": "ff8e023f",
   "metadata": {},
   "source": [
    "# RandomForestClassifier"
   ]
  },
  {
   "cell_type": "code",
   "execution_count": 87,
   "id": "060fcf61",
   "metadata": {},
   "outputs": [],
   "source": [
    "model_r =RandomForestClassifier(n_estimators = 20, max_features='auto')"
   ]
  },
  {
   "cell_type": "code",
   "execution_count": 90,
   "id": "ddce77ee",
   "metadata": {},
   "outputs": [
    {
     "data": {
      "text/plain": [
       "RandomForestClassifier(n_estimators=20)"
      ]
     },
     "execution_count": 90,
     "metadata": {},
     "output_type": "execute_result"
    }
   ],
   "source": [
    "model_r.fit(X_train,y_train)"
   ]
  },
  {
   "cell_type": "code",
   "execution_count": 92,
   "id": "7fb143be",
   "metadata": {},
   "outputs": [
    {
     "data": {
      "text/plain": [
       "1.0"
      ]
     },
     "execution_count": 92,
     "metadata": {},
     "output_type": "execute_result"
    }
   ],
   "source": [
    "model_r.score(X_train,y_train)"
   ]
  },
  {
   "cell_type": "code",
   "execution_count": 94,
   "id": "21804eaf",
   "metadata": {},
   "outputs": [
    {
     "data": {
      "text/plain": [
       "1.0"
      ]
     },
     "execution_count": 94,
     "metadata": {},
     "output_type": "execute_result"
    }
   ],
   "source": [
    "model_r.score(X_test,y_test)"
   ]
  },
  {
   "cell_type": "code",
   "execution_count": 96,
   "id": "2f1f27d4",
   "metadata": {},
   "outputs": [
    {
     "data": {
      "text/plain": [
       "array([1, 1, 0, ..., 1, 0, 1], dtype=int64)"
      ]
     },
     "execution_count": 96,
     "metadata": {},
     "output_type": "execute_result"
    }
   ],
   "source": [
    "y_predicted = model_r.predict(X_test)\n",
    "y_predicted"
   ]
  },
  {
   "cell_type": "code",
   "execution_count": 98,
   "id": "2a699b32",
   "metadata": {},
   "outputs": [
    {
     "data": {
      "text/plain": [
       "array([[6131,    0],\n",
       "       [   0, 6381]], dtype=int64)"
      ]
     },
     "execution_count": 98,
     "metadata": {},
     "output_type": "execute_result"
    }
   ],
   "source": [
    "# Optional : using confusion matrix to confirm RandomForestClassifier\n",
    "from sklearn.metrics import confusion_matrix\n",
    "cm = confusion_matrix(y_test, y_predicted )\n",
    "cm"
   ]
  },
  {
   "cell_type": "code",
   "execution_count": 99,
   "id": "6d7900cb",
   "metadata": {},
   "outputs": [
    {
     "data": {
      "text/plain": [
       "Text(69.0, 0.5, 'Truth')"
      ]
     },
     "execution_count": 99,
     "metadata": {},
     "output_type": "execute_result"
    },
    {
     "data": {
      "image/png": "[encoded data removed]",
      "text/plain": [
       "<Figure size 720x504 with 2 Axes>"
      ]
     },
     "metadata": {
      "needs_background": "light"
     },
     "output_type": "display_data"
    }
   ],
   "source": [
    "%matplotlib inline\n",
    "plt.figure(figsize=(10,7))\n",
    "sns.heatmap(cm, annot=True)\n",
    "plt.xlabel('predicted')\n",
    "plt.ylabel('Truth')"
   ]
  },
  {
   "cell_type": "code",
   "execution_count": 101,
   "id": "b2373c23",
   "metadata": {},
   "outputs": [
    {
     "name": "stdout",
     "output_type": "stream",
     "text": [
      "Accuracy: 1.0\n"
     ]
    }
   ],
   "source": [
    "y_true = y_test\n",
    "tn, fp, fn, tp = confusion_matrix(y_true, y_predicted).ravel()\n",
    "\n",
    "accuracy = (tp + tn) / (tp + fp + tn + fn)\n",
    "\n",
    "print(f\"Accuracy: {accuracy}\")"
   ]
  },
  {
   "cell_type": "code",
   "execution_count": 102,
   "id": "bac75761",
   "metadata": {},
   "outputs": [
    {
     "name": "stdout",
     "output_type": "stream",
     "text": [
      "              precision    recall  f1-score   support\n",
      "\n",
      "           0       1.00      1.00      1.00      6131\n",
      "           1       1.00      1.00      1.00      6381\n",
      "\n",
      "    accuracy                           1.00     12512\n",
      "   macro avg       1.00      1.00      1.00     12512\n",
      "weighted avg       1.00      1.00      1.00     12512\n",
      "\n"
     ]
    }
   ],
   "source": [
    "print(metrics.classification_report(y_true, y_predicted))"
   ]
  },
  {
   "cell_type": "code",
   "execution_count": null,
   "id": "ca1c6b0e",
   "metadata": {},
   "outputs": [],
   "source": []
  }
 ],
 "metadata": {
  "colab": {
   "name": "p4.ipynb",
   "provenance": []
  },
  "kernelspec": {
   "display_name": "Python 3",
   "language": "python",
   "name": "python3"
  },
  "language_info": {
   "codemirror_mode": {
    "name": "ipython",
    "version": 3
   },
   "file_extension": ".py",
   "mimetype": "text/x-python",
   "name": "python",
   "nbconvert_exporter": "python",
   "pygments_lexer": "ipython3",
   "version": "3.8.8"
  }
 },
 "nbformat": 4,
 "nbformat_minor": 5
}
