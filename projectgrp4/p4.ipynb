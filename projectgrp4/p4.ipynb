{
 "cells": [
  {
   "cell_type": "markdown",
   "id": "2ed7f71e",
   "metadata": {},
   "source": [
    "# Raw Data Loading\n",
    "### Libraries"
   ]
  },
  {
   "cell_type": "code",
   "execution_count": 1,
   "id": "bf428cc0",
   "metadata": {
    "id": "bf428cc0"
   },
   "outputs": [],
   "source": [
    "import pandas as pd\n",
    "import numpy as np"
   ]
  },
  {
   "cell_type": "code",
   "execution_count": 2,
   "id": "46a63c78",
   "metadata": {
    "colab": {
     "base_uri": "https://localhost:8080/"
    },
    "id": "46a63c78",
    "outputId": "3b6bb655-3a1a-44aa-fea2-0a6916ba6d6a",
    "scrolled": true
   },
   "outputs": [
    {
     "name": "stderr",
     "output_type": "stream",
     "text": [
      "C:\\Anaconda38\\lib\\site-packages\\IPython\\core\\interactiveshell.py:3165: DtypeWarning: Columns (1,22) have mixed types.Specify dtype option on import or set low_memory=False.\n",
      "  has_raised = await self.run_ast_nodes(code_ast.body, cell_name,\n"
     ]
    }
   ],
   "source": [
    "f = './Resources/all_races05_19.csv'\n",
    "X = pd.read_csv(f)"
   ]
  },
  {
   "cell_type": "markdown",
   "id": "18300fc3",
   "metadata": {},
   "source": [
    "#### base don the various columns explored, it is clearly necessary to develop a model which combines both fundamental features of each horse and market generated information.\n",
    "## In order to test the hypothesis that racetrack betting market is semi-strong\n",
    "form efficient, it is clearly necessary to develop a model which combines both\n",
    "fundamental and market-generated information. The merDeve;its of combining this\n",
    "information in a one-step model are not only its simplicity but also the\n",
    "opportunity it affords for examining the significance of each individual\n",
    "fundamental variable in an explicit manner; since probabilities derived from\n",
    "the final market odds also appear in the model. This facilitates understanding\n",
    "of how bettors utilise publicly available information\n",
    "\n",
    "##  DEFINITIONS OF THE INDEPENDENT VARIABLES EMPLOYED IN THE ONE- AND\n",
    "TWO-STEP MODELS\n",
    "Independent variable Variable definitions\n",
    "Market-generated variable\n",
    "ln ðpsij ÞThe natural logarithm of the normalised final odds probability\n",
    "Fundamental variables\n",
    "pre_s_ra Speed rating for the previous race in which the horse ran\n",
    "avgsr4 The average of a horse’s speed rating in its last 4 races; zero when\n",
    "there is no past run\n",
    "draw Post-position in current race\n",
    "eps Total prize money earnings (finishing first, second or third) to\n",
    "date/Number of races entered\n",
    "newdis 1 indicates a horse that ran three or four of its last four races at a\n",
    "distance of 80% less than current distance, and 0 otherwise\n",
    "weight Weight carried by the horse in current race\n",
    "win_run The percentage of the races won by the horse in its career\n",
    "jnowin The number of wins by the jockey in career to date of race\n",
    "jwinper The winning percentage of the jockey in career to date of race\n",
    "jst1miss 1 indicates when the other jockey variables are missing; 0 otherwise\n",
    "THE JOURNAL OF PREDICTION MARKETS2007, 1 1\n",
    "## This arises since it may become obvious to a jockey that\n",
    "his/her mount will not finish in the first three (where prize money is awarded);\n",
    "the jockey then has little incentive to ensure that the horse achieves its best\n",
    "possible finish position. In fact, there may be positive incentives not to do this,\n",
    "as it helps to conceal the horse’s true ability, which increases the value of the\n",
    "horse’s connections’ (owners, trainers etc) private information (which they\n",
    "can exploit in the betting ring in subsequent races). As a \n"
   ]
  },
  {
   "cell_type": "code",
   "execution_count": 3,
   "id": "49c83547",
   "metadata": {
    "colab": {
     "base_uri": "https://localhost:8080/",
     "height": 165
    },
    "id": "49c83547",
    "outputId": "93651c4c-c64f-45f8-fba3-ab86186998b5",
    "scrolled": false
   },
   "outputs": [
    {
     "data": {
      "text/html": [
       "<div>\n",
       "<style scoped>\n",
       "    .dataframe tbody tr th:only-of-type {\n",
       "        vertical-align: middle;\n",
       "    }\n",
       "\n",
       "    .dataframe tbody tr th {\n",
       "        vertical-align: top;\n",
       "    }\n",
       "\n",
       "    .dataframe thead th {\n",
       "        text-align: right;\n",
       "    }\n",
       "</style>\n",
       "<table border=\"1\" class=\"dataframe\">\n",
       "  <thead>\n",
       "    <tr style=\"text-align: right;\">\n",
       "      <th></th>\n",
       "      <th>race_ID</th>\n",
       "      <th>date</th>\n",
       "      <th>course</th>\n",
       "      <th>time</th>\n",
       "      <th>race_name</th>\n",
       "      <th>class</th>\n",
       "      <th>band</th>\n",
       "      <th>dist.f.</th>\n",
       "      <th>dist.m.</th>\n",
       "      <th>going</th>\n",
       "      <th>...</th>\n",
       "      <th>rpr</th>\n",
       "      <th>sire</th>\n",
       "      <th>dam</th>\n",
       "      <th>damsire</th>\n",
       "      <th>comment</th>\n",
       "      <th>dec_clean</th>\n",
       "      <th>prob</th>\n",
       "      <th>exp_chance</th>\n",
       "      <th>act_score</th>\n",
       "      <th>prize_money</th>\n",
       "    </tr>\n",
       "  </thead>\n",
       "  <tbody>\n",
       "    <tr>\n",
       "      <th>0</th>\n",
       "      <td>RID1002-IE-05</td>\n",
       "      <td>2005-04-24</td>\n",
       "      <td>Cork</td>\n",
       "      <td>5:25</td>\n",
       "      <td>Coolmore Brian Boru (Pro-Am) INH Flat Race (Di...</td>\n",
       "      <td>NaN</td>\n",
       "      <td>4yo+</td>\n",
       "      <td>18.0</td>\n",
       "      <td>3600</td>\n",
       "      <td>Heavy</td>\n",
       "      <td>...</td>\n",
       "      <td>103.0</td>\n",
       "      <td>Un Desperado (FR)</td>\n",
       "      <td>Connaught Lace (GB)</td>\n",
       "      <td>Connaught</td>\n",
       "      <td>Tracked leaders - keen hold early - 2nd approa...</td>\n",
       "      <td>7.0</td>\n",
       "      <td>0.125</td>\n",
       "      <td>0.05585</td>\n",
       "      <td>1</td>\n",
       "      <td>8292.0</td>\n",
       "    </tr>\n",
       "    <tr>\n",
       "      <th>1</th>\n",
       "      <td>RID1002-IE-05</td>\n",
       "      <td>2005-04-24</td>\n",
       "      <td>Cork</td>\n",
       "      <td>5:25</td>\n",
       "      <td>Coolmore Brian Boru (Pro-Am) INH Flat Race (Di...</td>\n",
       "      <td>NaN</td>\n",
       "      <td>4yo+</td>\n",
       "      <td>18.0</td>\n",
       "      <td>3600</td>\n",
       "      <td>Heavy</td>\n",
       "      <td>...</td>\n",
       "      <td>106.0</td>\n",
       "      <td>Zaffaran (USA)</td>\n",
       "      <td>Persian Argument (IRE)</td>\n",
       "      <td>Persian Mews</td>\n",
       "      <td>Mid-division - progress into 3rd approaching s...</td>\n",
       "      <td>4.0</td>\n",
       "      <td>0.200</td>\n",
       "      <td>0.08936</td>\n",
       "      <td>0</td>\n",
       "      <td>1932.0</td>\n",
       "    </tr>\n",
       "  </tbody>\n",
       "</table>\n",
       "<p>2 rows × 42 columns</p>\n",
       "</div>"
      ],
      "text/plain": [
       "         race_ID        date course  time  \\\n",
       "0  RID1002-IE-05  2005-04-24   Cork  5:25   \n",
       "1  RID1002-IE-05  2005-04-24   Cork  5:25   \n",
       "\n",
       "                                           race_name class  band  dist.f.  \\\n",
       "0  Coolmore Brian Boru (Pro-Am) INH Flat Race (Di...   NaN  4yo+     18.0   \n",
       "1  Coolmore Brian Boru (Pro-Am) INH Flat Race (Di...   NaN  4yo+     18.0   \n",
       "\n",
       "   dist.m.  going  ...    rpr               sire                     dam  \\\n",
       "0     3600  Heavy  ...  103.0  Un Desperado (FR)     Connaught Lace (GB)   \n",
       "1     3600  Heavy  ...  106.0     Zaffaran (USA)  Persian Argument (IRE)   \n",
       "\n",
       "        damsire                                            comment dec_clean  \\\n",
       "0     Connaught  Tracked leaders - keen hold early - 2nd approa...       7.0   \n",
       "1  Persian Mews  Mid-division - progress into 3rd approaching s...       4.0   \n",
       "\n",
       "    prob  exp_chance act_score prize_money  \n",
       "0  0.125     0.05585         1      8292.0  \n",
       "1  0.200     0.08936         0      1932.0  \n",
       "\n",
       "[2 rows x 42 columns]"
      ]
     },
     "execution_count": 3,
     "metadata": {},
     "output_type": "execute_result"
    }
   ],
   "source": [
    "X.head(2)"
   ]
  },
  {
   "cell_type": "code",
   "execution_count": 4,
   "id": "d0425ac5",
   "metadata": {
    "colab": {
     "base_uri": "https://localhost:8080/",
     "height": 165
    },
    "id": "d0425ac5",
    "outputId": "51a6f5b2-21f1-43fc-b4da-41ee2fcddeef"
   },
   "outputs": [
    {
     "data": {
      "text/plain": [
       "(744347, 42)"
      ]
     },
     "execution_count": 4,
     "metadata": {},
     "output_type": "execute_result"
    }
   ],
   "source": [
    "X.shape"
   ]
  },
  {
   "cell_type": "code",
   "execution_count": 5,
   "id": "9c96aafa",
   "metadata": {
    "id": "9c96aafa",
    "scrolled": true
   },
   "outputs": [
    {
     "data": {
      "text/plain": [
       "race_ID         object\n",
       "date            object\n",
       "course          object\n",
       "time            object\n",
       "race_name       object\n",
       "class           object\n",
       "band            object\n",
       "dist.f.        float64\n",
       "dist.m.          int64\n",
       "going           object\n",
       "season           int64\n",
       "race_group      object\n",
       "race_type       object\n",
       "Month          float64\n",
       "Year           float64\n",
       "Period          object\n",
       "Runners          int64\n",
       "Race_Money     float64\n",
       "horse_name      object\n",
       "trainer         object\n",
       "jockey          object\n",
       "pos             object\n",
       "btn             object\n",
       "sp              object\n",
       "dec            float64\n",
       "age              int64\n",
       "weight          object\n",
       "lbs              int64\n",
       "gear            object\n",
       "fin_time        object\n",
       "or             float64\n",
       "ts             float64\n",
       "rpr            float64\n",
       "sire            object\n",
       "dam             object\n",
       "damsire         object\n",
       "comment         object\n",
       "dec_clean      float64\n",
       "prob           float64\n",
       "exp_chance     float64\n",
       "act_score        int64\n",
       "prize_money    float64\n",
       "dtype: object"
      ]
     },
     "execution_count": 5,
     "metadata": {},
     "output_type": "execute_result"
    }
   ],
   "source": [
    "X.dtypes"
   ]
  },
  {
   "cell_type": "code",
   "execution_count": 6,
   "id": "362dbe98",
   "metadata": {
    "colab": {
     "base_uri": "https://localhost:8080/"
    },
    "id": "362dbe98",
    "outputId": "b57437f9-1cf9-4eaf-9a4b-e1d98e747020",
    "scrolled": false
   },
   "outputs": [
    {
     "data": {
      "text/plain": [
       "Index(['race_ID', 'date', 'course', 'time', 'race_name', 'class', 'band',\n",
       "       'dist.f.', 'dist.m.', 'going', 'season', 'race_group', 'race_type',\n",
       "       'Month', 'Year', 'Period', 'Runners', 'Race_Money', 'horse_name',\n",
       "       'trainer', 'jockey', 'pos', 'btn', 'sp', 'dec', 'age', 'weight', 'lbs',\n",
       "       'gear', 'fin_time', 'or', 'ts', 'rpr', 'sire', 'dam', 'damsire',\n",
       "       'comment', 'dec_clean', 'prob', 'exp_chance', 'act_score',\n",
       "       'prize_money'],\n",
       "      dtype='object')"
      ]
     },
     "execution_count": 6,
     "metadata": {},
     "output_type": "execute_result"
    }
   ],
   "source": [
    "# Take a look at the column variable\n",
    "X.columns"
   ]
  },
  {
   "cell_type": "markdown",
   "id": "ddaa3b3f",
   "metadata": {},
   "source": [
    "## Data Pre-processing"
   ]
  },
  {
   "cell_type": "code",
   "execution_count": 7,
   "id": "139e1297",
   "metadata": {
    "colab": {
     "base_uri": "https://localhost:8080/"
    },
    "id": "139e1297",
    "outputId": "0899e3f7-e84f-4008-c760-4132332c0caa",
    "scrolled": false
   },
   "outputs": [
    {
     "name": "stdout",
     "output_type": "stream",
     "text": [
      "Feature 'race_ID' has 72896 unique categories\n",
      "Feature 'date' has 4727 unique categories\n",
      "Feature 'course' has 75 unique categories\n",
      "Feature 'time' has 220 unique categories\n",
      "Feature 'race_name' has 47228 unique categories\n",
      "Feature 'class' has 70 unique categories\n",
      "Feature 'band' has 57 unique categories\n",
      "Feature 'going' has 13 unique categories\n",
      "Feature 'race_group' has 4 unique categories\n",
      "Feature 'race_type' has 2 unique categories\n",
      "Feature 'Period' has 178 unique categories\n",
      "Feature 'horse_name' has 79591 unique categories\n",
      "Feature 'trainer' has 3766 unique categories\n",
      "Feature 'jockey' has 3108 unique categories\n",
      "Feature 'pos' has 41 unique categories\n",
      "Feature 'btn' has 1758 unique categories\n",
      "Feature 'sp' has 220 unique categories\n",
      "Feature 'weight' has 99 unique categories\n",
      "Feature 'gear' has 26 unique categories\n",
      "Feature 'fin_time' has 30968 unique categories\n",
      "Feature 'sire' has 2900 unique categories\n",
      "Feature 'dam' has 43027 unique categories\n",
      "Feature 'damsire' has 3793 unique categories\n",
      "Feature 'comment' has 703853 unique categories\n"
     ]
    }
   ],
   "source": [
    "# Check categorical columns by obtaining unique object variables\n",
    "for col_name in X.columns:\n",
    "    if X[col_name].dtypes == 'object':\n",
    "        unique_cat = len(X[col_name].unique())\n",
    "        print(\"Feature '{col_name}' has {unique_cat} unique categories\".format(col_name=col_name, unique_cat=unique_cat))"
   ]
  },
  {
   "cell_type": "code",
   "execution_count": 8,
   "id": "481a0793",
   "metadata": {
    "colab": {
     "base_uri": "https://localhost:8080/"
    },
    "id": "481a0793",
    "outputId": "a8ec3095-d1af-49c0-aff9-f72bebf91267",
    "scrolled": false
   },
   "outputs": [
    {
     "name": "stdout",
     "output_type": "stream",
     "text": [
      "Feature 'dist.f.' has 48 unique categories\n",
      "Feature 'Month' has 13 unique categories\n",
      "Feature 'Year' has 16 unique categories\n",
      "Feature 'Race_Money' has 4721 unique categories\n",
      "Feature 'dec' has 95 unique categories\n",
      "Feature 'or' has 155 unique categories\n",
      "Feature 'ts' has 181 unique categories\n",
      "Feature 'rpr' has 192 unique categories\n",
      "Feature 'dec_clean' has 95 unique categories\n",
      "Feature 'prob' has 95 unique categories\n",
      "Feature 'exp_chance' has 555032 unique categories\n",
      "Feature 'prize_money' has 14962 unique categories\n"
     ]
    }
   ],
   "source": [
    "# Check unique numerical variables\n",
    "for col_name in X.columns:\n",
    "    if X[col_name].dtypes == 'float64':\n",
    "        unique_cat = len(X[col_name].unique())\n",
    "        print(\"Feature '{col_name}' has {unique_cat} unique categories\".format(col_name=col_name, unique_cat=unique_cat))"
   ]
  },
  {
   "cell_type": "markdown",
   "id": "70835a82",
   "metadata": {},
   "source": [
    "Based on the various columns explored, it is clearly necessary to develop a model which combines both fundamental features of each horse and market generated information."
   ]
  },
  {
   "cell_type": "code",
   "execution_count": 9,
   "id": "V7OjKWyQ2mtq",
   "metadata": {
    "colab": {
     "base_uri": "https://localhost:8080/",
     "height": 271
    },
    "id": "V7OjKWyQ2mtq",
    "outputId": "2b701ee7-f02b-4463-f9bc-568a7364ffdf",
    "scrolled": false
   },
   "outputs": [
    {
     "data": {
      "text/html": [
       "<div>\n",
       "<style scoped>\n",
       "    .dataframe tbody tr th:only-of-type {\n",
       "        vertical-align: middle;\n",
       "    }\n",
       "\n",
       "    .dataframe tbody tr th {\n",
       "        vertical-align: top;\n",
       "    }\n",
       "\n",
       "    .dataframe thead th {\n",
       "        text-align: right;\n",
       "    }\n",
       "</style>\n",
       "<table border=\"1\" class=\"dataframe\">\n",
       "  <thead>\n",
       "    <tr style=\"text-align: right;\">\n",
       "      <th></th>\n",
       "      <th>race_ID</th>\n",
       "      <th>date</th>\n",
       "      <th>course</th>\n",
       "      <th>time</th>\n",
       "      <th>race_name</th>\n",
       "      <th>class</th>\n",
       "      <th>band</th>\n",
       "      <th>dist.f.</th>\n",
       "      <th>dist.m.</th>\n",
       "      <th>going</th>\n",
       "      <th>...</th>\n",
       "      <th>rpr</th>\n",
       "      <th>sire</th>\n",
       "      <th>dam</th>\n",
       "      <th>damsire</th>\n",
       "      <th>comment</th>\n",
       "      <th>dec_clean</th>\n",
       "      <th>prob</th>\n",
       "      <th>exp_chance</th>\n",
       "      <th>act_score</th>\n",
       "      <th>prize_money</th>\n",
       "    </tr>\n",
       "  </thead>\n",
       "  <tbody>\n",
       "    <tr>\n",
       "      <th>0</th>\n",
       "      <td>RID1002-IE-05</td>\n",
       "      <td>2005-04-24</td>\n",
       "      <td>Cork</td>\n",
       "      <td>5:25</td>\n",
       "      <td>Coolmore Brian Boru (Pro-Am) INH Flat Race (Di...</td>\n",
       "      <td>NaN</td>\n",
       "      <td>4yo+</td>\n",
       "      <td>18.0</td>\n",
       "      <td>3600</td>\n",
       "      <td>Heavy</td>\n",
       "      <td>...</td>\n",
       "      <td>103.0</td>\n",
       "      <td>Un Desperado (FR)</td>\n",
       "      <td>Connaught Lace (GB)</td>\n",
       "      <td>Connaught</td>\n",
       "      <td>Tracked leaders - keen hold early - 2nd approa...</td>\n",
       "      <td>7.0</td>\n",
       "      <td>0.125</td>\n",
       "      <td>0.05585</td>\n",
       "      <td>1</td>\n",
       "      <td>8292.0</td>\n",
       "    </tr>\n",
       "    <tr>\n",
       "      <th>1</th>\n",
       "      <td>RID1002-IE-05</td>\n",
       "      <td>2005-04-24</td>\n",
       "      <td>Cork</td>\n",
       "      <td>5:25</td>\n",
       "      <td>Coolmore Brian Boru (Pro-Am) INH Flat Race (Di...</td>\n",
       "      <td>NaN</td>\n",
       "      <td>4yo+</td>\n",
       "      <td>18.0</td>\n",
       "      <td>3600</td>\n",
       "      <td>Heavy</td>\n",
       "      <td>...</td>\n",
       "      <td>106.0</td>\n",
       "      <td>Zaffaran (USA)</td>\n",
       "      <td>Persian Argument (IRE)</td>\n",
       "      <td>Persian Mews</td>\n",
       "      <td>Mid-division - progress into 3rd approaching s...</td>\n",
       "      <td>4.0</td>\n",
       "      <td>0.200</td>\n",
       "      <td>0.08936</td>\n",
       "      <td>0</td>\n",
       "      <td>1932.0</td>\n",
       "    </tr>\n",
       "  </tbody>\n",
       "</table>\n",
       "<p>2 rows × 42 columns</p>\n",
       "</div>"
      ],
      "text/plain": [
       "         race_ID        date course  time  \\\n",
       "0  RID1002-IE-05  2005-04-24   Cork  5:25   \n",
       "1  RID1002-IE-05  2005-04-24   Cork  5:25   \n",
       "\n",
       "                                           race_name class  band  dist.f.  \\\n",
       "0  Coolmore Brian Boru (Pro-Am) INH Flat Race (Di...   NaN  4yo+     18.0   \n",
       "1  Coolmore Brian Boru (Pro-Am) INH Flat Race (Di...   NaN  4yo+     18.0   \n",
       "\n",
       "   dist.m.  going  ...    rpr               sire                     dam  \\\n",
       "0     3600  Heavy  ...  103.0  Un Desperado (FR)     Connaught Lace (GB)   \n",
       "1     3600  Heavy  ...  106.0     Zaffaran (USA)  Persian Argument (IRE)   \n",
       "\n",
       "        damsire                                            comment dec_clean  \\\n",
       "0     Connaught  Tracked leaders - keen hold early - 2nd approa...       7.0   \n",
       "1  Persian Mews  Mid-division - progress into 3rd approaching s...       4.0   \n",
       "\n",
       "    prob  exp_chance act_score prize_money  \n",
       "0  0.125     0.05585         1      8292.0  \n",
       "1  0.200     0.08936         0      1932.0  \n",
       "\n",
       "[2 rows x 42 columns]"
      ]
     },
     "execution_count": 9,
     "metadata": {},
     "output_type": "execute_result"
    }
   ],
   "source": [
    "X.head(2)"
   ]
  },
  {
   "cell_type": "markdown",
   "id": "8dd3e2b1",
   "metadata": {},
   "source": [
    "# Drop Irrelevant Columns"
   ]
  },
  {
   "cell_type": "code",
   "execution_count": 10,
   "id": "suYVtM3jzzEP",
   "metadata": {
    "colab": {
     "base_uri": "https://localhost:8080/",
     "height": 147
    },
    "id": "suYVtM3jzzEP",
    "outputId": "d6b532bd-3a58-436e-c7f8-fe0e1dda5736"
   },
   "outputs": [
    {
     "data": {
      "text/html": [
       "<div>\n",
       "<style scoped>\n",
       "    .dataframe tbody tr th:only-of-type {\n",
       "        vertical-align: middle;\n",
       "    }\n",
       "\n",
       "    .dataframe tbody tr th {\n",
       "        vertical-align: top;\n",
       "    }\n",
       "\n",
       "    .dataframe thead th {\n",
       "        text-align: right;\n",
       "    }\n",
       "</style>\n",
       "<table border=\"1\" class=\"dataframe\">\n",
       "  <thead>\n",
       "    <tr style=\"text-align: right;\">\n",
       "      <th></th>\n",
       "      <th>date</th>\n",
       "      <th>course</th>\n",
       "      <th>band</th>\n",
       "      <th>dist.m.</th>\n",
       "      <th>going</th>\n",
       "      <th>season</th>\n",
       "      <th>race_group</th>\n",
       "      <th>race_type</th>\n",
       "      <th>Race_Money</th>\n",
       "      <th>trainer</th>\n",
       "      <th>jockey</th>\n",
       "      <th>pos</th>\n",
       "      <th>age</th>\n",
       "      <th>lbs</th>\n",
       "      <th>gear</th>\n",
       "      <th>ts</th>\n",
       "      <th>act_score</th>\n",
       "      <th>prize_money</th>\n",
       "    </tr>\n",
       "  </thead>\n",
       "  <tbody>\n",
       "    <tr>\n",
       "      <th>0</th>\n",
       "      <td>2005-04-24</td>\n",
       "      <td>Cork</td>\n",
       "      <td>4yo+</td>\n",
       "      <td>3600</td>\n",
       "      <td>Heavy</td>\n",
       "      <td>5</td>\n",
       "      <td>Bumper</td>\n",
       "      <td>Even</td>\n",
       "      <td>11568.0</td>\n",
       "      <td>W P Mullins</td>\n",
       "      <td>Ms K Walsh</td>\n",
       "      <td>1</td>\n",
       "      <td>5</td>\n",
       "      <td>155</td>\n",
       "      <td>NaN</td>\n",
       "      <td>NaN</td>\n",
       "      <td>1</td>\n",
       "      <td>8292.0</td>\n",
       "    </tr>\n",
       "    <tr>\n",
       "      <th>1</th>\n",
       "      <td>2005-04-24</td>\n",
       "      <td>Cork</td>\n",
       "      <td>4yo+</td>\n",
       "      <td>3600</td>\n",
       "      <td>Heavy</td>\n",
       "      <td>5</td>\n",
       "      <td>Bumper</td>\n",
       "      <td>Even</td>\n",
       "      <td>11568.0</td>\n",
       "      <td>Thomas Gerard O'Leary</td>\n",
       "      <td>Robbie McNamara</td>\n",
       "      <td>2</td>\n",
       "      <td>5</td>\n",
       "      <td>160</td>\n",
       "      <td>NaN</td>\n",
       "      <td>NaN</td>\n",
       "      <td>0</td>\n",
       "      <td>1932.0</td>\n",
       "    </tr>\n",
       "  </tbody>\n",
       "</table>\n",
       "</div>"
      ],
      "text/plain": [
       "         date course  band  dist.m.  going  season race_group race_type  \\\n",
       "0  2005-04-24   Cork  4yo+     3600  Heavy       5     Bumper      Even   \n",
       "1  2005-04-24   Cork  4yo+     3600  Heavy       5     Bumper      Even   \n",
       "\n",
       "   Race_Money                trainer           jockey pos  age  lbs gear  ts  \\\n",
       "0     11568.0            W P Mullins       Ms K Walsh   1    5  155  NaN NaN   \n",
       "1     11568.0  Thomas Gerard O'Leary  Robbie McNamara   2    5  160  NaN NaN   \n",
       "\n",
       "   act_score  prize_money  \n",
       "0          1       8292.0  \n",
       "1          0       1932.0  "
      ]
     },
     "execution_count": 10,
     "metadata": {},
     "output_type": "execute_result"
    }
   ],
   "source": [
    "X_df = X.drop(['race_ID', 'class','time','dist.f.','Month', 'Year', 'Period', 'Runners','fin_time', 'dec','weight','dec_clean','sire', 'dam', 'damsire', 'comment','race_name','btn','sp','or','rpr','horse_name','exp_chance','prob'],axis=1)\n",
    "X_df.head(2)"
   ]
  },
  {
   "cell_type": "code",
   "execution_count": 11,
   "id": "xuRtg-ZUzzT1",
   "metadata": {
    "colab": {
     "base_uri": "https://localhost:8080/"
    },
    "id": "xuRtg-ZUzzT1",
    "outputId": "31eb8f71-8deb-4dc4-b3d0-6e3b80b5a9d5"
   },
   "outputs": [
    {
     "data": {
      "text/plain": [
       "(140461, 18)"
      ]
     },
     "execution_count": 11,
     "metadata": {},
     "output_type": "execute_result"
    }
   ],
   "source": [
    "#Drop NaN Values\n",
    "X_df = X_df.dropna()\n",
    "X_df.shape"
   ]
  },
  {
   "cell_type": "code",
   "execution_count": 12,
   "id": "bAHrE44DzzfV",
   "metadata": {
    "colab": {
     "base_uri": "https://localhost:8080/",
     "height": 167
    },
    "id": "bAHrE44DzzfV",
    "outputId": "13a746d6-1521-4b4d-89f8-1e8d168c72ee",
    "scrolled": true
   },
   "outputs": [
    {
     "data": {
      "text/html": [
       "<div>\n",
       "<style scoped>\n",
       "    .dataframe tbody tr th:only-of-type {\n",
       "        vertical-align: middle;\n",
       "    }\n",
       "\n",
       "    .dataframe tbody tr th {\n",
       "        vertical-align: top;\n",
       "    }\n",
       "\n",
       "    .dataframe thead th {\n",
       "        text-align: right;\n",
       "    }\n",
       "</style>\n",
       "<table border=\"1\" class=\"dataframe\">\n",
       "  <thead>\n",
       "    <tr style=\"text-align: right;\">\n",
       "      <th></th>\n",
       "      <th>date</th>\n",
       "      <th>course</th>\n",
       "      <th>band</th>\n",
       "      <th>dist.m.</th>\n",
       "      <th>going</th>\n",
       "      <th>season</th>\n",
       "      <th>race_group</th>\n",
       "      <th>race_type</th>\n",
       "      <th>Race_Money</th>\n",
       "      <th>trainer</th>\n",
       "      <th>jockey</th>\n",
       "      <th>pos</th>\n",
       "      <th>age</th>\n",
       "      <th>lbs</th>\n",
       "      <th>gear</th>\n",
       "      <th>ts</th>\n",
       "      <th>act_score</th>\n",
       "      <th>prize_money</th>\n",
       "    </tr>\n",
       "  </thead>\n",
       "  <tbody>\n",
       "    <tr>\n",
       "      <th>189</th>\n",
       "      <td>2005-06-02</td>\n",
       "      <td>Punchestown</td>\n",
       "      <td>4yo+ M</td>\n",
       "      <td>3200</td>\n",
       "      <td>Good To Firm</td>\n",
       "      <td>5</td>\n",
       "      <td>Hurdle</td>\n",
       "      <td>Handicap</td>\n",
       "      <td>11568.0</td>\n",
       "      <td>C A Murphy</td>\n",
       "      <td>A J Donoghue</td>\n",
       "      <td>3</td>\n",
       "      <td>5</td>\n",
       "      <td>157</td>\n",
       "      <td>t</td>\n",
       "      <td>93.0</td>\n",
       "      <td>0</td>\n",
       "      <td>852.0</td>\n",
       "    </tr>\n",
       "    <tr>\n",
       "      <th>191</th>\n",
       "      <td>2005-06-02</td>\n",
       "      <td>Punchestown</td>\n",
       "      <td>4yo+ M</td>\n",
       "      <td>3200</td>\n",
       "      <td>Good To Firm</td>\n",
       "      <td>5</td>\n",
       "      <td>Hurdle</td>\n",
       "      <td>Handicap</td>\n",
       "      <td>11568.0</td>\n",
       "      <td>C Roche</td>\n",
       "      <td>Mark Walsh</td>\n",
       "      <td>5</td>\n",
       "      <td>4</td>\n",
       "      <td>150</td>\n",
       "      <td>t</td>\n",
       "      <td>79.0</td>\n",
       "      <td>0</td>\n",
       "      <td>0.0</td>\n",
       "    </tr>\n",
       "  </tbody>\n",
       "</table>\n",
       "</div>"
      ],
      "text/plain": [
       "           date       course    band  dist.m.         going  season  \\\n",
       "189  2005-06-02  Punchestown  4yo+ M     3200  Good To Firm       5   \n",
       "191  2005-06-02  Punchestown  4yo+ M     3200  Good To Firm       5   \n",
       "\n",
       "    race_group race_type  Race_Money     trainer        jockey pos  age  lbs  \\\n",
       "189     Hurdle  Handicap     11568.0  C A Murphy  A J Donoghue   3    5  157   \n",
       "191     Hurdle  Handicap     11568.0     C Roche    Mark Walsh   5    4  150   \n",
       "\n",
       "    gear    ts  act_score  prize_money  \n",
       "189    t  93.0          0        852.0  \n",
       "191    t  79.0          0          0.0  "
      ]
     },
     "execution_count": 12,
     "metadata": {},
     "output_type": "execute_result"
    }
   ],
   "source": [
    "X_df.head(2)"
   ]
  },
  {
   "cell_type": "code",
   "execution_count": 13,
   "id": "228eddfd",
   "metadata": {},
   "outputs": [],
   "source": [
    "#Rename Columns\n",
    "X_df.rename(columns={'date': 'Date', 'dist.m.': 'Distance', 'pos': 'Track_position', 'lbs': 'Weight', 'ts': 'Top_speed', 'act_score': 'Winner', 'going': 'Track_condition'}, inplace=True)"
   ]
  },
  {
   "cell_type": "code",
   "execution_count": 14,
   "id": "317e48c9",
   "metadata": {},
   "outputs": [
    {
     "data": {
      "text/html": [
       "<div>\n",
       "<style scoped>\n",
       "    .dataframe tbody tr th:only-of-type {\n",
       "        vertical-align: middle;\n",
       "    }\n",
       "\n",
       "    .dataframe tbody tr th {\n",
       "        vertical-align: top;\n",
       "    }\n",
       "\n",
       "    .dataframe thead th {\n",
       "        text-align: right;\n",
       "    }\n",
       "</style>\n",
       "<table border=\"1\" class=\"dataframe\">\n",
       "  <thead>\n",
       "    <tr style=\"text-align: right;\">\n",
       "      <th></th>\n",
       "      <th>Date</th>\n",
       "      <th>course</th>\n",
       "      <th>band</th>\n",
       "      <th>Distance</th>\n",
       "      <th>Track_condition</th>\n",
       "      <th>season</th>\n",
       "      <th>race_group</th>\n",
       "      <th>race_type</th>\n",
       "      <th>Race_Money</th>\n",
       "      <th>trainer</th>\n",
       "      <th>jockey</th>\n",
       "      <th>Track_position</th>\n",
       "      <th>age</th>\n",
       "      <th>Weight</th>\n",
       "      <th>gear</th>\n",
       "      <th>Top_speed</th>\n",
       "      <th>Winner</th>\n",
       "      <th>prize_money</th>\n",
       "    </tr>\n",
       "  </thead>\n",
       "  <tbody>\n",
       "    <tr>\n",
       "      <th>189</th>\n",
       "      <td>2005-06-02</td>\n",
       "      <td>Punchestown</td>\n",
       "      <td>4yo+ M</td>\n",
       "      <td>3200</td>\n",
       "      <td>Good To Firm</td>\n",
       "      <td>5</td>\n",
       "      <td>Hurdle</td>\n",
       "      <td>Handicap</td>\n",
       "      <td>11568.0</td>\n",
       "      <td>C A Murphy</td>\n",
       "      <td>A J Donoghue</td>\n",
       "      <td>3</td>\n",
       "      <td>5</td>\n",
       "      <td>157</td>\n",
       "      <td>t</td>\n",
       "      <td>93.0</td>\n",
       "      <td>0</td>\n",
       "      <td>852.0</td>\n",
       "    </tr>\n",
       "    <tr>\n",
       "      <th>191</th>\n",
       "      <td>2005-06-02</td>\n",
       "      <td>Punchestown</td>\n",
       "      <td>4yo+ M</td>\n",
       "      <td>3200</td>\n",
       "      <td>Good To Firm</td>\n",
       "      <td>5</td>\n",
       "      <td>Hurdle</td>\n",
       "      <td>Handicap</td>\n",
       "      <td>11568.0</td>\n",
       "      <td>C Roche</td>\n",
       "      <td>Mark Walsh</td>\n",
       "      <td>5</td>\n",
       "      <td>4</td>\n",
       "      <td>150</td>\n",
       "      <td>t</td>\n",
       "      <td>79.0</td>\n",
       "      <td>0</td>\n",
       "      <td>0.0</td>\n",
       "    </tr>\n",
       "  </tbody>\n",
       "</table>\n",
       "</div>"
      ],
      "text/plain": [
       "           Date       course    band  Distance Track_condition  season  \\\n",
       "189  2005-06-02  Punchestown  4yo+ M      3200    Good To Firm       5   \n",
       "191  2005-06-02  Punchestown  4yo+ M      3200    Good To Firm       5   \n",
       "\n",
       "    race_group race_type  Race_Money     trainer        jockey Track_position  \\\n",
       "189     Hurdle  Handicap     11568.0  C A Murphy  A J Donoghue              3   \n",
       "191     Hurdle  Handicap     11568.0     C Roche    Mark Walsh              5   \n",
       "\n",
       "     age  Weight gear  Top_speed  Winner  prize_money  \n",
       "189    5     157    t       93.0       0        852.0  \n",
       "191    4     150    t       79.0       0          0.0  "
      ]
     },
     "execution_count": 14,
     "metadata": {},
     "output_type": "execute_result"
    }
   ],
   "source": [
    "X_df.head(2)"
   ]
  },
  {
   "cell_type": "code",
   "execution_count": 15,
   "id": "LIQuIAZQzzj5",
   "metadata": {
    "colab": {
     "base_uri": "https://localhost:8080/"
    },
    "id": "LIQuIAZQzzj5",
    "outputId": "a8f72d2b-f957-413b-bcf4-8e507738d98d"
   },
   "outputs": [
    {
     "name": "stdout",
     "output_type": "stream",
     "text": [
      "Feature 'Date' has 4654 unique categories\n",
      "Feature 'course' has 67 unique categories\n",
      "Feature 'band' has 52 unique categories\n",
      "Feature 'Track_condition' has 10 unique categories\n",
      "Feature 'race_group' has 4 unique categories\n",
      "Feature 'race_type' has 2 unique categories\n",
      "Feature 'trainer' has 2306 unique categories\n",
      "Feature 'jockey' has 1861 unique categories\n",
      "Feature 'Track_position' has 30 unique categories\n",
      "Feature 'gear' has 25 unique categories\n"
     ]
    }
   ],
   "source": [
    "# print out object columns to know number of unique features\n",
    "for col_name in X_df.columns:\n",
    "    if X_df[col_name].dtypes == 'object':\n",
    "        unique_cat = len(X_df[col_name].unique())\n",
    "        print(\"Feature '{col_name}' has {unique_cat} unique categories\".format(col_name=col_name, unique_cat=unique_cat))"
   ]
  },
  {
   "cell_type": "code",
   "execution_count": 16,
   "id": "8-LGeNipzzoE",
   "metadata": {
    "colab": {
     "base_uri": "https://localhost:8080/"
    },
    "id": "8-LGeNipzzoE",
    "outputId": "7f89f5ed-3c7c-4294-87c2-5fa870e29676"
   },
   "outputs": [
    {
     "name": "stdout",
     "output_type": "stream",
     "text": [
      "Feature 'Race_Money' has 3781 unique categories\n",
      "Feature 'Top_speed' has 175 unique categories\n",
      "Feature 'prize_money' has 7206 unique categories\n"
     ]
    }
   ],
   "source": [
    "#Print out numerical columns\n",
    "for col_name in X_df.columns:\n",
    "    if X_df[col_name].dtypes == 'float64':\n",
    "        unique_cat = len(X_df[col_name].unique())\n",
    "        print(\"Feature '{col_name}' has {unique_cat} unique categories\".format(col_name=col_name, unique_cat=unique_cat))"
   ]
  },
  {
   "cell_type": "markdown",
   "id": "8e9c0e5c",
   "metadata": {},
   "source": [
    "#### Reduce the number of unique values by binning 'rare' categorical variables on:\n",
    "1. band\n",
    "2. jockey\n",
    "3. trainer\n",
    "4. track condition\n"
   ]
  },
  {
   "cell_type": "code",
   "execution_count": 17,
   "id": "GGZ9UfyGzzrn",
   "metadata": {
    "id": "GGZ9UfyGzzrn"
   },
   "outputs": [
    {
     "data": {
      "text/html": [
       "<div>\n",
       "<style scoped>\n",
       "    .dataframe tbody tr th:only-of-type {\n",
       "        vertical-align: middle;\n",
       "    }\n",
       "\n",
       "    .dataframe tbody tr th {\n",
       "        vertical-align: top;\n",
       "    }\n",
       "\n",
       "    .dataframe thead th {\n",
       "        text-align: right;\n",
       "    }\n",
       "</style>\n",
       "<table border=\"1\" class=\"dataframe\">\n",
       "  <thead>\n",
       "    <tr style=\"text-align: right;\">\n",
       "      <th></th>\n",
       "      <th>index</th>\n",
       "      <th>band</th>\n",
       "    </tr>\n",
       "  </thead>\n",
       "  <tbody>\n",
       "    <tr>\n",
       "      <th>0</th>\n",
       "      <td>4yo+</td>\n",
       "      <td>81688</td>\n",
       "    </tr>\n",
       "    <tr>\n",
       "      <th>1</th>\n",
       "      <td>5yo+</td>\n",
       "      <td>34835</td>\n",
       "    </tr>\n",
       "    <tr>\n",
       "      <th>2</th>\n",
       "      <td>other</td>\n",
       "      <td>23938</td>\n",
       "    </tr>\n",
       "  </tbody>\n",
       "</table>\n",
       "</div>"
      ],
      "text/plain": [
       "   index   band\n",
       "0   4yo+  81688\n",
       "1   5yo+  34835\n",
       "2  other  23938"
      ]
     },
     "execution_count": 17,
     "metadata": {},
     "output_type": "execute_result"
    }
   ],
   "source": [
    "X_df[\"band\"].value_counts()\n",
    "# Reduce categorical variables (band)\n",
    "band_others = X_df['band'].value_counts().loc[lambda x: x<13000]\n",
    "application_to_replace = band_others.index.tolist()\n",
    "for b in application_to_replace:\n",
    "    X_df['band'] = X_df['band'].replace(b,\"other\")\n",
    "# Confirm binning was successful\n",
    "X_df['band'].value_counts(sort=True).reset_index()"
   ]
  },
  {
   "cell_type": "code",
   "execution_count": 18,
   "id": "cfa13b01",
   "metadata": {
    "scrolled": true
   },
   "outputs": [
    {
     "data": {
      "text/html": [
       "<div>\n",
       "<style scoped>\n",
       "    .dataframe tbody tr th:only-of-type {\n",
       "        vertical-align: middle;\n",
       "    }\n",
       "\n",
       "    .dataframe tbody tr th {\n",
       "        vertical-align: top;\n",
       "    }\n",
       "\n",
       "    .dataframe thead th {\n",
       "        text-align: right;\n",
       "    }\n",
       "</style>\n",
       "<table border=\"1\" class=\"dataframe\">\n",
       "  <thead>\n",
       "    <tr style=\"text-align: right;\">\n",
       "      <th></th>\n",
       "      <th>index</th>\n",
       "      <th>jockey</th>\n",
       "    </tr>\n",
       "  </thead>\n",
       "  <tbody>\n",
       "    <tr>\n",
       "      <th>0</th>\n",
       "      <td>other</td>\n",
       "      <td>134900</td>\n",
       "    </tr>\n",
       "    <tr>\n",
       "      <th>1</th>\n",
       "      <td>Richard Johnson</td>\n",
       "      <td>2792</td>\n",
       "    </tr>\n",
       "    <tr>\n",
       "      <th>2</th>\n",
       "      <td>Tom Scudamore</td>\n",
       "      <td>2769</td>\n",
       "    </tr>\n",
       "  </tbody>\n",
       "</table>\n",
       "</div>"
      ],
      "text/plain": [
       "             index  jockey\n",
       "0            other  134900\n",
       "1  Richard Johnson    2792\n",
       "2    Tom Scudamore    2769"
      ]
     },
     "execution_count": 18,
     "metadata": {},
     "output_type": "execute_result"
    }
   ],
   "source": [
    "X_df['jockey'].value_counts().head(7)\n",
    "# Reduce categorical variables (jockey)\n",
    "jockey_others = X_df['jockey'].value_counts().loc[lambda x: x<2700]\n",
    "application_to_replace = jockey_others.index.tolist()\n",
    "for j in application_to_replace:\n",
    "    X_df['jockey'] = X_df['jockey'].replace(j,\"other\")\n",
    "# Confirm binning was successful\n",
    "X_df['jockey'].value_counts(sort=True).reset_index()"
   ]
  },
  {
   "cell_type": "code",
   "execution_count": 19,
   "id": "a80d26d4",
   "metadata": {
    "scrolled": true
   },
   "outputs": [
    {
     "data": {
      "text/html": [
       "<div>\n",
       "<style scoped>\n",
       "    .dataframe tbody tr th:only-of-type {\n",
       "        vertical-align: middle;\n",
       "    }\n",
       "\n",
       "    .dataframe tbody tr th {\n",
       "        vertical-align: top;\n",
       "    }\n",
       "\n",
       "    .dataframe thead th {\n",
       "        text-align: right;\n",
       "    }\n",
       "</style>\n",
       "<table border=\"1\" class=\"dataframe\">\n",
       "  <thead>\n",
       "    <tr style=\"text-align: right;\">\n",
       "      <th></th>\n",
       "      <th>index</th>\n",
       "      <th>trainer</th>\n",
       "    </tr>\n",
       "  </thead>\n",
       "  <tbody>\n",
       "    <tr>\n",
       "      <th>0</th>\n",
       "      <td>other</td>\n",
       "      <td>133903</td>\n",
       "    </tr>\n",
       "    <tr>\n",
       "      <th>1</th>\n",
       "      <td>Gordon Elliott</td>\n",
       "      <td>3300</td>\n",
       "    </tr>\n",
       "    <tr>\n",
       "      <th>2</th>\n",
       "      <td>David Pipe</td>\n",
       "      <td>3258</td>\n",
       "    </tr>\n",
       "  </tbody>\n",
       "</table>\n",
       "</div>"
      ],
      "text/plain": [
       "            index  trainer\n",
       "0           other   133903\n",
       "1  Gordon Elliott     3300\n",
       "2      David Pipe     3258"
      ]
     },
     "execution_count": 19,
     "metadata": {},
     "output_type": "execute_result"
    }
   ],
   "source": [
    "X_df['trainer'].value_counts().head(10)\n",
    "# Reduce categorical variables (trainer)\n",
    "trainer_others = X_df['trainer'].value_counts().loc[lambda x: x<3000]\n",
    "application_to_replace = trainer_others.index.tolist()\n",
    "for t in application_to_replace:\n",
    "    X_df['trainer'] = X_df['trainer'].replace(t,\"other\")\n",
    "# Confirm binning was successful\n",
    "X_df['trainer'].value_counts(sort=True).reset_index()"
   ]
  },
  {
   "cell_type": "code",
   "execution_count": 20,
   "id": "bc13f391",
   "metadata": {},
   "outputs": [
    {
     "data": {
      "text/html": [
       "<div>\n",
       "<style scoped>\n",
       "    .dataframe tbody tr th:only-of-type {\n",
       "        vertical-align: middle;\n",
       "    }\n",
       "\n",
       "    .dataframe tbody tr th {\n",
       "        vertical-align: top;\n",
       "    }\n",
       "\n",
       "    .dataframe thead th {\n",
       "        text-align: right;\n",
       "    }\n",
       "</style>\n",
       "<table border=\"1\" class=\"dataframe\">\n",
       "  <thead>\n",
       "    <tr style=\"text-align: right;\">\n",
       "      <th></th>\n",
       "      <th>index</th>\n",
       "      <th>Track_condition</th>\n",
       "    </tr>\n",
       "  </thead>\n",
       "  <tbody>\n",
       "    <tr>\n",
       "      <th>0</th>\n",
       "      <td>Good</td>\n",
       "      <td>54537</td>\n",
       "    </tr>\n",
       "    <tr>\n",
       "      <th>1</th>\n",
       "      <td>other</td>\n",
       "      <td>42641</td>\n",
       "    </tr>\n",
       "    <tr>\n",
       "      <th>2</th>\n",
       "      <td>Soft</td>\n",
       "      <td>23510</td>\n",
       "    </tr>\n",
       "    <tr>\n",
       "      <th>3</th>\n",
       "      <td>Good To Soft</td>\n",
       "      <td>19773</td>\n",
       "    </tr>\n",
       "  </tbody>\n",
       "</table>\n",
       "</div>"
      ],
      "text/plain": [
       "          index  Track_condition\n",
       "0          Good            54537\n",
       "1         other            42641\n",
       "2          Soft            23510\n",
       "3  Good To Soft            19773"
      ]
     },
     "execution_count": 20,
     "metadata": {},
     "output_type": "execute_result"
    }
   ],
   "source": [
    "X_df['Track_condition'].value_counts().head(10)\n",
    "# Reduce categorical variables (Track_condition)\n",
    "track_others = X_df['Track_condition'].value_counts().loc[lambda x: x<18000]\n",
    "application_to_replace = track_others.index.tolist()\n",
    "for t in application_to_replace:\n",
    "    X_df['Track_condition'] = X_df['Track_condition'].replace(t,\"other\")\n",
    "# Confirm binning was successful\n",
    "X_df['Track_condition'].value_counts(sort=True).reset_index()"
   ]
  },
  {
   "cell_type": "code",
   "execution_count": null,
   "id": "cf469e62",
   "metadata": {},
   "outputs": [],
   "source": []
  },
  {
   "cell_type": "code",
   "execution_count": 21,
   "id": "6923b085",
   "metadata": {
    "scrolled": false
   },
   "outputs": [
    {
     "data": {
      "text/html": [
       "<div>\n",
       "<style scoped>\n",
       "    .dataframe tbody tr th:only-of-type {\n",
       "        vertical-align: middle;\n",
       "    }\n",
       "\n",
       "    .dataframe tbody tr th {\n",
       "        vertical-align: top;\n",
       "    }\n",
       "\n",
       "    .dataframe thead th {\n",
       "        text-align: right;\n",
       "    }\n",
       "</style>\n",
       "<table border=\"1\" class=\"dataframe\">\n",
       "  <thead>\n",
       "    <tr style=\"text-align: right;\">\n",
       "      <th></th>\n",
       "      <th>index</th>\n",
       "      <th>course</th>\n",
       "    </tr>\n",
       "  </thead>\n",
       "  <tbody>\n",
       "    <tr>\n",
       "      <th>0</th>\n",
       "      <td>other</td>\n",
       "      <td>123088</td>\n",
       "    </tr>\n",
       "    <tr>\n",
       "      <th>1</th>\n",
       "      <td>Uttoxeter</td>\n",
       "      <td>4904</td>\n",
       "    </tr>\n",
       "    <tr>\n",
       "      <th>2</th>\n",
       "      <td>Worcester</td>\n",
       "      <td>4324</td>\n",
       "    </tr>\n",
       "    <tr>\n",
       "      <th>3</th>\n",
       "      <td>Fontwell</td>\n",
       "      <td>4082</td>\n",
       "    </tr>\n",
       "    <tr>\n",
       "      <th>4</th>\n",
       "      <td>Cheltenham</td>\n",
       "      <td>4063</td>\n",
       "    </tr>\n",
       "  </tbody>\n",
       "</table>\n",
       "</div>"
      ],
      "text/plain": [
       "        index  course\n",
       "0       other  123088\n",
       "1   Uttoxeter    4904\n",
       "2   Worcester    4324\n",
       "3    Fontwell    4082\n",
       "4  Cheltenham    4063"
      ]
     },
     "execution_count": 21,
     "metadata": {},
     "output_type": "execute_result"
    }
   ],
   "source": [
    "# Reduce categorical variables (course)\n",
    "X_df['course'].value_counts().head(10)\n",
    "course_others = X_df['course'].value_counts().loc[lambda x: x<4000]\n",
    "application_to_replace = course_others.index.tolist()\n",
    "for c in application_to_replace:\n",
    "    X_df['course'] = X_df['course'].replace(c,\"other\")\n",
    "# Confirm binning was successful\n",
    "X_df['course'].value_counts(sort=True).reset_index()"
   ]
  },
  {
   "cell_type": "code",
   "execution_count": null,
   "id": "b57afe58",
   "metadata": {},
   "outputs": [],
   "source": []
  },
  {
   "cell_type": "code",
   "execution_count": 22,
   "id": "2d12241e",
   "metadata": {},
   "outputs": [
    {
     "data": {
      "text/html": [
       "<div>\n",
       "<style scoped>\n",
       "    .dataframe tbody tr th:only-of-type {\n",
       "        vertical-align: middle;\n",
       "    }\n",
       "\n",
       "    .dataframe tbody tr th {\n",
       "        vertical-align: top;\n",
       "    }\n",
       "\n",
       "    .dataframe thead th {\n",
       "        text-align: right;\n",
       "    }\n",
       "</style>\n",
       "<table border=\"1\" class=\"dataframe\">\n",
       "  <thead>\n",
       "    <tr style=\"text-align: right;\">\n",
       "      <th></th>\n",
       "      <th>index</th>\n",
       "      <th>gear</th>\n",
       "    </tr>\n",
       "  </thead>\n",
       "  <tbody>\n",
       "    <tr>\n",
       "      <th>0</th>\n",
       "      <td>t</td>\n",
       "      <td>47785</td>\n",
       "    </tr>\n",
       "    <tr>\n",
       "      <th>1</th>\n",
       "      <td>p</td>\n",
       "      <td>36663</td>\n",
       "    </tr>\n",
       "    <tr>\n",
       "      <th>2</th>\n",
       "      <td>other</td>\n",
       "      <td>25607</td>\n",
       "    </tr>\n",
       "    <tr>\n",
       "      <th>3</th>\n",
       "      <td>b</td>\n",
       "      <td>19504</td>\n",
       "    </tr>\n",
       "    <tr>\n",
       "      <th>4</th>\n",
       "      <td>tp</td>\n",
       "      <td>10902</td>\n",
       "    </tr>\n",
       "  </tbody>\n",
       "</table>\n",
       "</div>"
      ],
      "text/plain": [
       "   index   gear\n",
       "0      t  47785\n",
       "1      p  36663\n",
       "2  other  25607\n",
       "3      b  19504\n",
       "4     tp  10902"
      ]
     },
     "execution_count": 22,
     "metadata": {},
     "output_type": "execute_result"
    }
   ],
   "source": [
    "# Reduce categorical variables (gear)\n",
    "X_df['gear'].value_counts().head(10)\n",
    "gear_others = X_df['gear'].value_counts().loc[lambda x: x<10000]\n",
    "application_to_replace = gear_others.index.tolist()\n",
    "for g in application_to_replace:\n",
    "    X_df['gear'] = X_df['gear'].replace(g,\"other\")\n",
    "# Confirm binning was successful\n",
    "X_df['gear'].value_counts(sort=True).reset_index()"
   ]
  },
  {
   "cell_type": "code",
   "execution_count": 23,
   "id": "ccLAzRcIzzzs",
   "metadata": {
    "id": "ccLAzRcIzzzs"
   },
   "outputs": [
    {
     "data": {
      "text/plain": [
       "2      19628\n",
       "3      19173\n",
       "1      18976\n",
       "4      17678\n",
       "5      15594\n",
       "6      12573\n",
       "7       9682\n",
       "8       7478\n",
       "9       5603\n",
       "10      4036\n",
       "11      2979\n",
       "12      2146\n",
       "13      1519\n",
       "14      1062\n",
       "15       723\n",
       "16       517\n",
       "17       354\n",
       "18       220\n",
       "19       139\n",
       "20        92\n",
       "DSQ       90\n",
       "21        76\n",
       "22        59\n",
       "23        28\n",
       "24        15\n",
       "26         8\n",
       "25         8\n",
       "27         2\n",
       "28         2\n",
       "REF        1\n",
       "Name: Track_position, dtype: int64"
      ]
     },
     "execution_count": 23,
     "metadata": {},
     "output_type": "execute_result"
    }
   ],
   "source": [
    "#Replace Disqualified positon in the race with zero(0)\n",
    "X_df[\"Track_position\"].value_counts()"
   ]
  },
  {
   "cell_type": "code",
   "execution_count": 24,
   "id": "m7FidsdK4ir6",
   "metadata": {
    "id": "m7FidsdK4ir6"
   },
   "outputs": [],
   "source": [
    "# Replace disqualified position (DSQ) as 0\n",
    "dX=X_df.replace(to_replace=\"DSQ\",value=0)"
   ]
  },
  {
   "cell_type": "code",
   "execution_count": 25,
   "id": "AS-Ap8eP4iwq",
   "metadata": {
    "colab": {
     "base_uri": "https://localhost:8080/",
     "height": 167
    },
    "id": "AS-Ap8eP4iwq",
    "outputId": "4455b1fc-56b1-4cee-c945-2f89c6670452",
    "scrolled": true
   },
   "outputs": [
    {
     "data": {
      "text/html": [
       "<div>\n",
       "<style scoped>\n",
       "    .dataframe tbody tr th:only-of-type {\n",
       "        vertical-align: middle;\n",
       "    }\n",
       "\n",
       "    .dataframe tbody tr th {\n",
       "        vertical-align: top;\n",
       "    }\n",
       "\n",
       "    .dataframe thead th {\n",
       "        text-align: right;\n",
       "    }\n",
       "</style>\n",
       "<table border=\"1\" class=\"dataframe\">\n",
       "  <thead>\n",
       "    <tr style=\"text-align: right;\">\n",
       "      <th></th>\n",
       "      <th>Date</th>\n",
       "      <th>course</th>\n",
       "      <th>band</th>\n",
       "      <th>Distance</th>\n",
       "      <th>Track_condition</th>\n",
       "      <th>season</th>\n",
       "      <th>race_group</th>\n",
       "      <th>race_type</th>\n",
       "      <th>Race_Money</th>\n",
       "      <th>trainer</th>\n",
       "      <th>jockey</th>\n",
       "      <th>Track_position</th>\n",
       "      <th>age</th>\n",
       "      <th>Weight</th>\n",
       "      <th>gear</th>\n",
       "      <th>Top_speed</th>\n",
       "      <th>Winner</th>\n",
       "      <th>prize_money</th>\n",
       "    </tr>\n",
       "  </thead>\n",
       "  <tbody>\n",
       "    <tr>\n",
       "      <th>189</th>\n",
       "      <td>2005-06-02</td>\n",
       "      <td>other</td>\n",
       "      <td>other</td>\n",
       "      <td>3200</td>\n",
       "      <td>other</td>\n",
       "      <td>5</td>\n",
       "      <td>Hurdle</td>\n",
       "      <td>Handicap</td>\n",
       "      <td>11568.0</td>\n",
       "      <td>other</td>\n",
       "      <td>other</td>\n",
       "      <td>3</td>\n",
       "      <td>5</td>\n",
       "      <td>157</td>\n",
       "      <td>t</td>\n",
       "      <td>93.0</td>\n",
       "      <td>0</td>\n",
       "      <td>852.0</td>\n",
       "    </tr>\n",
       "    <tr>\n",
       "      <th>191</th>\n",
       "      <td>2005-06-02</td>\n",
       "      <td>other</td>\n",
       "      <td>other</td>\n",
       "      <td>3200</td>\n",
       "      <td>other</td>\n",
       "      <td>5</td>\n",
       "      <td>Hurdle</td>\n",
       "      <td>Handicap</td>\n",
       "      <td>11568.0</td>\n",
       "      <td>other</td>\n",
       "      <td>other</td>\n",
       "      <td>5</td>\n",
       "      <td>4</td>\n",
       "      <td>150</td>\n",
       "      <td>t</td>\n",
       "      <td>79.0</td>\n",
       "      <td>0</td>\n",
       "      <td>0.0</td>\n",
       "    </tr>\n",
       "  </tbody>\n",
       "</table>\n",
       "</div>"
      ],
      "text/plain": [
       "           Date course   band  Distance Track_condition  season race_group  \\\n",
       "189  2005-06-02  other  other      3200           other       5     Hurdle   \n",
       "191  2005-06-02  other  other      3200           other       5     Hurdle   \n",
       "\n",
       "    race_type  Race_Money trainer jockey Track_position  age  Weight gear  \\\n",
       "189  Handicap     11568.0   other  other              3    5     157    t   \n",
       "191  Handicap     11568.0   other  other              5    4     150    t   \n",
       "\n",
       "     Top_speed  Winner  prize_money  \n",
       "189       93.0       0        852.0  \n",
       "191       79.0       0          0.0  "
      ]
     },
     "execution_count": 25,
     "metadata": {},
     "output_type": "execute_result"
    }
   ],
   "source": [
    "dX.head(2)"
   ]
  },
  {
   "cell_type": "code",
   "execution_count": 26,
   "id": "a361a44c",
   "metadata": {},
   "outputs": [
    {
     "data": {
      "text/plain": [
       "Date                object\n",
       "course              object\n",
       "band                object\n",
       "Distance             int64\n",
       "Track_condition     object\n",
       "season               int64\n",
       "race_group          object\n",
       "race_type           object\n",
       "Race_Money         float64\n",
       "trainer             object\n",
       "jockey              object\n",
       "Track_position      object\n",
       "age                  int64\n",
       "Weight               int64\n",
       "gear                object\n",
       "Top_speed          float64\n",
       "Winner               int64\n",
       "prize_money        float64\n",
       "dtype: object"
      ]
     },
     "execution_count": 26,
     "metadata": {},
     "output_type": "execute_result"
    }
   ],
   "source": [
    "dX.dtypes"
   ]
  },
  {
   "cell_type": "code",
   "execution_count": 27,
   "id": "B4jr66T94i3C",
   "metadata": {
    "id": "B4jr66T94i3C"
   },
   "outputs": [],
   "source": [
    "# dX[\"pos\"].value_counts()"
   ]
  },
  {
   "cell_type": "code",
   "execution_count": 28,
   "id": "uO75sdnU4i70",
   "metadata": {
    "id": "uO75sdnU4i70"
   },
   "outputs": [],
   "source": [
    "# dX[\"btn\"].unique()"
   ]
  },
  {
   "cell_type": "code",
   "execution_count": 29,
   "id": "tCExS6nu4jAk",
   "metadata": {
    "id": "tCExS6nu4jAk"
   },
   "outputs": [],
   "source": [
    "# Replace string s03 in btn column with 53.3 (DSQ) as 26\n",
    "#dX_df1=dX.replace(to_replace=\"s0.3\",value=50.3)"
   ]
  },
  {
   "cell_type": "code",
   "execution_count": 30,
   "id": "b7a2905d",
   "metadata": {
    "scrolled": true
   },
   "outputs": [
    {
     "data": {
      "text/html": [
       "<div>\n",
       "<style scoped>\n",
       "    .dataframe tbody tr th:only-of-type {\n",
       "        vertical-align: middle;\n",
       "    }\n",
       "\n",
       "    .dataframe tbody tr th {\n",
       "        vertical-align: top;\n",
       "    }\n",
       "\n",
       "    .dataframe thead th {\n",
       "        text-align: right;\n",
       "    }\n",
       "</style>\n",
       "<table border=\"1\" class=\"dataframe\">\n",
       "  <thead>\n",
       "    <tr style=\"text-align: right;\">\n",
       "      <th></th>\n",
       "      <th>Date</th>\n",
       "      <th>course</th>\n",
       "      <th>band</th>\n",
       "      <th>Distance</th>\n",
       "      <th>Track_condition</th>\n",
       "      <th>season</th>\n",
       "      <th>race_group</th>\n",
       "      <th>race_type</th>\n",
       "      <th>Race_Money</th>\n",
       "      <th>trainer</th>\n",
       "      <th>jockey</th>\n",
       "      <th>Track_position</th>\n",
       "      <th>age</th>\n",
       "      <th>Weight</th>\n",
       "      <th>gear</th>\n",
       "      <th>Top_speed</th>\n",
       "      <th>Winner</th>\n",
       "      <th>prize_money</th>\n",
       "    </tr>\n",
       "  </thead>\n",
       "  <tbody>\n",
       "    <tr>\n",
       "      <th>189</th>\n",
       "      <td>2005-06-02</td>\n",
       "      <td>other</td>\n",
       "      <td>other</td>\n",
       "      <td>3200</td>\n",
       "      <td>other</td>\n",
       "      <td>5</td>\n",
       "      <td>Hurdle</td>\n",
       "      <td>Handicap</td>\n",
       "      <td>11568.0</td>\n",
       "      <td>other</td>\n",
       "      <td>other</td>\n",
       "      <td>3</td>\n",
       "      <td>5</td>\n",
       "      <td>157</td>\n",
       "      <td>t</td>\n",
       "      <td>93.0</td>\n",
       "      <td>0</td>\n",
       "      <td>852.0</td>\n",
       "    </tr>\n",
       "    <tr>\n",
       "      <th>191</th>\n",
       "      <td>2005-06-02</td>\n",
       "      <td>other</td>\n",
       "      <td>other</td>\n",
       "      <td>3200</td>\n",
       "      <td>other</td>\n",
       "      <td>5</td>\n",
       "      <td>Hurdle</td>\n",
       "      <td>Handicap</td>\n",
       "      <td>11568.0</td>\n",
       "      <td>other</td>\n",
       "      <td>other</td>\n",
       "      <td>5</td>\n",
       "      <td>4</td>\n",
       "      <td>150</td>\n",
       "      <td>t</td>\n",
       "      <td>79.0</td>\n",
       "      <td>0</td>\n",
       "      <td>0.0</td>\n",
       "    </tr>\n",
       "  </tbody>\n",
       "</table>\n",
       "</div>"
      ],
      "text/plain": [
       "           Date course   band  Distance Track_condition  season race_group  \\\n",
       "189  2005-06-02  other  other      3200           other       5     Hurdle   \n",
       "191  2005-06-02  other  other      3200           other       5     Hurdle   \n",
       "\n",
       "    race_type  Race_Money trainer jockey Track_position  age  Weight gear  \\\n",
       "189  Handicap     11568.0   other  other              3    5     157    t   \n",
       "191  Handicap     11568.0   other  other              5    4     150    t   \n",
       "\n",
       "     Top_speed  Winner  prize_money  \n",
       "189       93.0       0        852.0  \n",
       "191       79.0       0          0.0  "
      ]
     },
     "execution_count": 30,
     "metadata": {},
     "output_type": "execute_result"
    }
   ],
   "source": [
    "dX.head(2)"
   ]
  },
  {
   "cell_type": "code",
   "execution_count": 31,
   "id": "6c52530a",
   "metadata": {},
   "outputs": [
    {
     "data": {
      "text/plain": [
       "Date                object\n",
       "course              object\n",
       "band                object\n",
       "Distance             int64\n",
       "Track_condition     object\n",
       "season               int64\n",
       "race_group          object\n",
       "race_type           object\n",
       "Race_Money         float64\n",
       "trainer             object\n",
       "jockey              object\n",
       "Track_position      object\n",
       "age                  int64\n",
       "Weight               int64\n",
       "gear                object\n",
       "Top_speed          float64\n",
       "Winner               int64\n",
       "prize_money        float64\n",
       "dtype: object"
      ]
     },
     "execution_count": 31,
     "metadata": {},
     "output_type": "execute_result"
    }
   ],
   "source": [
    "dX.dtypes"
   ]
  },
  {
   "cell_type": "code",
   "execution_count": 32,
   "id": "3t8HqMYV5dIU",
   "metadata": {
    "colab": {
     "base_uri": "https://localhost:8080/"
    },
    "id": "3t8HqMYV5dIU",
    "outputId": "133bf4e2-2ba8-4c53-f61e-ea00360936ff",
    "scrolled": true
   },
   "outputs": [
    {
     "data": {
      "text/plain": [
       "array(['3', '5', '2', '1', '4', '13', '15', '17', '19', '11', '12', '8',\n",
       "       '9', '6', '18', '10', '7', '14', '16', '20', '21', '22', 0, '24',\n",
       "       '25', '26', '23', '27', '28', 'REF'], dtype=object)"
      ]
     },
     "execution_count": 32,
     "metadata": {},
     "output_type": "execute_result"
    }
   ],
   "source": [
    "dX[\"Track_position\"].unique()"
   ]
  },
  {
   "cell_type": "code",
   "execution_count": 33,
   "id": "c3e47dd6",
   "metadata": {
    "scrolled": true
   },
   "outputs": [],
   "source": [
    "dX = dX.replace(to_replace=\"REF\",value=30)"
   ]
  },
  {
   "cell_type": "code",
   "execution_count": 34,
   "id": "aRuQDeHYzz6u",
   "metadata": {
    "id": "aRuQDeHYzz6u"
   },
   "outputs": [],
   "source": [
    "final_df = dX.astype({\"Track_position\": float})"
   ]
  },
  {
   "cell_type": "code",
   "execution_count": 35,
   "id": "D6rjP0_7573K",
   "metadata": {
    "colab": {
     "base_uri": "https://localhost:8080/"
    },
    "id": "D6rjP0_7573K",
    "outputId": "21b19567-129a-47ed-8565-ae24a9dc6113"
   },
   "outputs": [
    {
     "data": {
      "text/plain": [
       "Date                object\n",
       "course              object\n",
       "band                object\n",
       "Distance             int64\n",
       "Track_condition     object\n",
       "season               int64\n",
       "race_group          object\n",
       "race_type           object\n",
       "Race_Money         float64\n",
       "trainer             object\n",
       "jockey              object\n",
       "Track_position     float64\n",
       "age                  int64\n",
       "Weight               int64\n",
       "gear                object\n",
       "Top_speed          float64\n",
       "Winner               int64\n",
       "prize_money        float64\n",
       "dtype: object"
      ]
     },
     "execution_count": 35,
     "metadata": {},
     "output_type": "execute_result"
    }
   ],
   "source": [
    "final_df.dtypes"
   ]
  },
  {
   "cell_type": "code",
   "execution_count": 36,
   "id": "rj43fdta578k",
   "metadata": {
    "colab": {
     "base_uri": "https://localhost:8080/"
    },
    "id": "rj43fdta578k",
    "outputId": "fd5a489b-32d1-4e72-d95b-06bd5254140f"
   },
   "outputs": [
    {
     "name": "stdout",
     "output_type": "stream",
     "text": [
      "Feature 'Date' has 4654 unique categories\n",
      "Feature 'course' has 5 unique categories\n",
      "Feature 'band' has 3 unique categories\n",
      "Feature 'Track_condition' has 4 unique categories\n",
      "Feature 'race_group' has 4 unique categories\n",
      "Feature 'race_type' has 2 unique categories\n",
      "Feature 'trainer' has 3 unique categories\n",
      "Feature 'jockey' has 3 unique categories\n",
      "Feature 'gear' has 5 unique categories\n"
     ]
    }
   ],
   "source": [
    "# Print object variable column\n",
    "for col_name in final_df.columns:\n",
    "    if final_df[col_name].dtypes == 'object':\n",
    "        unique_cat = len(final_df[col_name].unique())\n",
    "        print(\"Feature '{col_name}' has {unique_cat} unique categories\".format(col_name=col_name, unique_cat=unique_cat))"
   ]
  },
  {
   "cell_type": "code",
   "execution_count": 37,
   "id": "bNEDVMTR58A_",
   "metadata": {
    "colab": {
     "base_uri": "https://localhost:8080/"
    },
    "id": "bNEDVMTR58A_",
    "outputId": "8940dd7d-d887-41dc-a449-ca28cdce06cf",
    "scrolled": true
   },
   "outputs": [
    {
     "name": "stdout",
     "output_type": "stream",
     "text": [
      "Feature 'Race_Money' has 3781 unique categories\n",
      "Feature 'Track_position' has 30 unique categories\n",
      "Feature 'Top_speed' has 175 unique categories\n",
      "Feature 'prize_money' has 7206 unique categories\n"
     ]
    }
   ],
   "source": [
    "# Print numerical columns\n",
    "for col_name in final_df.columns:\n",
    "    if final_df[col_name].dtypes == 'float64':\n",
    "        unique_cat = len(final_df[col_name].unique())\n",
    "        print(\"Feature '{col_name}' has {unique_cat} unique categories\".format(col_name=col_name, unique_cat=unique_cat))"
   ]
  },
  {
   "cell_type": "code",
   "execution_count": 38,
   "id": "zV3YZLKj6CQE",
   "metadata": {
    "colab": {
     "base_uri": "https://localhost:8080/"
    },
    "id": "zV3YZLKj6CQE",
    "outputId": "73c8b565-26a1-412a-a20e-8b450633f0f0"
   },
   "outputs": [
    {
     "data": {
      "text/plain": [
       "Date               0\n",
       "course             0\n",
       "band               0\n",
       "Distance           0\n",
       "Track_condition    0\n",
       "season             0\n",
       "race_group         0\n",
       "race_type          0\n",
       "Race_Money         0\n",
       "trainer            0\n",
       "jockey             0\n",
       "Track_position     0\n",
       "age                0\n",
       "Weight             0\n",
       "gear               0\n",
       "Top_speed          0\n",
       "Winner             0\n",
       "prize_money        0\n",
       "dtype: int64"
      ]
     },
     "execution_count": 38,
     "metadata": {},
     "output_type": "execute_result"
    }
   ],
   "source": [
    "final_df.isnull().sum()"
   ]
  },
  {
   "cell_type": "code",
   "execution_count": 39,
   "id": "dBJrLbHy6CUO",
   "metadata": {
    "colab": {
     "base_uri": "https://localhost:8080/"
    },
    "id": "dBJrLbHy6CUO",
    "outputId": "52ecb6b2-2989-4d44-f8ea-e504bbbc1226"
   },
   "outputs": [
    {
     "data": {
      "text/plain": [
       "189       False\n",
       "191       False\n",
       "297       False\n",
       "387       False\n",
       "432       False\n",
       "          ...  \n",
       "744325    False\n",
       "744327    False\n",
       "744328    False\n",
       "744345    False\n",
       "744346    False\n",
       "Length: 140461, dtype: bool"
      ]
     },
     "execution_count": 39,
     "metadata": {},
     "output_type": "execute_result"
    }
   ],
   "source": [
    "final_df.duplicated()"
   ]
  },
  {
   "cell_type": "code",
   "execution_count": 40,
   "id": "r1eIRNhA6sAN",
   "metadata": {
    "colab": {
     "base_uri": "https://localhost:8080/",
     "height": 167
    },
    "id": "r1eIRNhA6sAN",
    "outputId": "1dba5b93-8e66-478d-edc0-7c2e272c8283"
   },
   "outputs": [
    {
     "data": {
      "text/html": [
       "<div>\n",
       "<style scoped>\n",
       "    .dataframe tbody tr th:only-of-type {\n",
       "        vertical-align: middle;\n",
       "    }\n",
       "\n",
       "    .dataframe tbody tr th {\n",
       "        vertical-align: top;\n",
       "    }\n",
       "\n",
       "    .dataframe thead th {\n",
       "        text-align: right;\n",
       "    }\n",
       "</style>\n",
       "<table border=\"1\" class=\"dataframe\">\n",
       "  <thead>\n",
       "    <tr style=\"text-align: right;\">\n",
       "      <th></th>\n",
       "      <th>Date</th>\n",
       "      <th>course</th>\n",
       "      <th>band</th>\n",
       "      <th>Distance</th>\n",
       "      <th>Track_condition</th>\n",
       "      <th>season</th>\n",
       "      <th>race_group</th>\n",
       "      <th>race_type</th>\n",
       "      <th>Race_Money</th>\n",
       "      <th>trainer</th>\n",
       "      <th>jockey</th>\n",
       "      <th>Track_position</th>\n",
       "      <th>age</th>\n",
       "      <th>Weight</th>\n",
       "      <th>gear</th>\n",
       "      <th>Top_speed</th>\n",
       "      <th>Winner</th>\n",
       "      <th>prize_money</th>\n",
       "    </tr>\n",
       "  </thead>\n",
       "  <tbody>\n",
       "    <tr>\n",
       "      <th>189</th>\n",
       "      <td>2005-06-02</td>\n",
       "      <td>other</td>\n",
       "      <td>other</td>\n",
       "      <td>3200</td>\n",
       "      <td>other</td>\n",
       "      <td>5</td>\n",
       "      <td>Hurdle</td>\n",
       "      <td>Handicap</td>\n",
       "      <td>11568.0</td>\n",
       "      <td>other</td>\n",
       "      <td>other</td>\n",
       "      <td>3.0</td>\n",
       "      <td>5</td>\n",
       "      <td>157</td>\n",
       "      <td>t</td>\n",
       "      <td>93.0</td>\n",
       "      <td>0</td>\n",
       "      <td>852.0</td>\n",
       "    </tr>\n",
       "    <tr>\n",
       "      <th>191</th>\n",
       "      <td>2005-06-02</td>\n",
       "      <td>other</td>\n",
       "      <td>other</td>\n",
       "      <td>3200</td>\n",
       "      <td>other</td>\n",
       "      <td>5</td>\n",
       "      <td>Hurdle</td>\n",
       "      <td>Handicap</td>\n",
       "      <td>11568.0</td>\n",
       "      <td>other</td>\n",
       "      <td>other</td>\n",
       "      <td>5.0</td>\n",
       "      <td>4</td>\n",
       "      <td>150</td>\n",
       "      <td>t</td>\n",
       "      <td>79.0</td>\n",
       "      <td>0</td>\n",
       "      <td>0.0</td>\n",
       "    </tr>\n",
       "  </tbody>\n",
       "</table>\n",
       "</div>"
      ],
      "text/plain": [
       "           Date course   band  Distance Track_condition  season race_group  \\\n",
       "189  2005-06-02  other  other      3200           other       5     Hurdle   \n",
       "191  2005-06-02  other  other      3200           other       5     Hurdle   \n",
       "\n",
       "    race_type  Race_Money trainer jockey  Track_position  age  Weight gear  \\\n",
       "189  Handicap     11568.0   other  other             3.0    5     157    t   \n",
       "191  Handicap     11568.0   other  other             5.0    4     150    t   \n",
       "\n",
       "     Top_speed  Winner  prize_money  \n",
       "189       93.0       0        852.0  \n",
       "191       79.0       0          0.0  "
      ]
     },
     "execution_count": 40,
     "metadata": {},
     "output_type": "execute_result"
    }
   ],
   "source": [
    "final_df.head(2)"
   ]
  },
  {
   "cell_type": "code",
   "execution_count": 41,
   "id": "Wp73vNMU6sFY",
   "metadata": {
    "colab": {
     "base_uri": "https://localhost:8080/"
    },
    "id": "Wp73vNMU6sFY",
    "outputId": "a341f575-0e8f-4041-9040-9f3493eecf5d"
   },
   "outputs": [
    {
     "data": {
      "text/plain": [
       "(140461, 18)"
      ]
     },
     "execution_count": 41,
     "metadata": {},
     "output_type": "execute_result"
    }
   ],
   "source": [
    "final_df.shape"
   ]
  },
  {
   "cell_type": "code",
   "execution_count": 42,
   "id": "543cc6d9",
   "metadata": {},
   "outputs": [],
   "source": [
    "final_df.reset_index(drop=True, inplace=True)"
   ]
  },
  {
   "cell_type": "code",
   "execution_count": 43,
   "id": "911a076c",
   "metadata": {},
   "outputs": [
    {
     "data": {
      "text/html": [
       "<div>\n",
       "<style scoped>\n",
       "    .dataframe tbody tr th:only-of-type {\n",
       "        vertical-align: middle;\n",
       "    }\n",
       "\n",
       "    .dataframe tbody tr th {\n",
       "        vertical-align: top;\n",
       "    }\n",
       "\n",
       "    .dataframe thead th {\n",
       "        text-align: right;\n",
       "    }\n",
       "</style>\n",
       "<table border=\"1\" class=\"dataframe\">\n",
       "  <thead>\n",
       "    <tr style=\"text-align: right;\">\n",
       "      <th></th>\n",
       "      <th>Date</th>\n",
       "      <th>course</th>\n",
       "      <th>band</th>\n",
       "      <th>Distance</th>\n",
       "      <th>Track_condition</th>\n",
       "      <th>season</th>\n",
       "      <th>race_group</th>\n",
       "      <th>race_type</th>\n",
       "      <th>Race_Money</th>\n",
       "      <th>trainer</th>\n",
       "      <th>jockey</th>\n",
       "      <th>Track_position</th>\n",
       "      <th>age</th>\n",
       "      <th>Weight</th>\n",
       "      <th>gear</th>\n",
       "      <th>Top_speed</th>\n",
       "      <th>Winner</th>\n",
       "      <th>prize_money</th>\n",
       "    </tr>\n",
       "  </thead>\n",
       "  <tbody>\n",
       "    <tr>\n",
       "      <th>0</th>\n",
       "      <td>2005-06-02</td>\n",
       "      <td>other</td>\n",
       "      <td>other</td>\n",
       "      <td>3200</td>\n",
       "      <td>other</td>\n",
       "      <td>5</td>\n",
       "      <td>Hurdle</td>\n",
       "      <td>Handicap</td>\n",
       "      <td>11568.0</td>\n",
       "      <td>other</td>\n",
       "      <td>other</td>\n",
       "      <td>3.0</td>\n",
       "      <td>5</td>\n",
       "      <td>157</td>\n",
       "      <td>t</td>\n",
       "      <td>93.0</td>\n",
       "      <td>0</td>\n",
       "      <td>852.0</td>\n",
       "    </tr>\n",
       "    <tr>\n",
       "      <th>1</th>\n",
       "      <td>2005-06-02</td>\n",
       "      <td>other</td>\n",
       "      <td>other</td>\n",
       "      <td>3200</td>\n",
       "      <td>other</td>\n",
       "      <td>5</td>\n",
       "      <td>Hurdle</td>\n",
       "      <td>Handicap</td>\n",
       "      <td>11568.0</td>\n",
       "      <td>other</td>\n",
       "      <td>other</td>\n",
       "      <td>5.0</td>\n",
       "      <td>4</td>\n",
       "      <td>150</td>\n",
       "      <td>t</td>\n",
       "      <td>79.0</td>\n",
       "      <td>0</td>\n",
       "      <td>0.0</td>\n",
       "    </tr>\n",
       "  </tbody>\n",
       "</table>\n",
       "</div>"
      ],
      "text/plain": [
       "         Date course   band  Distance Track_condition  season race_group  \\\n",
       "0  2005-06-02  other  other      3200           other       5     Hurdle   \n",
       "1  2005-06-02  other  other      3200           other       5     Hurdle   \n",
       "\n",
       "  race_type  Race_Money trainer jockey  Track_position  age  Weight gear  \\\n",
       "0  Handicap     11568.0   other  other             3.0    5     157    t   \n",
       "1  Handicap     11568.0   other  other             5.0    4     150    t   \n",
       "\n",
       "   Top_speed  Winner  prize_money  \n",
       "0       93.0       0        852.0  \n",
       "1       79.0       0          0.0  "
      ]
     },
     "execution_count": 43,
     "metadata": {},
     "output_type": "execute_result"
    }
   ],
   "source": [
    "final_df.head(2)"
   ]
  },
  {
   "cell_type": "code",
   "execution_count": 44,
   "id": "99611d46",
   "metadata": {},
   "outputs": [],
   "source": [
    "final_df.to_csv('madata.csv', index=False)"
   ]
  },
  {
   "cell_type": "code",
   "execution_count": 45,
   "id": "9f955675",
   "metadata": {},
   "outputs": [],
   "source": [
    "final_df.to_csv('machine_data.csv', index=False)"
   ]
  },
  {
   "cell_type": "code",
   "execution_count": 46,
   "id": "bf8be835",
   "metadata": {},
   "outputs": [],
   "source": [
    "final_df.to_csv('machine1_data.csv', index=False)"
   ]
  },
  {
   "cell_type": "code",
   "execution_count": 47,
   "id": "6f0826ac",
   "metadata": {},
   "outputs": [],
   "source": [
    "final_df.to_csv('machine11_data.csv', index=False)"
   ]
  },
  {
   "cell_type": "code",
   "execution_count": null,
   "id": "690768bc",
   "metadata": {},
   "outputs": [],
   "source": []
  }
 ],
 "metadata": {
  "colab": {
   "name": "p4.ipynb",
   "provenance": []
  },
  "kernelspec": {
   "display_name": "Python 3",
   "language": "python",
   "name": "python3"
  },
  "language_info": {
   "codemirror_mode": {
    "name": "ipython",
    "version": 3
   },
   "file_extension": ".py",
   "mimetype": "text/x-python",
   "name": "python",
   "nbconvert_exporter": "python",
   "pygments_lexer": "ipython3",
   "version": "3.8.8"
  }
 },
 "nbformat": 4,
 "nbformat_minor": 5
}
